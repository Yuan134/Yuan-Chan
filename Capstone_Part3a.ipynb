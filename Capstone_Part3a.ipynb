{
 "cells": [
  {
   "cell_type": "markdown",
   "metadata": {},
   "source": [
    "# PART 3a - BASIC FORWARD FEED MULTI-LAYER PERCEPTRON MODEL "
   ]
  },
  {
   "cell_type": "code",
   "execution_count": 1,
   "metadata": {
    "id": "DnUR-Pq6930W"
   },
   "outputs": [],
   "source": [
    "## Import Libraries\n",
    "import pandas as pd\n",
    "import numpy as np\n",
    "import time"
   ]
  },
  {
   "cell_type": "code",
   "execution_count": 2,
   "metadata": {
    "id": "4gs9htvM7n_x"
   },
   "outputs": [],
   "source": [
    "# Run this to ensure TensorFlow 2.x is used\n",
    "try:\n",
    "  # %tensorflow_version only exists in Colab.\n",
    "  %tensorflow_version 2.x\n",
    "except Exception:\n",
    "  pass"
   ]
  },
  {
   "cell_type": "code",
   "execution_count": 4,
   "metadata": {
    "id": "XYYDvoskkE61"
   },
   "outputs": [],
   "source": [
    "import tensorflow as tf\n",
    "\n",
    "from tensorflow.keras.preprocessing.text import Tokenizer\n",
    "from tensorflow.keras.preprocessing.sequence import pad_sequences"
   ]
  },
  {
   "cell_type": "code",
   "execution_count": 5,
   "metadata": {
    "id": "0eJSTTYnkJQd"
   },
   "outputs": [],
   "source": [
    "vocab_size = 10000\n",
    "embedding_dim = 16\n",
    "max_length = 100\n",
    "trunc_type='post'\n",
    "padding_type='post'\n",
    "oov_tok = \"<OOV>\"\n",
    "training_size = 120000\n"
   ]
  },
  {
   "cell_type": "code",
   "execution_count": null,
   "metadata": {
    "colab": {
     "base_uri": "https://localhost:8080/",
     "height": 72,
     "resources": {
      "http://localhost:8080/nbextensions/google.colab/files.js": {
       "data": "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",
       "headers": [
        [
         "content-type",
         "application/javascript"
        ]
       ],
       "ok": true,
       "status": 200,
       "status_text": ""
      }
     }
    },
    "id": "ad2afa10",
    "outputId": "2577f7f0-7bcf-4a93-9941-f80017762c05"
   },
   "outputs": [],
   "source": [
    "# Load dataset\n",
    "from google.colab import files\n",
    "uploaded = files.upload()"
   ]
  },
  {
   "cell_type": "code",
   "execution_count": null,
   "metadata": {
    "id": "2ghe1fZ5iRS2"
   },
   "outputs": [],
   "source": [
    "import io\n",
    "sar_df = pd.read_csv(io.BytesIO(uploaded['sar_df.csv']), index_col=0)"
   ]
  },
  {
   "cell_type": "code",
   "execution_count": null,
   "metadata": {},
   "outputs": [],
   "source": [
    "# Randomly shuffle dataset"
   ]
  },
  {
   "cell_type": "code",
   "execution_count": null,
   "metadata": {
    "colab": {
     "base_uri": "https://localhost:8080/",
     "height": 1000
    },
    "id": "MgkBk0b3-EfM",
    "outputId": "6f2f0ed8-4cfd-4e29-ef39-f30b49c74b94"
   },
   "outputs": [
    {
     "data": {
      "text/html": [
       "<div>\n",
       "<style scoped>\n",
       "    .dataframe tbody tr th:only-of-type {\n",
       "        vertical-align: middle;\n",
       "    }\n",
       "\n",
       "    .dataframe tbody tr th {\n",
       "        vertical-align: top;\n",
       "    }\n",
       "\n",
       "    .dataframe thead th {\n",
       "        text-align: right;\n",
       "    }\n",
       "</style>\n",
       "<table border=\"1\" class=\"dataframe\">\n",
       "  <thead>\n",
       "    <tr style=\"text-align: right;\">\n",
       "      <th></th>\n",
       "      <th>label</th>\n",
       "      <th>comment</th>\n",
       "      <th>author</th>\n",
       "      <th>subreddit</th>\n",
       "      <th>score</th>\n",
       "      <th>ups</th>\n",
       "      <th>downs</th>\n",
       "      <th>created_utc</th>\n",
       "      <th>parent_comment</th>\n",
       "      <th>w_cnt_comment</th>\n",
       "      <th>w_cnt_pcomment</th>\n",
       "      <th>pcomment_red</th>\n",
       "      <th>new_comment</th>\n",
       "      <th>new_pcomment_red</th>\n",
       "      <th>year</th>\n",
       "      <th>month</th>\n",
       "      <th>hour</th>\n",
       "      <th>comment_polar</th>\n",
       "      <th>parent_comment_polar</th>\n",
       "      <th>polar</th>\n",
       "      <th>char_count</th>\n",
       "      <th>word_count</th>\n",
       "      <th>word_density</th>\n",
       "      <th>punctuation_count</th>\n",
       "      <th>uppercase_word_count</th>\n",
       "      <th>new_comment_lemm</th>\n",
       "      <th>new_pcomment_lemm</th>\n",
       "    </tr>\n",
       "  </thead>\n",
       "  <tbody>\n",
       "    <tr>\n",
       "      <th>488303</th>\n",
       "      <td>0</td>\n",
       "      <td>Just curious, why don't you start kd over pg?</td>\n",
       "      <td>amad3000</td>\n",
       "      <td>NBA2k</td>\n",
       "      <td>1</td>\n",
       "      <td>1</td>\n",
       "      <td>0</td>\n",
       "      <td>2016-03-12 17:39:41</td>\n",
       "      <td>got about 545k mt. any(if any) suggestions on ...</td>\n",
       "      <td>9</td>\n",
       "      <td>15</td>\n",
       "      <td>got about 545k mt. any(if any) suggestions on ...</td>\n",
       "      <td>just curious why dont you start kd over pg</td>\n",
       "      <td>got about k mt anyif any suggestions on what t...</td>\n",
       "      <td>2016</td>\n",
       "      <td>3</td>\n",
       "      <td>17</td>\n",
       "      <td>-0.100000</td>\n",
       "      <td>0.000000</td>\n",
       "      <td>0.100000</td>\n",
       "      <td>45</td>\n",
       "      <td>9</td>\n",
       "      <td>4.500000</td>\n",
       "      <td>3</td>\n",
       "      <td>0</td>\n",
       "      <td>just curious why do nt you start kd over pg</td>\n",
       "      <td>get about k mt anyif any suggestion on what to...</td>\n",
       "    </tr>\n",
       "    <tr>\n",
       "      <th>631998</th>\n",
       "      <td>1</td>\n",
       "      <td>ELI5: why are so many mods so obsessed with sh...</td>\n",
       "      <td>turtleeatingalderman</td>\n",
       "      <td>TodayIGrandstanded</td>\n",
       "      <td>4</td>\n",
       "      <td>4</td>\n",
       "      <td>0</td>\n",
       "      <td>2015-10-18 04:55:03</td>\n",
       "      <td>Please include a small explanation (like one s...</td>\n",
       "      <td>16</td>\n",
       "      <td>17</td>\n",
       "      <td>Please include a small explanation (like one s...</td>\n",
       "      <td>eli why are so many mods so obsessed with show...</td>\n",
       "      <td>please include a small explanation like one se...</td>\n",
       "      <td>2015</td>\n",
       "      <td>10</td>\n",
       "      <td>4</td>\n",
       "      <td>0.000000</td>\n",
       "      <td>-0.250000</td>\n",
       "      <td>0.250000</td>\n",
       "      <td>90</td>\n",
       "      <td>16</td>\n",
       "      <td>5.294118</td>\n",
       "      <td>2</td>\n",
       "      <td>1</td>\n",
       "      <td>eli why be so many mod so obsess with showcase...</td>\n",
       "      <td>please include a small explanation like one se...</td>\n",
       "    </tr>\n",
       "    <tr>\n",
       "      <th>116487</th>\n",
       "      <td>1</td>\n",
       "      <td>oh my god... give them a PC case, you piece of...</td>\n",
       "      <td>8funnydude</td>\n",
       "      <td>pcmasterrace</td>\n",
       "      <td>1</td>\n",
       "      <td>-1</td>\n",
       "      <td>-1</td>\n",
       "      <td>2016-11-02 05:08:00</td>\n",
       "      <td>Ascended my neighbors with some parts I had la...</td>\n",
       "      <td>13</td>\n",
       "      <td>24</td>\n",
       "      <td>Ascended my neighbors with some parts I had la...</td>\n",
       "      <td>oh my god give them a pc case you piece of wet...</td>\n",
       "      <td>ascended my neighbors with some parts i had la...</td>\n",
       "      <td>2016</td>\n",
       "      <td>11</td>\n",
       "      <td>5</td>\n",
       "      <td>-0.100000</td>\n",
       "      <td>0.000000</td>\n",
       "      <td>0.100000</td>\n",
       "      <td>56</td>\n",
       "      <td>13</td>\n",
       "      <td>4.000000</td>\n",
       "      <td>5</td>\n",
       "      <td>1</td>\n",
       "      <td>oh my god give they a pc case you piece of wet...</td>\n",
       "      <td>ascend my neighbor with some part I have lay a...</td>\n",
       "    </tr>\n",
       "    <tr>\n",
       "      <th>221152</th>\n",
       "      <td>0</td>\n",
       "      <td>CNN = Clinton Neocon Network</td>\n",
       "      <td>_vOv_</td>\n",
       "      <td>politics</td>\n",
       "      <td>0</td>\n",
       "      <td>0</td>\n",
       "      <td>0</td>\n",
       "      <td>2016-05-02 17:23:09</td>\n",
       "      <td>Trump nailed this on the head. CNN = Clinton N...</td>\n",
       "      <td>5</td>\n",
       "      <td>11</td>\n",
       "      <td>Trump nailed this on the head. CNN = Clinton N...</td>\n",
       "      <td>cnn clinton neocon network</td>\n",
       "      <td>trump nailed this on the head cnn clinton news...</td>\n",
       "      <td>2016</td>\n",
       "      <td>5</td>\n",
       "      <td>17</td>\n",
       "      <td>0.000000</td>\n",
       "      <td>0.000000</td>\n",
       "      <td>0.000000</td>\n",
       "      <td>28</td>\n",
       "      <td>5</td>\n",
       "      <td>4.666667</td>\n",
       "      <td>1</td>\n",
       "      <td>1</td>\n",
       "      <td>cnn clinton neocon network</td>\n",
       "      <td>trump nail this on the head cnn clinton news n...</td>\n",
       "    </tr>\n",
       "    <tr>\n",
       "      <th>397186</th>\n",
       "      <td>1</td>\n",
       "      <td>all they have to do is hire micheal bay, probl...</td>\n",
       "      <td>mastergenera1</td>\n",
       "      <td>Warthunder</td>\n",
       "      <td>1</td>\n",
       "      <td>1</td>\n",
       "      <td>0</td>\n",
       "      <td>2016-04-21 13:12:19</td>\n",
       "      <td>Quick, marketing department, we need moar expl...</td>\n",
       "      <td>11</td>\n",
       "      <td>28</td>\n",
       "      <td>Quick, marketing department, we need moar expl...</td>\n",
       "      <td>all they have to do is hire micheal bay proble...</td>\n",
       "      <td>quick marketing department we need moar explos...</td>\n",
       "      <td>2016</td>\n",
       "      <td>4</td>\n",
       "      <td>13</td>\n",
       "      <td>0.000000</td>\n",
       "      <td>0.333333</td>\n",
       "      <td>0.333333</td>\n",
       "      <td>55</td>\n",
       "      <td>11</td>\n",
       "      <td>4.583333</td>\n",
       "      <td>1</td>\n",
       "      <td>0</td>\n",
       "      <td>all they have to do be hire micheal bay proble...</td>\n",
       "      <td>quick marketing department we need moar explos...</td>\n",
       "    </tr>\n",
       "    <tr>\n",
       "      <th>...</th>\n",
       "      <td>...</td>\n",
       "      <td>...</td>\n",
       "      <td>...</td>\n",
       "      <td>...</td>\n",
       "      <td>...</td>\n",
       "      <td>...</td>\n",
       "      <td>...</td>\n",
       "      <td>...</td>\n",
       "      <td>...</td>\n",
       "      <td>...</td>\n",
       "      <td>...</td>\n",
       "      <td>...</td>\n",
       "      <td>...</td>\n",
       "      <td>...</td>\n",
       "      <td>...</td>\n",
       "      <td>...</td>\n",
       "      <td>...</td>\n",
       "      <td>...</td>\n",
       "      <td>...</td>\n",
       "      <td>...</td>\n",
       "      <td>...</td>\n",
       "      <td>...</td>\n",
       "      <td>...</td>\n",
       "      <td>...</td>\n",
       "      <td>...</td>\n",
       "      <td>...</td>\n",
       "      <td>...</td>\n",
       "    </tr>\n",
       "    <tr>\n",
       "      <th>616921</th>\n",
       "      <td>0</td>\n",
       "      <td>its not real peanuts.</td>\n",
       "      <td>Disheartend</td>\n",
       "      <td>runescape</td>\n",
       "      <td>1</td>\n",
       "      <td>1</td>\n",
       "      <td>0</td>\n",
       "      <td>2015-05-19 15:01:50</td>\n",
       "      <td>I'm allergic to peanuts though :(</td>\n",
       "      <td>4</td>\n",
       "      <td>6</td>\n",
       "      <td>I'm allergic to peanuts though :(</td>\n",
       "      <td>its not real peanuts</td>\n",
       "      <td>im allergic to peanuts though</td>\n",
       "      <td>2015</td>\n",
       "      <td>5</td>\n",
       "      <td>15</td>\n",
       "      <td>-0.100000</td>\n",
       "      <td>-0.750000</td>\n",
       "      <td>0.650000</td>\n",
       "      <td>21</td>\n",
       "      <td>4</td>\n",
       "      <td>4.200000</td>\n",
       "      <td>1</td>\n",
       "      <td>0</td>\n",
       "      <td>its not real peanut</td>\n",
       "      <td>I m allergic to peanut though</td>\n",
       "    </tr>\n",
       "    <tr>\n",
       "      <th>1006703</th>\n",
       "      <td>1</td>\n",
       "      <td>You forgot the</td>\n",
       "      <td>foxfaction</td>\n",
       "      <td>todayilearned</td>\n",
       "      <td>1</td>\n",
       "      <td>1</td>\n",
       "      <td>0</td>\n",
       "      <td>2009-12-27 14:26:31</td>\n",
       "      <td>Yep, Adam and Eve.</td>\n",
       "      <td>3</td>\n",
       "      <td>4</td>\n",
       "      <td>Yep, Adam and Eve.</td>\n",
       "      <td>you forgot the</td>\n",
       "      <td>yep adam and eve</td>\n",
       "      <td>2009</td>\n",
       "      <td>12</td>\n",
       "      <td>14</td>\n",
       "      <td>0.000000</td>\n",
       "      <td>0.000000</td>\n",
       "      <td>0.000000</td>\n",
       "      <td>14</td>\n",
       "      <td>3</td>\n",
       "      <td>3.500000</td>\n",
       "      <td>0</td>\n",
       "      <td>0</td>\n",
       "      <td>you forget the</td>\n",
       "      <td>yep adam and eve</td>\n",
       "    </tr>\n",
       "    <tr>\n",
       "      <th>61530</th>\n",
       "      <td>1</td>\n",
       "      <td>Well, you do call yourself a destiny fan.</td>\n",
       "      <td>SmawCity</td>\n",
       "      <td>news</td>\n",
       "      <td>2</td>\n",
       "      <td>-1</td>\n",
       "      <td>-1</td>\n",
       "      <td>2016-11-11 22:58:57</td>\n",
       "      <td>I was mostly concerned with politics and law Y...</td>\n",
       "      <td>8</td>\n",
       "      <td>16</td>\n",
       "      <td>I was mostly concerned with politics and law Y...</td>\n",
       "      <td>well you do call yourself a destiny fan</td>\n",
       "      <td>i was mostly concerned with politics and law y...</td>\n",
       "      <td>2016</td>\n",
       "      <td>11</td>\n",
       "      <td>22</td>\n",
       "      <td>0.000000</td>\n",
       "      <td>0.500000</td>\n",
       "      <td>0.500000</td>\n",
       "      <td>41</td>\n",
       "      <td>8</td>\n",
       "      <td>4.555556</td>\n",
       "      <td>2</td>\n",
       "      <td>0</td>\n",
       "      <td>well you do call yourself a destiny fan</td>\n",
       "      <td>I be mostly concerned with politic and law yup...</td>\n",
       "    </tr>\n",
       "    <tr>\n",
       "      <th>286009</th>\n",
       "      <td>1</td>\n",
       "      <td>Cut him in half and send one half to Algeria a...</td>\n",
       "      <td>TheSereneSufi</td>\n",
       "      <td>exmuslim</td>\n",
       "      <td>1</td>\n",
       "      <td>1</td>\n",
       "      <td>0</td>\n",
       "      <td>2016-08-05 03:34:08</td>\n",
       "      <td>Habitat? With all due respect, they are from f...</td>\n",
       "      <td>15</td>\n",
       "      <td>95</td>\n",
       "      <td>Habitat? With all due respect, they are from f...</td>\n",
       "      <td>cut him in half and send one half to algeria a...</td>\n",
       "      <td>habitat with all due respect they are from for...</td>\n",
       "      <td>2016</td>\n",
       "      <td>8</td>\n",
       "      <td>3</td>\n",
       "      <td>-0.166667</td>\n",
       "      <td>-0.211111</td>\n",
       "      <td>0.044444</td>\n",
       "      <td>68</td>\n",
       "      <td>15</td>\n",
       "      <td>4.250000</td>\n",
       "      <td>0</td>\n",
       "      <td>0</td>\n",
       "      <td>cut he in half and send one half to algeria an...</td>\n",
       "      <td>habitat with all due respect they be from form...</td>\n",
       "    </tr>\n",
       "    <tr>\n",
       "      <th>111914</th>\n",
       "      <td>0</td>\n",
       "      <td>Not sure if you're serious, but this doesn't i...</td>\n",
       "      <td>blindsight</td>\n",
       "      <td>retrogaming</td>\n",
       "      <td>1</td>\n",
       "      <td>-1</td>\n",
       "      <td>-1</td>\n",
       "      <td>2016-10-30 05:44:12</td>\n",
       "      <td>Uhh you are missing the best one other than Me...</td>\n",
       "      <td>15</td>\n",
       "      <td>34</td>\n",
       "      <td>Uhh you are missing the best one other than Me...</td>\n",
       "      <td>not sure if youre serious but this doesnt incl...</td>\n",
       "      <td>uhh you are missing the best one other than me...</td>\n",
       "      <td>2016</td>\n",
       "      <td>10</td>\n",
       "      <td>5</td>\n",
       "      <td>-0.291667</td>\n",
       "      <td>0.104167</td>\n",
       "      <td>0.395833</td>\n",
       "      <td>92</td>\n",
       "      <td>15</td>\n",
       "      <td>5.750000</td>\n",
       "      <td>6</td>\n",
       "      <td>1</td>\n",
       "      <td>not sure if you re serious but this do nt incl...</td>\n",
       "      <td>uhh you be miss the good one other than mega m...</td>\n",
       "    </tr>\n",
       "  </tbody>\n",
       "</table>\n",
       "<p>150000 rows × 27 columns</p>\n",
       "</div>"
      ],
      "text/plain": [
       "         label  ...                                  new_pcomment_lemm\n",
       "488303       0  ...  get about k mt anyif any suggestion on what to...\n",
       "631998       1  ...  please include a small explanation like one se...\n",
       "116487       1  ...  ascend my neighbor with some part I have lay a...\n",
       "221152       0  ...  trump nail this on the head cnn clinton news n...\n",
       "397186       1  ...  quick marketing department we need moar explos...\n",
       "...        ...  ...                                                ...\n",
       "616921       0  ...                      I m allergic to peanut though\n",
       "1006703      1  ...                                   yep adam and eve\n",
       "61530        1  ...  I be mostly concerned with politic and law yup...\n",
       "286009       1  ...  habitat with all due respect they be from form...\n",
       "111914       0  ...  uhh you be miss the good one other than mega m...\n",
       "\n",
       "[150000 rows x 27 columns]"
      ]
     },
     "execution_count": 9,
     "metadata": {
      "tags": []
     },
     "output_type": "execute_result"
    }
   ],
   "source": [
    "df = sar_df.sample(frac = 1, random_state = 0)\n",
    "df"
   ]
  },
  {
   "cell_type": "code",
   "execution_count": null,
   "metadata": {
    "id": "Y4CAV4sEJdww"
   },
   "outputs": [],
   "source": [
    "X = df[\"new_comment_lemm\"].values.astype(str)\n",
    "y = df['label'].values"
   ]
  },
  {
   "cell_type": "code",
   "execution_count": null,
   "metadata": {
    "colab": {
     "base_uri": "https://localhost:8080/"
    },
    "id": "xccVoSvWQLSC",
    "outputId": "ab351a38-f7a7-4ca4-9e88-f35c78b8ca28"
   },
   "outputs": [
    {
     "data": {
      "text/plain": [
       "array([0, 1, 1, ..., 1, 1, 0])"
      ]
     },
     "execution_count": 11,
     "metadata": {
      "tags": []
     },
     "output_type": "execute_result"
    }
   ],
   "source": [
    "y"
   ]
  },
  {
   "cell_type": "code",
   "execution_count": null,
   "metadata": {
    "colab": {
     "base_uri": "https://localhost:8080/"
    },
    "id": "S2dJ3R1rMwpk",
    "outputId": "9c5d1dcc-451d-4142-a703-1f748bbe2ddd"
   },
   "outputs": [
    {
     "data": {
      "text/plain": [
       "150000"
      ]
     },
     "execution_count": 12,
     "metadata": {
      "tags": []
     },
     "output_type": "execute_result"
    }
   ],
   "source": [
    "len(X)"
   ]
  },
  {
   "cell_type": "code",
   "execution_count": null,
   "metadata": {
    "id": "oaLaaqhNkUPd"
   },
   "outputs": [],
   "source": [
    "sentences = []\n",
    "labels = []\n",
    "\n",
    "for i in range(len(X)):\n",
    "  sentences.append(X[i])\n",
    "  labels.append(y[i])\n",
    "  "
   ]
  },
  {
   "cell_type": "code",
   "execution_count": null,
   "metadata": {
    "id": "S1sD-7v0kYWk"
   },
   "outputs": [],
   "source": [
    "training_sentences = sentences[0:training_size]\n",
    "testing_sentences = sentences[training_size:]\n",
    "training_labels = labels[0:training_size]\n",
    "testing_labels = labels[training_size:]"
   ]
  },
  {
   "cell_type": "code",
   "execution_count": null,
   "metadata": {
    "id": "3u8UB0MCkZ5N"
   },
   "outputs": [],
   "source": [
    "tokenizer = Tokenizer(num_words=vocab_size, oov_token=oov_tok)\n",
    "tokenizer.fit_on_texts(training_sentences)\n",
    "\n",
    "word_index = tokenizer.word_index\n",
    "\n",
    "training_sequences = tokenizer.texts_to_sequences(training_sentences)\n",
    "training_padded = pad_sequences(training_sequences, maxlen=max_length, padding=padding_type, truncating=trunc_type)\n",
    "\n",
    "testing_sequences = tokenizer.texts_to_sequences(testing_sentences)\n",
    "testing_padded = pad_sequences(testing_sequences, maxlen=max_length, padding=padding_type, truncating=trunc_type)"
   ]
  },
  {
   "cell_type": "code",
   "execution_count": null,
   "metadata": {
    "id": "GrAlWBKf99Ya"
   },
   "outputs": [],
   "source": [
    "# Need this block to get it to work with TensorFlow 2.x\n",
    "import numpy as np\n",
    "training_padded = np.array(training_padded)\n",
    "training_labels = np.array(training_labels)\n",
    "testing_padded = np.array(testing_padded)\n",
    "testing_labels = np.array(testing_labels)"
   ]
  },
  {
   "cell_type": "code",
   "execution_count": null,
   "metadata": {
    "id": "FufaT4vlkiDE"
   },
   "outputs": [],
   "source": [
    "model = tf.keras.Sequential([\n",
    "    tf.keras.layers.Embedding(vocab_size, embedding_dim, input_length=max_length),\n",
    "    tf.keras.layers.GlobalAveragePooling1D(),\n",
    "    tf.keras.layers.Dense(24, activation='relu'),\n",
    "    tf.keras.layers.Dense(1, activation='sigmoid')\n",
    "])\n",
    "model.compile(loss='binary_crossentropy',optimizer='adam',metrics=['accuracy'])"
   ]
  },
  {
   "cell_type": "code",
   "execution_count": null,
   "metadata": {
    "colab": {
     "base_uri": "https://localhost:8080/"
    },
    "id": "XfDt1hmYkiys",
    "outputId": "a4eada00-c5fd-4ddd-dff6-90d817ecbc76"
   },
   "outputs": [
    {
     "name": "stdout",
     "output_type": "stream",
     "text": [
      "Model: \"sequential\"\n",
      "_________________________________________________________________\n",
      "Layer (type)                 Output Shape              Param #   \n",
      "=================================================================\n",
      "embedding (Embedding)        (None, 100, 16)           160000    \n",
      "_________________________________________________________________\n",
      "global_average_pooling1d (Gl (None, 16)                0         \n",
      "_________________________________________________________________\n",
      "dense (Dense)                (None, 24)                408       \n",
      "_________________________________________________________________\n",
      "dense_1 (Dense)              (None, 1)                 25        \n",
      "=================================================================\n",
      "Total params: 160,433\n",
      "Trainable params: 160,433\n",
      "Non-trainable params: 0\n",
      "_________________________________________________________________\n"
     ]
    }
   ],
   "source": [
    "model.summary()\n"
   ]
  },
  {
   "cell_type": "code",
   "execution_count": null,
   "metadata": {
    "colab": {
     "base_uri": "https://localhost:8080/"
    },
    "id": "2DTKQFf1kkyc",
    "outputId": "845df8dc-2656-4c6f-f6e7-037868109776"
   },
   "outputs": [
    {
     "name": "stdout",
     "output_type": "stream",
     "text": [
      "Epoch 1/30\n",
      "3750/3750 - 18s - loss: 0.6371 - accuracy: 0.6280 - val_loss: 0.6015 - val_accuracy: 0.6770\n",
      "Epoch 2/30\n",
      "3750/3750 - 15s - loss: 0.5866 - accuracy: 0.6895 - val_loss: 0.5955 - val_accuracy: 0.6831\n",
      "Epoch 3/30\n",
      "3750/3750 - 14s - loss: 0.5716 - accuracy: 0.7025 - val_loss: 0.6059 - val_accuracy: 0.6576\n",
      "Epoch 4/30\n",
      "3750/3750 - 14s - loss: 0.5603 - accuracy: 0.7098 - val_loss: 0.5936 - val_accuracy: 0.6853\n",
      "Epoch 5/30\n",
      "3750/3750 - 14s - loss: 0.5523 - accuracy: 0.7171 - val_loss: 0.6002 - val_accuracy: 0.6760\n",
      "Epoch 6/30\n",
      "3750/3750 - 15s - loss: 0.5460 - accuracy: 0.7216 - val_loss: 0.5950 - val_accuracy: 0.6851\n",
      "Epoch 7/30\n",
      "3750/3750 - 15s - loss: 0.5411 - accuracy: 0.7246 - val_loss: 0.5980 - val_accuracy: 0.6828\n",
      "Epoch 8/30\n",
      "3750/3750 - 15s - loss: 0.5355 - accuracy: 0.7278 - val_loss: 0.6003 - val_accuracy: 0.6829\n",
      "Epoch 9/30\n",
      "3750/3750 - 14s - loss: 0.5312 - accuracy: 0.7321 - val_loss: 0.6024 - val_accuracy: 0.6865\n",
      "Epoch 10/30\n",
      "3750/3750 - 14s - loss: 0.5258 - accuracy: 0.7349 - val_loss: 0.6035 - val_accuracy: 0.6850\n",
      "Epoch 11/30\n",
      "3750/3750 - 15s - loss: 0.5210 - accuracy: 0.7383 - val_loss: 0.6112 - val_accuracy: 0.6842\n",
      "Epoch 12/30\n",
      "3750/3750 - 15s - loss: 0.5161 - accuracy: 0.7410 - val_loss: 0.6240 - val_accuracy: 0.6807\n",
      "Epoch 13/30\n",
      "3750/3750 - 15s - loss: 0.5118 - accuracy: 0.7452 - val_loss: 0.6130 - val_accuracy: 0.6818\n",
      "Epoch 14/30\n",
      "3750/3750 - 15s - loss: 0.5072 - accuracy: 0.7481 - val_loss: 0.6256 - val_accuracy: 0.6716\n",
      "Epoch 15/30\n",
      "3750/3750 - 15s - loss: 0.5033 - accuracy: 0.7503 - val_loss: 0.6348 - val_accuracy: 0.6738\n",
      "Epoch 16/30\n",
      "3750/3750 - 15s - loss: 0.4990 - accuracy: 0.7529 - val_loss: 0.6440 - val_accuracy: 0.6761\n",
      "Epoch 17/30\n",
      "3750/3750 - 15s - loss: 0.4946 - accuracy: 0.7562 - val_loss: 0.6493 - val_accuracy: 0.6729\n",
      "Epoch 18/30\n",
      "3750/3750 - 15s - loss: 0.4906 - accuracy: 0.7584 - val_loss: 0.6337 - val_accuracy: 0.6758\n",
      "Epoch 19/30\n",
      "3750/3750 - 14s - loss: 0.4865 - accuracy: 0.7609 - val_loss: 0.6430 - val_accuracy: 0.6742\n",
      "Epoch 20/30\n",
      "3750/3750 - 13s - loss: 0.4814 - accuracy: 0.7638 - val_loss: 0.6502 - val_accuracy: 0.6687\n",
      "Epoch 21/30\n",
      "3750/3750 - 14s - loss: 0.4759 - accuracy: 0.7678 - val_loss: 0.6528 - val_accuracy: 0.6755\n",
      "Epoch 22/30\n",
      "3750/3750 - 14s - loss: 0.4716 - accuracy: 0.7706 - val_loss: 0.6563 - val_accuracy: 0.6740\n",
      "Epoch 23/30\n",
      "3750/3750 - 15s - loss: 0.4662 - accuracy: 0.7733 - val_loss: 0.6602 - val_accuracy: 0.6734\n",
      "Epoch 24/30\n",
      "3750/3750 - 14s - loss: 0.4612 - accuracy: 0.7772 - val_loss: 0.6815 - val_accuracy: 0.6708\n",
      "Epoch 25/30\n",
      "3750/3750 - 14s - loss: 0.4562 - accuracy: 0.7802 - val_loss: 0.6934 - val_accuracy: 0.6734\n",
      "Epoch 26/30\n",
      "3750/3750 - 14s - loss: 0.4510 - accuracy: 0.7824 - val_loss: 0.6916 - val_accuracy: 0.6716\n",
      "Epoch 27/30\n",
      "3750/3750 - 14s - loss: 0.4459 - accuracy: 0.7866 - val_loss: 0.6964 - val_accuracy: 0.6717\n",
      "Epoch 28/30\n",
      "3750/3750 - 14s - loss: 0.4405 - accuracy: 0.7894 - val_loss: 0.7084 - val_accuracy: 0.6694\n",
      "Epoch 29/30\n",
      "3750/3750 - 15s - loss: 0.4363 - accuracy: 0.7915 - val_loss: 0.7145 - val_accuracy: 0.6653\n",
      "Epoch 30/30\n",
      "3750/3750 - 15s - loss: 0.4314 - accuracy: 0.7953 - val_loss: 0.7271 - val_accuracy: 0.6616\n"
     ]
    }
   ],
   "source": [
    "num_epochs = 30\n",
    "history = model.fit(training_padded, training_labels, epochs=num_epochs, validation_data=(testing_padded, testing_labels), verbose=2)"
   ]
  },
  {
   "cell_type": "code",
   "execution_count": null,
   "metadata": {
    "colab": {
     "base_uri": "https://localhost:8080/",
     "height": 541
    },
    "id": "2HYfBKXjkmU8",
    "outputId": "7452e9d9-9da8-493c-dcb5-8f125d2c3c5b"
   },
   "outputs": [
    {
     "data": {
      "image/png": "[encoded data removed]",
      "text/plain": [
       "<Figure size 432x288 with 1 Axes>"
      ]
     },
     "metadata": {
      "needs_background": "light",
      "tags": []
     },
     "output_type": "display_data"
    },
    {
     "data": {
      "image/png": "[encoded data removed]",
      "text/plain": [
       "<Figure size 432x288 with 1 Axes>"
      ]
     },
     "metadata": {
      "needs_background": "light",
      "tags": []
     },
     "output_type": "display_data"
    }
   ],
   "source": [
    "import matplotlib.pyplot as plt\n",
    "\n",
    "def plot_graphs(history, string):\n",
    "  plt.plot(history.history[string])\n",
    "  plt.plot(history.history['val_'+string])\n",
    "  plt.xlabel(\"Epochs\")\n",
    "  plt.ylabel(string)\n",
    "  plt.legend([string, 'val_'+string])\n",
    "  plt.show()\n",
    "  \n",
    "plot_graphs(history, \"accuracy\")\n",
    "plot_graphs(history, \"loss\")"
   ]
  },
  {
   "cell_type": "code",
   "execution_count": null,
   "metadata": {
    "colab": {
     "base_uri": "https://localhost:8080/"
    },
    "id": "cG8-ArY-qDcz",
    "outputId": "07055cb4-cce3-4684-cf3e-5fe7aa9bb284"
   },
   "outputs": [
    {
     "name": "stdout",
     "output_type": "stream",
     "text": [
      "[[0.54173595]\n",
      " [0.27295098]]\n"
     ]
    }
   ],
   "source": [
    "sentence = [\"granny starting to fear spiders in the garden might be real\", \"game of thrones season finale showing this sunday night\"]\n",
    "sequences = tokenizer.texts_to_sequences(sentence)\n",
    "padded = pad_sequences(sequences, maxlen=max_length, padding=padding_type, truncating=trunc_type)\n",
    "print(model.predict(padded))"
   ]
  }
 ],
 "metadata": {
  "accelerator": "GPU",
  "colab": {
   "collapsed_sections": [],
   "name": "Capstone_basic.ipynb",
   "provenance": []
  },
  "kernelspec": {
   "display_name": "Python 3",
   "language": "python",
   "name": "python3"
  },
  "language_info": {
   "codemirror_mode": {
    "name": "ipython",
    "version": 3
   },
   "file_extension": ".py",
   "mimetype": "text/x-python",
   "name": "python",
   "nbconvert_exporter": "python",
   "pygments_lexer": "ipython3",
   "version": "3.8.8"
  }
 },
 "nbformat": 4,
 "nbformat_minor": 1
}

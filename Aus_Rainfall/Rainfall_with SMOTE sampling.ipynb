{
 "cells": [
  {
   "attachments": {},
   "cell_type": "markdown",
   "id": "2d30c1e3",
   "metadata": {},
   "source": [
    "# RAINFALL IN AUSTRALIA\n",
    "\n",
    "CONTEXT:\n",
    "Predict next-day rain by training classification models on the target variable RainTomorrow.\n",
    "CONTENT:\n",
    "This dataset contains about 10 years of daily weather observations from many locations across Australia.\n",
    "RainTomorrow is the target variable to predict. It means -- did it rain the next day, Yes or No? This column is Yes if the rain for that day was 1mm or more.\n",
    "\n",
    "ORIGINAL STRUCTURE:\n",
    "145460 observations, 23 features\n",
    "\n",
    "SOURCE AND ACKNOWLEDGEMENTS:\n",
    "KAGGLE dataset “Rain in Australia” by Joe Young and other collaborators\n",
    "Observations were drawn from numerous weather stations. The daily observations are available from http://www.bom.gov.au/climate/data.\n",
    "An example of latest weather observations in Canberra: http://www.bom.gov.au/climate/dwo/IDCJDW2801.latest.shtml\n",
    "Definitions adapted from http://www.bom.gov.au/climate/dwo/IDCJDW0000.shtml\n",
    "Data source: http://www.bom.gov.au/climate/dwo/ and http://www.bom.gov.au/climate/data.\n",
    "Copyright Commonwealth of Australia 2010, Bureau of Meteorology.\n"
   ]
  },
  {
   "cell_type": "code",
   "execution_count": 1,
   "id": "76a46325",
   "metadata": {},
   "outputs": [],
   "source": [
    "#Import libraries\n",
    "\n",
    "# Standard imports\n",
    "import pandas as pd\n",
    "import numpy as np\n",
    "\n",
    "# Visualization tools\n",
    "import seaborn as sns\n",
    "import matplotlib.pyplot as plt\n",
    "%matplotlib inline\n",
    "\n",
    "# Preprocessing\n",
    "\n",
    "from sklearn.experimental import enable_iterative_imputer\n",
    "from imblearn.over_sampling import SMOTE\n",
    "from sklearn.preprocessing import StandardScaler\n",
    "\n",
    "# Modeling\n",
    "from sklearn.model_selection import train_test_split, GridSearchCV\n",
    "from sklearn.linear_model import LogisticRegression\n",
    "from sklearn import svm\n",
    "from sklearn.naive_bayes import GaussianNB\n",
    "from sklearn.neighbors import KNeighborsClassifier\n",
    "from sklearn.tree import DecisionTreeClassifier\n",
    "from sklearn.ensemble import RandomForestClassifier\n",
    "\n",
    "from sklearn import metrics\n",
    "from sklearn.metrics import plot_confusion_matrix, plot_roc_curve, classification_report"
   ]
  },
  {
   "cell_type": "code",
   "execution_count": 2,
   "id": "8c4e45e9",
   "metadata": {},
   "outputs": [],
   "source": [
    "rain_df = pd.read_csv(r'weatherAUS.csv', header = 0, sep = ',')"
   ]
  },
  {
   "cell_type": "markdown",
   "id": "c0d3a83c",
   "metadata": {},
   "source": [
    "## 1. EXPLORATORY DATA ANALYSIS"
   ]
  },
  {
   "cell_type": "code",
   "execution_count": 3,
   "id": "e31af16f",
   "metadata": {},
   "outputs": [
    {
     "data": {
      "text/html": [
       "<div>\n",
       "<style scoped>\n",
       "    .dataframe tbody tr th:only-of-type {\n",
       "        vertical-align: middle;\n",
       "    }\n",
       "\n",
       "    .dataframe tbody tr th {\n",
       "        vertical-align: top;\n",
       "    }\n",
       "\n",
       "    .dataframe thead th {\n",
       "        text-align: right;\n",
       "    }\n",
       "</style>\n",
       "<table border=\"1\" class=\"dataframe\">\n",
       "  <thead>\n",
       "    <tr style=\"text-align: right;\">\n",
       "      <th></th>\n",
       "      <th>Date</th>\n",
       "      <th>Location</th>\n",
       "      <th>MinTemp</th>\n",
       "      <th>MaxTemp</th>\n",
       "      <th>Rainfall</th>\n",
       "      <th>Evaporation</th>\n",
       "      <th>Sunshine</th>\n",
       "      <th>WindGustDir</th>\n",
       "      <th>WindGustSpeed</th>\n",
       "      <th>WindDir9am</th>\n",
       "      <th>...</th>\n",
       "      <th>Humidity9am</th>\n",
       "      <th>Humidity3pm</th>\n",
       "      <th>Pressure9am</th>\n",
       "      <th>Pressure3pm</th>\n",
       "      <th>Cloud9am</th>\n",
       "      <th>Cloud3pm</th>\n",
       "      <th>Temp9am</th>\n",
       "      <th>Temp3pm</th>\n",
       "      <th>RainToday</th>\n",
       "      <th>RainTomorrow</th>\n",
       "    </tr>\n",
       "  </thead>\n",
       "  <tbody>\n",
       "    <tr>\n",
       "      <th>0</th>\n",
       "      <td>2008-12-01</td>\n",
       "      <td>Albury</td>\n",
       "      <td>13.4</td>\n",
       "      <td>22.9</td>\n",
       "      <td>0.6</td>\n",
       "      <td>NaN</td>\n",
       "      <td>NaN</td>\n",
       "      <td>W</td>\n",
       "      <td>44.0</td>\n",
       "      <td>W</td>\n",
       "      <td>...</td>\n",
       "      <td>71.0</td>\n",
       "      <td>22.0</td>\n",
       "      <td>1007.7</td>\n",
       "      <td>1007.1</td>\n",
       "      <td>8.0</td>\n",
       "      <td>NaN</td>\n",
       "      <td>16.9</td>\n",
       "      <td>21.8</td>\n",
       "      <td>No</td>\n",
       "      <td>No</td>\n",
       "    </tr>\n",
       "    <tr>\n",
       "      <th>1</th>\n",
       "      <td>2008-12-02</td>\n",
       "      <td>Albury</td>\n",
       "      <td>7.4</td>\n",
       "      <td>25.1</td>\n",
       "      <td>0.0</td>\n",
       "      <td>NaN</td>\n",
       "      <td>NaN</td>\n",
       "      <td>WNW</td>\n",
       "      <td>44.0</td>\n",
       "      <td>NNW</td>\n",
       "      <td>...</td>\n",
       "      <td>44.0</td>\n",
       "      <td>25.0</td>\n",
       "      <td>1010.6</td>\n",
       "      <td>1007.8</td>\n",
       "      <td>NaN</td>\n",
       "      <td>NaN</td>\n",
       "      <td>17.2</td>\n",
       "      <td>24.3</td>\n",
       "      <td>No</td>\n",
       "      <td>No</td>\n",
       "    </tr>\n",
       "    <tr>\n",
       "      <th>2</th>\n",
       "      <td>2008-12-03</td>\n",
       "      <td>Albury</td>\n",
       "      <td>12.9</td>\n",
       "      <td>25.7</td>\n",
       "      <td>0.0</td>\n",
       "      <td>NaN</td>\n",
       "      <td>NaN</td>\n",
       "      <td>WSW</td>\n",
       "      <td>46.0</td>\n",
       "      <td>W</td>\n",
       "      <td>...</td>\n",
       "      <td>38.0</td>\n",
       "      <td>30.0</td>\n",
       "      <td>1007.6</td>\n",
       "      <td>1008.7</td>\n",
       "      <td>NaN</td>\n",
       "      <td>2.0</td>\n",
       "      <td>21.0</td>\n",
       "      <td>23.2</td>\n",
       "      <td>No</td>\n",
       "      <td>No</td>\n",
       "    </tr>\n",
       "    <tr>\n",
       "      <th>3</th>\n",
       "      <td>2008-12-04</td>\n",
       "      <td>Albury</td>\n",
       "      <td>9.2</td>\n",
       "      <td>28.0</td>\n",
       "      <td>0.0</td>\n",
       "      <td>NaN</td>\n",
       "      <td>NaN</td>\n",
       "      <td>NE</td>\n",
       "      <td>24.0</td>\n",
       "      <td>SE</td>\n",
       "      <td>...</td>\n",
       "      <td>45.0</td>\n",
       "      <td>16.0</td>\n",
       "      <td>1017.6</td>\n",
       "      <td>1012.8</td>\n",
       "      <td>NaN</td>\n",
       "      <td>NaN</td>\n",
       "      <td>18.1</td>\n",
       "      <td>26.5</td>\n",
       "      <td>No</td>\n",
       "      <td>No</td>\n",
       "    </tr>\n",
       "    <tr>\n",
       "      <th>4</th>\n",
       "      <td>2008-12-05</td>\n",
       "      <td>Albury</td>\n",
       "      <td>17.5</td>\n",
       "      <td>32.3</td>\n",
       "      <td>1.0</td>\n",
       "      <td>NaN</td>\n",
       "      <td>NaN</td>\n",
       "      <td>W</td>\n",
       "      <td>41.0</td>\n",
       "      <td>ENE</td>\n",
       "      <td>...</td>\n",
       "      <td>82.0</td>\n",
       "      <td>33.0</td>\n",
       "      <td>1010.8</td>\n",
       "      <td>1006.0</td>\n",
       "      <td>7.0</td>\n",
       "      <td>8.0</td>\n",
       "      <td>17.8</td>\n",
       "      <td>29.7</td>\n",
       "      <td>No</td>\n",
       "      <td>No</td>\n",
       "    </tr>\n",
       "  </tbody>\n",
       "</table>\n",
       "<p>5 rows × 23 columns</p>\n",
       "</div>"
      ],
      "text/plain": [
       "         Date Location  MinTemp  MaxTemp  Rainfall  Evaporation  Sunshine  \\\n",
       "0  2008-12-01   Albury     13.4     22.9       0.6          NaN       NaN   \n",
       "1  2008-12-02   Albury      7.4     25.1       0.0          NaN       NaN   \n",
       "2  2008-12-03   Albury     12.9     25.7       0.0          NaN       NaN   \n",
       "3  2008-12-04   Albury      9.2     28.0       0.0          NaN       NaN   \n",
       "4  2008-12-05   Albury     17.5     32.3       1.0          NaN       NaN   \n",
       "\n",
       "  WindGustDir  WindGustSpeed WindDir9am  ... Humidity9am  Humidity3pm  \\\n",
       "0           W           44.0          W  ...        71.0         22.0   \n",
       "1         WNW           44.0        NNW  ...        44.0         25.0   \n",
       "2         WSW           46.0          W  ...        38.0         30.0   \n",
       "3          NE           24.0         SE  ...        45.0         16.0   \n",
       "4           W           41.0        ENE  ...        82.0         33.0   \n",
       "\n",
       "   Pressure9am  Pressure3pm  Cloud9am  Cloud3pm  Temp9am  Temp3pm  RainToday  \\\n",
       "0       1007.7       1007.1       8.0       NaN     16.9     21.8         No   \n",
       "1       1010.6       1007.8       NaN       NaN     17.2     24.3         No   \n",
       "2       1007.6       1008.7       NaN       2.0     21.0     23.2         No   \n",
       "3       1017.6       1012.8       NaN       NaN     18.1     26.5         No   \n",
       "4       1010.8       1006.0       7.0       8.0     17.8     29.7         No   \n",
       "\n",
       "   RainTomorrow  \n",
       "0            No  \n",
       "1            No  \n",
       "2            No  \n",
       "3            No  \n",
       "4            No  \n",
       "\n",
       "[5 rows x 23 columns]"
      ]
     },
     "execution_count": 3,
     "metadata": {},
     "output_type": "execute_result"
    }
   ],
   "source": [
    "# Review sample\n",
    "\n",
    "rain_df.head()"
   ]
  },
  {
   "cell_type": "code",
   "execution_count": 4,
   "id": "b3304580",
   "metadata": {
    "scrolled": true
   },
   "outputs": [
    {
     "data": {
      "text/plain": [
       "(145460, 23)"
      ]
     },
     "execution_count": 4,
     "metadata": {},
     "output_type": "execute_result"
    }
   ],
   "source": [
    "#Check size of dataframe\n",
    "\n",
    "rain_df.shape"
   ]
  },
  {
   "cell_type": "code",
   "execution_count": 5,
   "id": "725c138e",
   "metadata": {
    "scrolled": false
   },
   "outputs": [
    {
     "data": {
      "text/plain": [
       "Date                 0\n",
       "Location             0\n",
       "MinTemp           1485\n",
       "MaxTemp           1261\n",
       "Rainfall          3261\n",
       "Evaporation      62790\n",
       "Sunshine         69835\n",
       "WindGustDir      10326\n",
       "WindGustSpeed    10263\n",
       "WindDir9am       10566\n",
       "WindDir3pm        4228\n",
       "WindSpeed9am      1767\n",
       "WindSpeed3pm      3062\n",
       "Humidity9am       2654\n",
       "Humidity3pm       4507\n",
       "Pressure9am      15065\n",
       "Pressure3pm      15028\n",
       "Cloud9am         55888\n",
       "Cloud3pm         59358\n",
       "Temp9am           1767\n",
       "Temp3pm           3609\n",
       "RainToday         3261\n",
       "RainTomorrow      3267\n",
       "dtype: int64"
      ]
     },
     "execution_count": 5,
     "metadata": {},
     "output_type": "execute_result"
    }
   ],
   "source": [
    "#Check number of NaN entries\n",
    "\n",
    "rain_df.isna().sum() "
   ]
  },
  {
   "cell_type": "code",
   "execution_count": 6,
   "id": "7c94cd74",
   "metadata": {
    "scrolled": true
   },
   "outputs": [
    {
     "data": {
      "text/plain": [
       "Date              0.0\n",
       "Location          0.0\n",
       "MinTemp           1.0\n",
       "MaxTemp           0.9\n",
       "Rainfall          2.2\n",
       "Evaporation      43.2\n",
       "Sunshine         48.0\n",
       "WindGustDir       7.1\n",
       "WindGustSpeed     7.1\n",
       "WindDir9am        7.3\n",
       "WindDir3pm        2.9\n",
       "WindSpeed9am      1.2\n",
       "WindSpeed3pm      2.1\n",
       "Humidity9am       1.8\n",
       "Humidity3pm       3.1\n",
       "Pressure9am      10.4\n",
       "Pressure3pm      10.3\n",
       "Cloud9am         38.4\n",
       "Cloud3pm         40.8\n",
       "Temp9am           1.2\n",
       "Temp3pm           2.5\n",
       "RainToday         2.2\n",
       "RainTomorrow      2.2\n",
       "dtype: float64"
      ]
     },
     "execution_count": 6,
     "metadata": {},
     "output_type": "execute_result"
    }
   ],
   "source": [
    "#Check percentage proportion of NaN entries\n",
    "\n",
    "round(rain_df.isna().sum()/len(rain_df)*100,1)"
   ]
  },
  {
   "cell_type": "code",
   "execution_count": 7,
   "id": "e4287ddd",
   "metadata": {
    "scrolled": true
   },
   "outputs": [
    {
     "data": {
      "text/plain": [
       "Date                 0\n",
       "Location             0\n",
       "MinTemp           1485\n",
       "MaxTemp           1261\n",
       "Rainfall          3261\n",
       "Evaporation      62790\n",
       "Sunshine         69835\n",
       "WindGustDir      10326\n",
       "WindGustSpeed    10263\n",
       "WindDir9am       10566\n",
       "WindDir3pm        4228\n",
       "WindSpeed9am      1767\n",
       "WindSpeed3pm      3062\n",
       "Humidity9am       2654\n",
       "Humidity3pm       4507\n",
       "Pressure9am      15065\n",
       "Pressure3pm      15028\n",
       "Cloud9am         55888\n",
       "Cloud3pm         59358\n",
       "Temp9am           1767\n",
       "Temp3pm           3609\n",
       "RainToday         3261\n",
       "RainTomorrow      3267\n",
       "dtype: int64"
      ]
     },
     "execution_count": 7,
     "metadata": {},
     "output_type": "execute_result"
    }
   ],
   "source": [
    "#Check proportion of null entries to compare with NaN (double check that missing values are NaN and not other category)\n",
    "\n",
    "rain_df.isnull().sum()"
   ]
  },
  {
   "cell_type": "code",
   "execution_count": 8,
   "id": "56b5d7a7",
   "metadata": {
    "scrolled": true
   },
   "outputs": [
    {
     "data": {
      "text/plain": [
       "Canberra            3436\n",
       "Sydney              3344\n",
       "Adelaide            3193\n",
       "Brisbane            3193\n",
       "Hobart              3193\n",
       "Melbourne           3193\n",
       "Perth               3193\n",
       "Darwin              3193\n",
       "GoldCoast           3040\n",
       "Ballarat            3040\n",
       "MountGambier        3040\n",
       "MountGinini         3040\n",
       "Cairns              3040\n",
       "Bendigo             3040\n",
       "AliceSprings        3040\n",
       "Albany              3040\n",
       "Albury              3040\n",
       "Townsville          3040\n",
       "Launceston          3040\n",
       "Wollongong          3040\n",
       "Penrith             3039\n",
       "Tuggeranong         3039\n",
       "Newcastle           3039\n",
       "SydneyAirport       3009\n",
       "Cobar               3009\n",
       "CoffsHarbour        3009\n",
       "Watsonia            3009\n",
       "Witchcliffe         3009\n",
       "WaggaWagga          3009\n",
       "Portland            3009\n",
       "Sale                3009\n",
       "BadgerysCreek       3009\n",
       "Williamtown         3009\n",
       "Woomera             3009\n",
       "Mildura             3009\n",
       "NorfolkIsland       3009\n",
       "Richmond            3009\n",
       "PearceRAAF          3009\n",
       "Dartmoor            3009\n",
       "Moree               3009\n",
       "MelbourneAirport    3009\n",
       "PerthAirport        3009\n",
       "Nuriootpa           3009\n",
       "Walpole             3006\n",
       "NorahHead           3004\n",
       "SalmonGums          3001\n",
       "Uluru               1578\n",
       "Katherine           1578\n",
       "Nhil                1578\n",
       "Name: Location, dtype: int64"
      ]
     },
     "execution_count": 8,
     "metadata": {},
     "output_type": "execute_result"
    }
   ],
   "source": [
    "rain_df.Location.value_counts()"
   ]
  },
  {
   "cell_type": "code",
   "execution_count": 9,
   "id": "515cc083",
   "metadata": {
    "scrolled": true
   },
   "outputs": [],
   "source": [
    "# Transform 'yes' and 'no' into binary output for 'RainToday' and 'RainTomorrow' variables\n",
    "\n",
    "rain_df.RainToday = rain_df.RainToday.map({'No': 0, 'Yes': 1})\n",
    "rain_df.RainTomorrow = rain_df.RainTomorrow.map({'No': 0, 'Yes': 1})"
   ]
  },
  {
   "cell_type": "code",
   "execution_count": 10,
   "id": "2bb19b16",
   "metadata": {},
   "outputs": [],
   "source": [
    "# Delete all rows for \"RainToday\" and \"RainTomorrow\" containing NaN.\n",
    "\n",
    "rain_df.dropna(subset = [\"RainToday\", \"RainTomorrow\" ], inplace=True)"
   ]
  },
  {
   "cell_type": "markdown",
   "id": "10d959f0",
   "metadata": {},
   "source": [
    "## 2.CHECK FOR CLASS IMBALANCE & BASELINE ACCURACY"
   ]
  },
  {
   "cell_type": "code",
   "execution_count": 11,
   "id": "75193ac7",
   "metadata": {},
   "outputs": [
    {
     "data": {
      "text/plain": [
       "0.2234226171450489"
      ]
     },
     "execution_count": 11,
     "metadata": {},
     "output_type": "execute_result"
    }
   ],
   "source": [
    "#Check for imbalance in data set for 'RainToday' category\n",
    "\n",
    "rain_df.RainToday.sum()/ len(rain_df.RainToday)"
   ]
  },
  {
   "cell_type": "code",
   "execution_count": 12,
   "id": "ecbc9986",
   "metadata": {},
   "outputs": [
    {
     "data": {
      "text/plain": [
       "0.22161847329654016"
      ]
     },
     "execution_count": 12,
     "metadata": {},
     "output_type": "execute_result"
    }
   ],
   "source": [
    "#Check for imbalance in data set for Target Variable 'RainTomorrow'\n",
    "\n",
    "pos_rain = rain_df.RainTomorrow.sum()/ len(rain_df.RainTomorrow)\n",
    "\n",
    "pos_rain"
   ]
  },
  {
   "cell_type": "code",
   "execution_count": 13,
   "id": "462b9261",
   "metadata": {
    "scrolled": true
   },
   "outputs": [
    {
     "data": {
      "image/png": "[encoded data removed]",
      "text/plain": [
       "<Figure size 720x432 with 1 Axes>"
      ]
     },
     "metadata": {
      "needs_background": "light"
     },
     "output_type": "display_data"
    }
   ],
   "source": [
    "# Checking for the class imbalance\n",
    "fig = plt.figure(figsize = (10, 6))\n",
    "axis = sns.countplot(x = 'RainTomorrow', data = rain_df);\n",
    "axis.set_title('Class Distribution for target: RainTomorrow', size = 16);\n",
    "\n",
    "for patch in axis.patches:\n",
    "    axis.text(x = patch.get_x() + patch.get_width()/2, y = patch.get_height()/2, \n",
    "            s = f\"{np.round(patch.get_height()/len(rain_df)*100, 1)}%\", \n",
    "            ha = 'center', size = 20, rotation = 0, weight = 'bold' ,color = 'white')\n",
    "    \n",
    "axis.set_xlabel('Rain Tomorrow', size = 16)\n",
    "axis.set_ylabel('Count', size = 14);"
   ]
  },
  {
   "cell_type": "code",
   "execution_count": 14,
   "id": "52f82d73",
   "metadata": {},
   "outputs": [
    {
     "data": {
      "text/plain": [
       "77.83815267034598"
      ]
     },
     "execution_count": 14,
     "metadata": {},
     "output_type": "execute_result"
    }
   ],
   "source": [
    "#BASELINE ACCURACY\n",
    "\n",
    "Baseline_acc = (1 - pos_rain)*100\n",
    "Baseline_acc"
   ]
  },
  {
   "cell_type": "code",
   "execution_count": 15,
   "id": "f75f9a96",
   "metadata": {},
   "outputs": [
    {
     "data": {
      "text/plain": [
       "(31455, 23)"
      ]
     },
     "execution_count": 15,
     "metadata": {},
     "output_type": "execute_result"
    }
   ],
   "source": [
    "# Create subset of dataframe where RainToday is positive (1)\n",
    "\n",
    "rain_today_df = rain_df[rain_df['RainToday']==1]\n",
    "\n",
    "rain_today_df.shape"
   ]
  },
  {
   "cell_type": "code",
   "execution_count": 16,
   "id": "304044ff",
   "metadata": {},
   "outputs": [],
   "source": [
    "rain_tomorrow = rain_today_df['RainTomorrow'].sum()"
   ]
  },
  {
   "cell_type": "code",
   "execution_count": 17,
   "id": "8c03f7b7",
   "metadata": {},
   "outputs": [
    {
     "data": {
      "text/plain": [
       "46.40597679224289"
      ]
     },
     "execution_count": 17,
     "metadata": {},
     "output_type": "execute_result"
    }
   ],
   "source": [
    "# Calculate probability of rain tomorrow if it rains today\n",
    "\n",
    "rain_tomorrow_prob = rain_tomorrow / rain_today_df.shape[0]*100\n",
    "rain_tomorrow_prob"
   ]
  },
  {
   "cell_type": "code",
   "execution_count": 18,
   "id": "002d186d",
   "metadata": {},
   "outputs": [
    {
     "data": {
      "text/plain": [
       "53.59402320775711"
      ]
     },
     "execution_count": 18,
     "metadata": {},
     "output_type": "execute_result"
    }
   ],
   "source": [
    "#Baseline accuracy for rain tomorrow if it rains today\n",
    "\n",
    "Baseline_acc_raintoday = 100 - rain_tomorrow_prob\n",
    "Baseline_acc_raintoday"
   ]
  },
  {
   "cell_type": "code",
   "execution_count": 19,
   "id": "c8de7525",
   "metadata": {},
   "outputs": [
    {
     "data": {
      "image/png": "[encoded data removed]",
      "text/plain": [
       "<Figure size 864x1728 with 26 Axes>"
      ]
     },
     "metadata": {},
     "output_type": "display_data"
    }
   ],
   "source": [
    "numeric_col = ['MinTemp', 'MaxTemp', 'Rainfall','WindGustSpeed', 'WindSpeed9am', 'WindSpeed3pm',\n",
    "               'Humidity9am','Humidity3pm', 'Pressure9am', 'Sunshine', 'Cloud9am', 'Cloud3pm', 'Evaporation']\n",
    "\n",
    "plt.style.use('seaborn')\n",
    "fig, axis = plt.subplots(13, 2, figsize = (12, 24))\n",
    "for i, num_var in enumerate(numeric_col):\n",
    "    \n",
    "    # Checking for the outliers using boxplot\n",
    "    sns.boxplot(y = num_var, data = rain_df, ax = axis[i][0], color = 'blue')\n",
    "    \n",
    "    # Checking for the distribution using kdeplot\n",
    "    sns.kdeplot(x = num_var, data = rain_df, ax = axis[i][1], color = 'blue',\n",
    "               fill = True, alpha = 0.6, linewidth = 1.5)\n",
    "    \n",
    "    axis[i][0].set_ylabel(f\"{num_var}\", fontsize = 12)\n",
    "    axis[i][0].set_xlabel(None)\n",
    "    axis[i][1].set_xlabel(None)\n",
    "    axis[i][1].set_ylabel(None)\n",
    "\n",
    "fig.suptitle('Numeric Feature Boxplots', fontsize = 16, y = 1)\n",
    "plt.tight_layout()"
   ]
  },
  {
   "cell_type": "markdown",
   "id": "71da92d2",
   "metadata": {},
   "source": [
    "## 3. CHECK FOR CORRELATION AND MULTI-COLLINEARITY"
   ]
  },
  {
   "cell_type": "code",
   "execution_count": 20,
   "id": "2ba9b923",
   "metadata": {},
   "outputs": [
    {
     "data": {
      "text/plain": [
       "<AxesSubplot:>"
      ]
     },
     "execution_count": 20,
     "metadata": {},
     "output_type": "execute_result"
    },
    {
     "data": {
      "image/png": "[encoded data removed]",
      "text/plain": [
       "<Figure size 720x720 with 2 Axes>"
      ]
     },
     "metadata": {},
     "output_type": "display_data"
    }
   ],
   "source": [
    "corr = rain_df.corr()\n",
    "mask = np.triu(np.ones_like(corr, dtype=bool))\n",
    "fig, axes = plt.subplots(1,1,figsize=(10,10))\n",
    "cmap = sns.diverging_palette(300, 20, as_cmap=True)\n",
    "sns.heatmap(corr, cmap=cmap, mask=mask, square=True\n",
    "            , linewidths=.5, cbar_kws={\"shrink\": .75}\n",
    "            , center=0, annot = True, ax=axes)"
   ]
  },
  {
   "cell_type": "code",
   "execution_count": 21,
   "id": "0d638050",
   "metadata": {},
   "outputs": [],
   "source": [
    "#CHECK AND MINIMISE MULTI-COLLINEARITY\n",
    "\n",
    "#DROP THE FOLLOWING:\n",
    "\n",
    "#'Pressure3pm' as this has high correlation with 'Pressure9am'\n",
    "#'Temp9am' and 'MaxTemp' as these have higher correlation with 'Temp3pm'\n",
    "\n",
    "rain_df.drop(['Pressure3pm','Temp9am', 'MaxTemp'], axis = 1, inplace = True)"
   ]
  },
  {
   "cell_type": "code",
   "execution_count": 22,
   "id": "89e3f982",
   "metadata": {},
   "outputs": [
    {
     "data": {
      "text/plain": [
       "(140787, 20)"
      ]
     },
     "execution_count": 22,
     "metadata": {},
     "output_type": "execute_result"
    }
   ],
   "source": [
    "rain_df.shape"
   ]
  },
  {
   "cell_type": "code",
   "execution_count": 23,
   "id": "39e2486d",
   "metadata": {},
   "outputs": [
    {
     "data": {
      "text/plain": [
       "Date              object\n",
       "Location          object\n",
       "MinTemp          float64\n",
       "Rainfall         float64\n",
       "Evaporation      float64\n",
       "Sunshine         float64\n",
       "WindGustDir       object\n",
       "WindGustSpeed    float64\n",
       "WindDir9am        object\n",
       "WindDir3pm        object\n",
       "WindSpeed9am     float64\n",
       "WindSpeed3pm     float64\n",
       "Humidity9am      float64\n",
       "Humidity3pm      float64\n",
       "Pressure9am      float64\n",
       "Cloud9am         float64\n",
       "Cloud3pm         float64\n",
       "Temp3pm          float64\n",
       "RainToday        float64\n",
       "RainTomorrow     float64\n",
       "dtype: object"
      ]
     },
     "execution_count": 23,
     "metadata": {},
     "output_type": "execute_result"
    }
   ],
   "source": [
    "rain_df.dtypes"
   ]
  },
  {
   "cell_type": "code",
   "execution_count": 24,
   "id": "816c528c",
   "metadata": {
    "scrolled": true
   },
   "outputs": [
    {
     "data": {
      "text/plain": [
       "['MinTemp',\n",
       " 'Rainfall',\n",
       " 'Evaporation',\n",
       " 'Sunshine',\n",
       " 'WindGustSpeed',\n",
       " 'WindSpeed9am',\n",
       " 'WindSpeed3pm',\n",
       " 'Humidity9am',\n",
       " 'Humidity3pm',\n",
       " 'Pressure9am',\n",
       " 'Cloud9am',\n",
       " 'Cloud3pm',\n",
       " 'Temp3pm',\n",
       " 'RainToday',\n",
       " 'RainTomorrow']"
      ]
     },
     "execution_count": 24,
     "metadata": {},
     "output_type": "execute_result"
    }
   ],
   "source": [
    "#Create subset of numeric features that will have NaN entries replaced by the IterativeImputer\n",
    "\n",
    "numeric_cols = [col for col in rain_df.columns if rain_df[col].dtype == float]\n",
    "numeric_cols"
   ]
  },
  {
   "cell_type": "markdown",
   "id": "ec7a0433",
   "metadata": {},
   "source": [
    "## 4. USING ITERATIVE IMPUTER TO REPLACE NaN ENTRIES"
   ]
  },
  {
   "cell_type": "code",
   "execution_count": 25,
   "id": "3ea0e6c8",
   "metadata": {},
   "outputs": [],
   "source": [
    "# Replace NaN with numeric values determined by the iterative imputer\n",
    "\n",
    "from sklearn.impute import IterativeImputer\n",
    "\n",
    "imptr = IterativeImputer(imputation_order='ascending', max_iter=1000)\n",
    "\n",
    "numeric_df = imptr.fit_transform(rain_df[numeric_cols])\n",
    "rain_numeric_df = pd.DataFrame(numeric_df, columns=numeric_cols)\n"
   ]
  },
  {
   "cell_type": "code",
   "execution_count": 26,
   "id": "6dae0641",
   "metadata": {},
   "outputs": [
    {
     "data": {
      "text/html": [
       "<div>\n",
       "<style scoped>\n",
       "    .dataframe tbody tr th:only-of-type {\n",
       "        vertical-align: middle;\n",
       "    }\n",
       "\n",
       "    .dataframe tbody tr th {\n",
       "        vertical-align: top;\n",
       "    }\n",
       "\n",
       "    .dataframe thead th {\n",
       "        text-align: right;\n",
       "    }\n",
       "</style>\n",
       "<table border=\"1\" class=\"dataframe\">\n",
       "  <thead>\n",
       "    <tr style=\"text-align: right;\">\n",
       "      <th></th>\n",
       "      <th>MinTemp</th>\n",
       "      <th>Rainfall</th>\n",
       "      <th>Evaporation</th>\n",
       "      <th>Sunshine</th>\n",
       "      <th>WindGustSpeed</th>\n",
       "      <th>WindSpeed9am</th>\n",
       "      <th>WindSpeed3pm</th>\n",
       "      <th>Humidity9am</th>\n",
       "      <th>Humidity3pm</th>\n",
       "      <th>Pressure9am</th>\n",
       "      <th>Cloud9am</th>\n",
       "      <th>Cloud3pm</th>\n",
       "      <th>Temp3pm</th>\n",
       "      <th>RainToday</th>\n",
       "      <th>RainTomorrow</th>\n",
       "    </tr>\n",
       "  </thead>\n",
       "  <tbody>\n",
       "    <tr>\n",
       "      <th>0</th>\n",
       "      <td>13.4</td>\n",
       "      <td>0.6</td>\n",
       "      <td>6.573820</td>\n",
       "      <td>6.752406</td>\n",
       "      <td>44.0</td>\n",
       "      <td>20.0</td>\n",
       "      <td>24.0</td>\n",
       "      <td>71.0</td>\n",
       "      <td>22.0</td>\n",
       "      <td>1007.7</td>\n",
       "      <td>8.000000</td>\n",
       "      <td>4.945491</td>\n",
       "      <td>21.8</td>\n",
       "      <td>0.0</td>\n",
       "      <td>0.0</td>\n",
       "    </tr>\n",
       "    <tr>\n",
       "      <th>1</th>\n",
       "      <td>7.4</td>\n",
       "      <td>0.0</td>\n",
       "      <td>6.623835</td>\n",
       "      <td>11.065102</td>\n",
       "      <td>44.0</td>\n",
       "      <td>4.0</td>\n",
       "      <td>22.0</td>\n",
       "      <td>44.0</td>\n",
       "      <td>25.0</td>\n",
       "      <td>1010.6</td>\n",
       "      <td>1.845178</td>\n",
       "      <td>2.714469</td>\n",
       "      <td>24.3</td>\n",
       "      <td>0.0</td>\n",
       "      <td>0.0</td>\n",
       "    </tr>\n",
       "    <tr>\n",
       "      <th>2</th>\n",
       "      <td>12.9</td>\n",
       "      <td>0.0</td>\n",
       "      <td>8.010544</td>\n",
       "      <td>11.010891</td>\n",
       "      <td>46.0</td>\n",
       "      <td>19.0</td>\n",
       "      <td>26.0</td>\n",
       "      <td>38.0</td>\n",
       "      <td>30.0</td>\n",
       "      <td>1007.6</td>\n",
       "      <td>2.314554</td>\n",
       "      <td>2.000000</td>\n",
       "      <td>23.2</td>\n",
       "      <td>0.0</td>\n",
       "      <td>0.0</td>\n",
       "    </tr>\n",
       "    <tr>\n",
       "      <th>3</th>\n",
       "      <td>9.2</td>\n",
       "      <td>0.0</td>\n",
       "      <td>6.942286</td>\n",
       "      <td>11.274447</td>\n",
       "      <td>24.0</td>\n",
       "      <td>11.0</td>\n",
       "      <td>9.0</td>\n",
       "      <td>45.0</td>\n",
       "      <td>16.0</td>\n",
       "      <td>1017.6</td>\n",
       "      <td>1.498717</td>\n",
       "      <td>2.049022</td>\n",
       "      <td>26.5</td>\n",
       "      <td>0.0</td>\n",
       "      <td>0.0</td>\n",
       "    </tr>\n",
       "    <tr>\n",
       "      <th>4</th>\n",
       "      <td>17.5</td>\n",
       "      <td>1.0</td>\n",
       "      <td>6.802123</td>\n",
       "      <td>6.032625</td>\n",
       "      <td>41.0</td>\n",
       "      <td>7.0</td>\n",
       "      <td>20.0</td>\n",
       "      <td>82.0</td>\n",
       "      <td>33.0</td>\n",
       "      <td>1010.8</td>\n",
       "      <td>7.000000</td>\n",
       "      <td>8.000000</td>\n",
       "      <td>29.7</td>\n",
       "      <td>0.0</td>\n",
       "      <td>0.0</td>\n",
       "    </tr>\n",
       "  </tbody>\n",
       "</table>\n",
       "</div>"
      ],
      "text/plain": [
       "   MinTemp  Rainfall  Evaporation   Sunshine  WindGustSpeed  WindSpeed9am  \\\n",
       "0     13.4       0.6     6.573820   6.752406           44.0          20.0   \n",
       "1      7.4       0.0     6.623835  11.065102           44.0           4.0   \n",
       "2     12.9       0.0     8.010544  11.010891           46.0          19.0   \n",
       "3      9.2       0.0     6.942286  11.274447           24.0          11.0   \n",
       "4     17.5       1.0     6.802123   6.032625           41.0           7.0   \n",
       "\n",
       "   WindSpeed3pm  Humidity9am  Humidity3pm  Pressure9am  Cloud9am  Cloud3pm  \\\n",
       "0          24.0         71.0         22.0       1007.7  8.000000  4.945491   \n",
       "1          22.0         44.0         25.0       1010.6  1.845178  2.714469   \n",
       "2          26.0         38.0         30.0       1007.6  2.314554  2.000000   \n",
       "3           9.0         45.0         16.0       1017.6  1.498717  2.049022   \n",
       "4          20.0         82.0         33.0       1010.8  7.000000  8.000000   \n",
       "\n",
       "   Temp3pm  RainToday  RainTomorrow  \n",
       "0     21.8        0.0           0.0  \n",
       "1     24.3        0.0           0.0  \n",
       "2     23.2        0.0           0.0  \n",
       "3     26.5        0.0           0.0  \n",
       "4     29.7        0.0           0.0  "
      ]
     },
     "execution_count": 26,
     "metadata": {},
     "output_type": "execute_result"
    }
   ],
   "source": [
    "rain_numeric_df.head()"
   ]
  },
  {
   "cell_type": "code",
   "execution_count": 27,
   "id": "b34a7aa4",
   "metadata": {},
   "outputs": [
    {
     "data": {
      "text/plain": [
       "(140787, 15)"
      ]
     },
     "execution_count": 27,
     "metadata": {},
     "output_type": "execute_result"
    }
   ],
   "source": [
    "rain_numeric_df.shape"
   ]
  },
  {
   "cell_type": "markdown",
   "id": "d09364e9",
   "metadata": {},
   "source": [
    "## 5. RE-CHECK CORRELATION MATRIX TO ENSURE CONSISTENCY AFTER ITERATIVE IMPUTATION"
   ]
  },
  {
   "cell_type": "code",
   "execution_count": 28,
   "id": "4efbc9c6",
   "metadata": {},
   "outputs": [
    {
     "data": {
      "text/plain": [
       "<AxesSubplot:>"
      ]
     },
     "execution_count": 28,
     "metadata": {},
     "output_type": "execute_result"
    },
    {
     "data": {
      "image/png": "[encoded data removed]",
      "text/plain": [
       "<Figure size 720x720 with 2 Axes>"
      ]
     },
     "metadata": {},
     "output_type": "display_data"
    }
   ],
   "source": [
    "#Re-check correlation matrix to ensure that correlation has not been modified excessively but the iterative imputation\n",
    "\n",
    "corr = rain_numeric_df.corr()\n",
    "mask = np.triu(np.ones_like(corr, dtype=bool))\n",
    "fig, axes = plt.subplots(1,1,figsize=(10,10))\n",
    "cmap = sns.diverging_palette(300, 20, as_cmap=True)\n",
    "sns.heatmap(corr, cmap=cmap, mask=mask, square=True\n",
    "            , linewidths=.5, cbar_kws={\"shrink\": .75}\n",
    "            , center=0, annot = True, ax=axes)"
   ]
  },
  {
   "cell_type": "code",
   "execution_count": 29,
   "id": "03c9ec2e",
   "metadata": {},
   "outputs": [
    {
     "data": {
      "text/plain": [
       "['Date', 'Location', 'WindGustDir', 'WindDir9am', 'WindDir3pm']"
      ]
     },
     "execution_count": 29,
     "metadata": {},
     "output_type": "execute_result"
    }
   ],
   "source": [
    "#Create subset of categorical features that will have NaN entries replaced by random sampling\n",
    "categorical_cols = [col for col in rain_df.columns if rain_df[col].dtype == object]\n",
    "categorical_cols"
   ]
  },
  {
   "cell_type": "code",
   "execution_count": 30,
   "id": "0c4582c4",
   "metadata": {},
   "outputs": [
    {
     "data": {
      "text/plain": [
       "(None, None)"
      ]
     },
     "execution_count": 30,
     "metadata": {},
     "output_type": "execute_result"
    }
   ],
   "source": [
    "categorical_cols.remove('Date'),categorical_cols.remove('Location')"
   ]
  },
  {
   "cell_type": "code",
   "execution_count": 31,
   "id": "6ff64235",
   "metadata": {},
   "outputs": [
    {
     "data": {
      "text/plain": [
       "['WindGustDir', 'WindDir9am', 'WindDir3pm']"
      ]
     },
     "execution_count": 31,
     "metadata": {},
     "output_type": "execute_result"
    }
   ],
   "source": [
    "categorical_cols"
   ]
  },
  {
   "cell_type": "code",
   "execution_count": 32,
   "id": "ec3c31a3",
   "metadata": {},
   "outputs": [
    {
     "data": {
      "text/html": [
       "<div>\n",
       "<style scoped>\n",
       "    .dataframe tbody tr th:only-of-type {\n",
       "        vertical-align: middle;\n",
       "    }\n",
       "\n",
       "    .dataframe tbody tr th {\n",
       "        vertical-align: top;\n",
       "    }\n",
       "\n",
       "    .dataframe thead th {\n",
       "        text-align: right;\n",
       "    }\n",
       "</style>\n",
       "<table border=\"1\" class=\"dataframe\">\n",
       "  <thead>\n",
       "    <tr style=\"text-align: right;\">\n",
       "      <th></th>\n",
       "      <th>WindGustDir</th>\n",
       "      <th>WindDir9am</th>\n",
       "      <th>WindDir3pm</th>\n",
       "    </tr>\n",
       "  </thead>\n",
       "  <tbody>\n",
       "    <tr>\n",
       "      <th>0</th>\n",
       "      <td>W</td>\n",
       "      <td>W</td>\n",
       "      <td>WNW</td>\n",
       "    </tr>\n",
       "    <tr>\n",
       "      <th>1</th>\n",
       "      <td>WNW</td>\n",
       "      <td>NNW</td>\n",
       "      <td>WSW</td>\n",
       "    </tr>\n",
       "    <tr>\n",
       "      <th>2</th>\n",
       "      <td>WSW</td>\n",
       "      <td>W</td>\n",
       "      <td>WSW</td>\n",
       "    </tr>\n",
       "    <tr>\n",
       "      <th>3</th>\n",
       "      <td>NE</td>\n",
       "      <td>SE</td>\n",
       "      <td>E</td>\n",
       "    </tr>\n",
       "    <tr>\n",
       "      <th>4</th>\n",
       "      <td>W</td>\n",
       "      <td>ENE</td>\n",
       "      <td>NW</td>\n",
       "    </tr>\n",
       "    <tr>\n",
       "      <th>...</th>\n",
       "      <td>...</td>\n",
       "      <td>...</td>\n",
       "      <td>...</td>\n",
       "    </tr>\n",
       "    <tr>\n",
       "      <th>145454</th>\n",
       "      <td>E</td>\n",
       "      <td>ESE</td>\n",
       "      <td>E</td>\n",
       "    </tr>\n",
       "    <tr>\n",
       "      <th>145455</th>\n",
       "      <td>E</td>\n",
       "      <td>SE</td>\n",
       "      <td>ENE</td>\n",
       "    </tr>\n",
       "    <tr>\n",
       "      <th>145456</th>\n",
       "      <td>NNW</td>\n",
       "      <td>SE</td>\n",
       "      <td>N</td>\n",
       "    </tr>\n",
       "    <tr>\n",
       "      <th>145457</th>\n",
       "      <td>N</td>\n",
       "      <td>SE</td>\n",
       "      <td>WNW</td>\n",
       "    </tr>\n",
       "    <tr>\n",
       "      <th>145458</th>\n",
       "      <td>SE</td>\n",
       "      <td>SSE</td>\n",
       "      <td>N</td>\n",
       "    </tr>\n",
       "  </tbody>\n",
       "</table>\n",
       "<p>140787 rows × 3 columns</p>\n",
       "</div>"
      ],
      "text/plain": [
       "       WindGustDir WindDir9am WindDir3pm\n",
       "0                W          W        WNW\n",
       "1              WNW        NNW        WSW\n",
       "2              WSW          W        WSW\n",
       "3               NE         SE          E\n",
       "4                W        ENE         NW\n",
       "...            ...        ...        ...\n",
       "145454           E        ESE          E\n",
       "145455           E         SE        ENE\n",
       "145456         NNW         SE          N\n",
       "145457           N         SE        WNW\n",
       "145458          SE        SSE          N\n",
       "\n",
       "[140787 rows x 3 columns]"
      ]
     },
     "execution_count": 32,
     "metadata": {},
     "output_type": "execute_result"
    }
   ],
   "source": [
    "rain_cat_df = rain_df.loc[:, ('WindGustDir', 'WindDir9am', 'WindDir3pm')]\n",
    "rain_cat_df"
   ]
  },
  {
   "cell_type": "markdown",
   "id": "e0d5a28e",
   "metadata": {},
   "source": [
    "## 6. REPLACE CATEGORICAL FEATURES WITH PROBABILITY DISTRIBUTION OF CURRENT FEATURES"
   ]
  },
  {
   "cell_type": "code",
   "execution_count": 33,
   "id": "1e278954",
   "metadata": {},
   "outputs": [],
   "source": [
    "#Replace NaN entries in categorical features with probability distribution of current feature records\n",
    "\n",
    "for cols in rain_cat_df.columns:\n",
    "    vals = rain_cat_df.WindDir3pm.value_counts().reset_index()['index'].values\n",
    "    prob = rain_cat_df[cols].value_counts(normalize=True).values\n",
    "    rain_cat_df[cols].replace(np.nan, np.random.choice(a=vals, p=prob), inplace=True)\n"
   ]
  },
  {
   "cell_type": "code",
   "execution_count": 34,
   "id": "4c8135b7",
   "metadata": {},
   "outputs": [
    {
     "data": {
      "text/plain": [
       "WindGustDir    0\n",
       "WindDir9am     0\n",
       "WindDir3pm     0\n",
       "dtype: int64"
      ]
     },
     "execution_count": 34,
     "metadata": {},
     "output_type": "execute_result"
    }
   ],
   "source": [
    "rain_cat_df.isna().sum()"
   ]
  },
  {
   "cell_type": "code",
   "execution_count": 35,
   "id": "25c91c6c",
   "metadata": {},
   "outputs": [
    {
     "data": {
      "text/plain": [
       "(140787, 3)"
      ]
     },
     "execution_count": 35,
     "metadata": {},
     "output_type": "execute_result"
    }
   ],
   "source": [
    "rain_cat_df.shape"
   ]
  },
  {
   "cell_type": "code",
   "execution_count": 36,
   "id": "291ec1f7",
   "metadata": {},
   "outputs": [],
   "source": [
    "df_date_location = rain_df.loc[:,('Date', 'Location')]\n"
   ]
  },
  {
   "cell_type": "code",
   "execution_count": 37,
   "id": "666f8f8c",
   "metadata": {},
   "outputs": [
    {
     "data": {
      "text/plain": [
       "(140787, 2)"
      ]
     },
     "execution_count": 37,
     "metadata": {},
     "output_type": "execute_result"
    }
   ],
   "source": [
    "df_date_location.shape"
   ]
  },
  {
   "cell_type": "markdown",
   "id": "ab1f655a",
   "metadata": {},
   "source": [
    "## 7. RE-ASSEMBLY OF DATASET INCORPORATING MODIFIED FEATURES"
   ]
  },
  {
   "cell_type": "code",
   "execution_count": 38,
   "id": "24f01bc3",
   "metadata": {},
   "outputs": [],
   "source": [
    "#Combine and re-assemble feature-engineered dataframe subsets into single rain_final dataframe\n",
    "\n",
    "rain_mod = pd.concat(objs=[df_date_location.reset_index(drop=True), \n",
    "                                   rain_numeric_df.reset_index(drop=True), \n",
    "                                   rain_cat_df.reset_index(drop=True)                                   \n",
    "                                  ], \n",
    "                             axis=1\n",
    "                            )"
   ]
  },
  {
   "cell_type": "code",
   "execution_count": 39,
   "id": "19862b95",
   "metadata": {},
   "outputs": [
    {
     "data": {
      "text/plain": [
       "(140787, 20)"
      ]
     },
     "execution_count": 39,
     "metadata": {},
     "output_type": "execute_result"
    }
   ],
   "source": [
    "rain_mod.shape"
   ]
  },
  {
   "cell_type": "code",
   "execution_count": 40,
   "id": "9dafa052",
   "metadata": {},
   "outputs": [
    {
     "data": {
      "text/plain": [
       "Date             False\n",
       "Location         False\n",
       "MinTemp          False\n",
       "Rainfall         False\n",
       "Evaporation      False\n",
       "Sunshine         False\n",
       "WindGustSpeed    False\n",
       "WindSpeed9am     False\n",
       "WindSpeed3pm     False\n",
       "Humidity9am      False\n",
       "Humidity3pm      False\n",
       "Pressure9am      False\n",
       "Cloud9am         False\n",
       "Cloud3pm         False\n",
       "Temp3pm          False\n",
       "RainToday        False\n",
       "RainTomorrow     False\n",
       "WindGustDir      False\n",
       "WindDir9am       False\n",
       "WindDir3pm       False\n",
       "dtype: bool"
      ]
     },
     "execution_count": 40,
     "metadata": {},
     "output_type": "execute_result"
    }
   ],
   "source": [
    "rain_mod.isna().any()"
   ]
  },
  {
   "cell_type": "code",
   "execution_count": 41,
   "id": "0c110cee",
   "metadata": {},
   "outputs": [
    {
     "data": {
      "text/html": [
       "<div>\n",
       "<style scoped>\n",
       "    .dataframe tbody tr th:only-of-type {\n",
       "        vertical-align: middle;\n",
       "    }\n",
       "\n",
       "    .dataframe tbody tr th {\n",
       "        vertical-align: top;\n",
       "    }\n",
       "\n",
       "    .dataframe thead th {\n",
       "        text-align: right;\n",
       "    }\n",
       "</style>\n",
       "<table border=\"1\" class=\"dataframe\">\n",
       "  <thead>\n",
       "    <tr style=\"text-align: right;\">\n",
       "      <th></th>\n",
       "      <th>MinTemp</th>\n",
       "      <th>Rainfall</th>\n",
       "      <th>Evaporation</th>\n",
       "      <th>Sunshine</th>\n",
       "      <th>WindGustSpeed</th>\n",
       "      <th>WindSpeed9am</th>\n",
       "      <th>WindSpeed3pm</th>\n",
       "      <th>Humidity9am</th>\n",
       "      <th>Humidity3pm</th>\n",
       "      <th>Pressure9am</th>\n",
       "      <th>Cloud9am</th>\n",
       "      <th>Cloud3pm</th>\n",
       "      <th>Temp3pm</th>\n",
       "      <th>RainToday</th>\n",
       "      <th>RainTomorrow</th>\n",
       "    </tr>\n",
       "  </thead>\n",
       "  <tbody>\n",
       "    <tr>\n",
       "      <th>MinTemp</th>\n",
       "      <td>1.000000</td>\n",
       "      <td>0.103946</td>\n",
       "      <td>0.547158</td>\n",
       "      <td>0.103830</td>\n",
       "      <td>0.172394</td>\n",
       "      <td>0.176136</td>\n",
       "      <td>0.174797</td>\n",
       "      <td>-0.237315</td>\n",
       "      <td>0.005179</td>\n",
       "      <td>-0.463430</td>\n",
       "      <td>0.089753</td>\n",
       "      <td>0.024990</td>\n",
       "      <td>0.711494</td>\n",
       "      <td>0.056256</td>\n",
       "      <td>0.084412</td>\n",
       "    </tr>\n",
       "    <tr>\n",
       "      <th>Rainfall</th>\n",
       "      <td>0.103946</td>\n",
       "      <td>1.000000</td>\n",
       "      <td>-0.043156</td>\n",
       "      <td>-0.256919</td>\n",
       "      <td>0.133079</td>\n",
       "      <td>0.087387</td>\n",
       "      <td>0.058364</td>\n",
       "      <td>0.224779</td>\n",
       "      <td>0.256830</td>\n",
       "      <td>-0.172335</td>\n",
       "      <td>0.227449</td>\n",
       "      <td>0.202349</td>\n",
       "      <td>-0.079520</td>\n",
       "      <td>0.500997</td>\n",
       "      <td>0.239032</td>\n",
       "    </tr>\n",
       "    <tr>\n",
       "      <th>Evaporation</th>\n",
       "      <td>0.547158</td>\n",
       "      <td>-0.043156</td>\n",
       "      <td>1.000000</td>\n",
       "      <td>0.440432</td>\n",
       "      <td>0.247711</td>\n",
       "      <td>0.229064</td>\n",
       "      <td>0.169305</td>\n",
       "      <td>-0.589991</td>\n",
       "      <td>-0.463143</td>\n",
       "      <td>-0.313479</td>\n",
       "      <td>-0.258149</td>\n",
       "      <td>-0.260628</td>\n",
       "      <td>0.658784</td>\n",
       "      <td>-0.200836</td>\n",
       "      <td>-0.134048</td>\n",
       "    </tr>\n",
       "    <tr>\n",
       "      <th>Sunshine</th>\n",
       "      <td>0.103830</td>\n",
       "      <td>-0.256919</td>\n",
       "      <td>0.440432</td>\n",
       "      <td>1.000000</td>\n",
       "      <td>-0.036378</td>\n",
       "      <td>-0.005493</td>\n",
       "      <td>0.065722</td>\n",
       "      <td>-0.548273</td>\n",
       "      <td>-0.716226</td>\n",
       "      <td>0.024639</td>\n",
       "      <td>-0.760317</td>\n",
       "      <td>-0.792010</td>\n",
       "      <td>0.569737</td>\n",
       "      <td>-0.364118</td>\n",
       "      <td>-0.492543</td>\n",
       "    </tr>\n",
       "    <tr>\n",
       "      <th>WindGustSpeed</th>\n",
       "      <td>0.172394</td>\n",
       "      <td>0.133079</td>\n",
       "      <td>0.247711</td>\n",
       "      <td>-0.036378</td>\n",
       "      <td>1.000000</td>\n",
       "      <td>0.616384</td>\n",
       "      <td>0.698619</td>\n",
       "      <td>-0.219224</td>\n",
       "      <td>-0.030728</td>\n",
       "      <td>-0.468669</td>\n",
       "      <td>0.086439</td>\n",
       "      <td>0.135735</td>\n",
       "      <td>0.026337</td>\n",
       "      <td>0.155427</td>\n",
       "      <td>0.233649</td>\n",
       "    </tr>\n",
       "    <tr>\n",
       "      <th>WindSpeed9am</th>\n",
       "      <td>0.176136</td>\n",
       "      <td>0.087387</td>\n",
       "      <td>0.229064</td>\n",
       "      <td>-0.005493</td>\n",
       "      <td>0.616384</td>\n",
       "      <td>1.000000</td>\n",
       "      <td>0.524602</td>\n",
       "      <td>-0.270772</td>\n",
       "      <td>-0.030622</td>\n",
       "      <td>-0.233298</td>\n",
       "      <td>0.039472</td>\n",
       "      <td>0.072021</td>\n",
       "      <td>-0.002164</td>\n",
       "      <td>0.102736</td>\n",
       "      <td>0.090021</td>\n",
       "    </tr>\n",
       "    <tr>\n",
       "      <th>WindSpeed3pm</th>\n",
       "      <td>0.174797</td>\n",
       "      <td>0.058364</td>\n",
       "      <td>0.169305</td>\n",
       "      <td>0.065722</td>\n",
       "      <td>0.698619</td>\n",
       "      <td>0.524602</td>\n",
       "      <td>1.000000</td>\n",
       "      <td>-0.147600</td>\n",
       "      <td>0.016331</td>\n",
       "      <td>-0.311334</td>\n",
       "      <td>0.057195</td>\n",
       "      <td>0.027795</td>\n",
       "      <td>0.023994</td>\n",
       "      <td>0.080768</td>\n",
       "      <td>0.087374</td>\n",
       "    </tr>\n",
       "    <tr>\n",
       "      <th>Humidity9am</th>\n",
       "      <td>-0.237315</td>\n",
       "      <td>0.224779</td>\n",
       "      <td>-0.589991</td>\n",
       "      <td>-0.548273</td>\n",
       "      <td>-0.219224</td>\n",
       "      <td>-0.270772</td>\n",
       "      <td>-0.147600</td>\n",
       "      <td>1.000000</td>\n",
       "      <td>0.672245</td>\n",
       "      <td>0.144297</td>\n",
       "      <td>0.493737</td>\n",
       "      <td>0.389866</td>\n",
       "      <td>-0.500999</td>\n",
       "      <td>0.355067</td>\n",
       "      <td>0.258973</td>\n",
       "    </tr>\n",
       "    <tr>\n",
       "      <th>Humidity3pm</th>\n",
       "      <td>0.005179</td>\n",
       "      <td>0.256830</td>\n",
       "      <td>-0.463143</td>\n",
       "      <td>-0.716226</td>\n",
       "      <td>-0.030728</td>\n",
       "      <td>-0.030622</td>\n",
       "      <td>0.016331</td>\n",
       "      <td>0.672245</td>\n",
       "      <td>1.000000</td>\n",
       "      <td>-0.022665</td>\n",
       "      <td>0.590879</td>\n",
       "      <td>0.601309</td>\n",
       "      <td>-0.558140</td>\n",
       "      <td>0.381179</td>\n",
       "      <td>0.450694</td>\n",
       "    </tr>\n",
       "    <tr>\n",
       "      <th>Pressure9am</th>\n",
       "      <td>-0.463430</td>\n",
       "      <td>-0.172335</td>\n",
       "      <td>-0.313479</td>\n",
       "      <td>0.024639</td>\n",
       "      <td>-0.468669</td>\n",
       "      <td>-0.233298</td>\n",
       "      <td>-0.311334</td>\n",
       "      <td>0.144297</td>\n",
       "      <td>-0.022665</td>\n",
       "      <td>1.000000</td>\n",
       "      <td>-0.140911</td>\n",
       "      <td>-0.165094</td>\n",
       "      <td>-0.296209</td>\n",
       "      <td>-0.195862</td>\n",
       "      <td>-0.255081</td>\n",
       "    </tr>\n",
       "    <tr>\n",
       "      <th>Cloud9am</th>\n",
       "      <td>0.089753</td>\n",
       "      <td>0.227449</td>\n",
       "      <td>-0.258149</td>\n",
       "      <td>-0.760317</td>\n",
       "      <td>0.086439</td>\n",
       "      <td>0.039472</td>\n",
       "      <td>0.057195</td>\n",
       "      <td>0.493737</td>\n",
       "      <td>0.590879</td>\n",
       "      <td>-0.140911</td>\n",
       "      <td>1.000000</td>\n",
       "      <td>0.677743</td>\n",
       "      <td>-0.360977</td>\n",
       "      <td>0.342224</td>\n",
       "      <td>0.355177</td>\n",
       "    </tr>\n",
       "    <tr>\n",
       "      <th>Cloud3pm</th>\n",
       "      <td>0.024990</td>\n",
       "      <td>0.202349</td>\n",
       "      <td>-0.260628</td>\n",
       "      <td>-0.792010</td>\n",
       "      <td>0.135735</td>\n",
       "      <td>0.072021</td>\n",
       "      <td>0.027795</td>\n",
       "      <td>0.389866</td>\n",
       "      <td>0.601309</td>\n",
       "      <td>-0.165094</td>\n",
       "      <td>0.677743</td>\n",
       "      <td>1.000000</td>\n",
       "      <td>-0.380098</td>\n",
       "      <td>0.310101</td>\n",
       "      <td>0.430986</td>\n",
       "    </tr>\n",
       "    <tr>\n",
       "      <th>Temp3pm</th>\n",
       "      <td>0.711494</td>\n",
       "      <td>-0.079520</td>\n",
       "      <td>0.658784</td>\n",
       "      <td>0.569737</td>\n",
       "      <td>0.026337</td>\n",
       "      <td>-0.002164</td>\n",
       "      <td>0.023994</td>\n",
       "      <td>-0.500999</td>\n",
       "      <td>-0.558140</td>\n",
       "      <td>-0.296209</td>\n",
       "      <td>-0.360977</td>\n",
       "      <td>-0.380098</td>\n",
       "      <td>1.000000</td>\n",
       "      <td>-0.236219</td>\n",
       "      <td>-0.194401</td>\n",
       "    </tr>\n",
       "    <tr>\n",
       "      <th>RainToday</th>\n",
       "      <td>0.056256</td>\n",
       "      <td>0.500997</td>\n",
       "      <td>-0.200836</td>\n",
       "      <td>-0.364118</td>\n",
       "      <td>0.155427</td>\n",
       "      <td>0.102736</td>\n",
       "      <td>0.080768</td>\n",
       "      <td>0.355067</td>\n",
       "      <td>0.381179</td>\n",
       "      <td>-0.195862</td>\n",
       "      <td>0.342224</td>\n",
       "      <td>0.310101</td>\n",
       "      <td>-0.236219</td>\n",
       "      <td>1.000000</td>\n",
       "      <td>0.313097</td>\n",
       "    </tr>\n",
       "    <tr>\n",
       "      <th>RainTomorrow</th>\n",
       "      <td>0.084412</td>\n",
       "      <td>0.239032</td>\n",
       "      <td>-0.134048</td>\n",
       "      <td>-0.492543</td>\n",
       "      <td>0.233649</td>\n",
       "      <td>0.090021</td>\n",
       "      <td>0.087374</td>\n",
       "      <td>0.258973</td>\n",
       "      <td>0.450694</td>\n",
       "      <td>-0.255081</td>\n",
       "      <td>0.355177</td>\n",
       "      <td>0.430986</td>\n",
       "      <td>-0.194401</td>\n",
       "      <td>0.313097</td>\n",
       "      <td>1.000000</td>\n",
       "    </tr>\n",
       "  </tbody>\n",
       "</table>\n",
       "</div>"
      ],
      "text/plain": [
       "                MinTemp  Rainfall  Evaporation  Sunshine  WindGustSpeed  \\\n",
       "MinTemp        1.000000  0.103946     0.547158  0.103830       0.172394   \n",
       "Rainfall       0.103946  1.000000    -0.043156 -0.256919       0.133079   \n",
       "Evaporation    0.547158 -0.043156     1.000000  0.440432       0.247711   \n",
       "Sunshine       0.103830 -0.256919     0.440432  1.000000      -0.036378   \n",
       "WindGustSpeed  0.172394  0.133079     0.247711 -0.036378       1.000000   \n",
       "WindSpeed9am   0.176136  0.087387     0.229064 -0.005493       0.616384   \n",
       "WindSpeed3pm   0.174797  0.058364     0.169305  0.065722       0.698619   \n",
       "Humidity9am   -0.237315  0.224779    -0.589991 -0.548273      -0.219224   \n",
       "Humidity3pm    0.005179  0.256830    -0.463143 -0.716226      -0.030728   \n",
       "Pressure9am   -0.463430 -0.172335    -0.313479  0.024639      -0.468669   \n",
       "Cloud9am       0.089753  0.227449    -0.258149 -0.760317       0.086439   \n",
       "Cloud3pm       0.024990  0.202349    -0.260628 -0.792010       0.135735   \n",
       "Temp3pm        0.711494 -0.079520     0.658784  0.569737       0.026337   \n",
       "RainToday      0.056256  0.500997    -0.200836 -0.364118       0.155427   \n",
       "RainTomorrow   0.084412  0.239032    -0.134048 -0.492543       0.233649   \n",
       "\n",
       "               WindSpeed9am  WindSpeed3pm  Humidity9am  Humidity3pm  \\\n",
       "MinTemp            0.176136      0.174797    -0.237315     0.005179   \n",
       "Rainfall           0.087387      0.058364     0.224779     0.256830   \n",
       "Evaporation        0.229064      0.169305    -0.589991    -0.463143   \n",
       "Sunshine          -0.005493      0.065722    -0.548273    -0.716226   \n",
       "WindGustSpeed      0.616384      0.698619    -0.219224    -0.030728   \n",
       "WindSpeed9am       1.000000      0.524602    -0.270772    -0.030622   \n",
       "WindSpeed3pm       0.524602      1.000000    -0.147600     0.016331   \n",
       "Humidity9am       -0.270772     -0.147600     1.000000     0.672245   \n",
       "Humidity3pm       -0.030622      0.016331     0.672245     1.000000   \n",
       "Pressure9am       -0.233298     -0.311334     0.144297    -0.022665   \n",
       "Cloud9am           0.039472      0.057195     0.493737     0.590879   \n",
       "Cloud3pm           0.072021      0.027795     0.389866     0.601309   \n",
       "Temp3pm           -0.002164      0.023994    -0.500999    -0.558140   \n",
       "RainToday          0.102736      0.080768     0.355067     0.381179   \n",
       "RainTomorrow       0.090021      0.087374     0.258973     0.450694   \n",
       "\n",
       "               Pressure9am  Cloud9am  Cloud3pm   Temp3pm  RainToday  \\\n",
       "MinTemp          -0.463430  0.089753  0.024990  0.711494   0.056256   \n",
       "Rainfall         -0.172335  0.227449  0.202349 -0.079520   0.500997   \n",
       "Evaporation      -0.313479 -0.258149 -0.260628  0.658784  -0.200836   \n",
       "Sunshine          0.024639 -0.760317 -0.792010  0.569737  -0.364118   \n",
       "WindGustSpeed    -0.468669  0.086439  0.135735  0.026337   0.155427   \n",
       "WindSpeed9am     -0.233298  0.039472  0.072021 -0.002164   0.102736   \n",
       "WindSpeed3pm     -0.311334  0.057195  0.027795  0.023994   0.080768   \n",
       "Humidity9am       0.144297  0.493737  0.389866 -0.500999   0.355067   \n",
       "Humidity3pm      -0.022665  0.590879  0.601309 -0.558140   0.381179   \n",
       "Pressure9am       1.000000 -0.140911 -0.165094 -0.296209  -0.195862   \n",
       "Cloud9am         -0.140911  1.000000  0.677743 -0.360977   0.342224   \n",
       "Cloud3pm         -0.165094  0.677743  1.000000 -0.380098   0.310101   \n",
       "Temp3pm          -0.296209 -0.360977 -0.380098  1.000000  -0.236219   \n",
       "RainToday        -0.195862  0.342224  0.310101 -0.236219   1.000000   \n",
       "RainTomorrow     -0.255081  0.355177  0.430986 -0.194401   0.313097   \n",
       "\n",
       "               RainTomorrow  \n",
       "MinTemp            0.084412  \n",
       "Rainfall           0.239032  \n",
       "Evaporation       -0.134048  \n",
       "Sunshine          -0.492543  \n",
       "WindGustSpeed      0.233649  \n",
       "WindSpeed9am       0.090021  \n",
       "WindSpeed3pm       0.087374  \n",
       "Humidity9am        0.258973  \n",
       "Humidity3pm        0.450694  \n",
       "Pressure9am       -0.255081  \n",
       "Cloud9am           0.355177  \n",
       "Cloud3pm           0.430986  \n",
       "Temp3pm           -0.194401  \n",
       "RainToday          0.313097  \n",
       "RainTomorrow       1.000000  "
      ]
     },
     "execution_count": 41,
     "metadata": {},
     "output_type": "execute_result"
    }
   ],
   "source": [
    "rain_mod.corr()"
   ]
  },
  {
   "cell_type": "code",
   "execution_count": 42,
   "id": "c33bbb32",
   "metadata": {},
   "outputs": [],
   "source": [
    "# Change date to show month \n",
    "\n",
    "# Parse the date into datetime format\n",
    "\n",
    "rain_mod['Date'] = pd.to_datetime(rain_mod['Date'])"
   ]
  },
  {
   "cell_type": "code",
   "execution_count": 43,
   "id": "8605f0d4",
   "metadata": {},
   "outputs": [
    {
     "data": {
      "text/plain": [
       "140782    6\n",
       "140783    6\n",
       "140784    6\n",
       "140785    6\n",
       "140786    6\n",
       "Name: Month, dtype: int64"
      ]
     },
     "execution_count": 43,
     "metadata": {},
     "output_type": "execute_result"
    }
   ],
   "source": [
    "# Extract month from date\n",
    "\n",
    "rain_mod['Month'] = rain_mod['Date'].dt.month\n",
    "\n",
    "rain_mod['Month'].tail()"
   ]
  },
  {
   "cell_type": "code",
   "execution_count": 44,
   "id": "bb6c6d73",
   "metadata": {},
   "outputs": [],
   "source": [
    "rain_mod.drop(['Date','Location','WindGustDir','WindDir9am', 'WindDir3pm'], axis = 1, inplace = True)"
   ]
  },
  {
   "cell_type": "code",
   "execution_count": 45,
   "id": "4d9ad53b",
   "metadata": {},
   "outputs": [],
   "source": [
    "rain_final = rain_mod"
   ]
  },
  {
   "cell_type": "code",
   "execution_count": 46,
   "id": "ed14478e",
   "metadata": {},
   "outputs": [
    {
     "data": {
      "text/html": [
       "<div>\n",
       "<style scoped>\n",
       "    .dataframe tbody tr th:only-of-type {\n",
       "        vertical-align: middle;\n",
       "    }\n",
       "\n",
       "    .dataframe tbody tr th {\n",
       "        vertical-align: top;\n",
       "    }\n",
       "\n",
       "    .dataframe thead th {\n",
       "        text-align: right;\n",
       "    }\n",
       "</style>\n",
       "<table border=\"1\" class=\"dataframe\">\n",
       "  <thead>\n",
       "    <tr style=\"text-align: right;\">\n",
       "      <th></th>\n",
       "      <th>MinTemp</th>\n",
       "      <th>Rainfall</th>\n",
       "      <th>Evaporation</th>\n",
       "      <th>Sunshine</th>\n",
       "      <th>WindGustSpeed</th>\n",
       "      <th>WindSpeed9am</th>\n",
       "      <th>WindSpeed3pm</th>\n",
       "      <th>Humidity9am</th>\n",
       "      <th>Humidity3pm</th>\n",
       "      <th>Pressure9am</th>\n",
       "      <th>Cloud9am</th>\n",
       "      <th>Cloud3pm</th>\n",
       "      <th>Temp3pm</th>\n",
       "      <th>RainToday</th>\n",
       "      <th>RainTomorrow</th>\n",
       "      <th>Month</th>\n",
       "    </tr>\n",
       "  </thead>\n",
       "  <tbody>\n",
       "    <tr>\n",
       "      <th>MinTemp</th>\n",
       "      <td>1.000000</td>\n",
       "      <td>0.103946</td>\n",
       "      <td>0.547158</td>\n",
       "      <td>0.103830</td>\n",
       "      <td>0.172394</td>\n",
       "      <td>0.176136</td>\n",
       "      <td>0.174797</td>\n",
       "      <td>-0.237315</td>\n",
       "      <td>0.005179</td>\n",
       "      <td>-0.463430</td>\n",
       "      <td>0.089753</td>\n",
       "      <td>0.024990</td>\n",
       "      <td>0.711494</td>\n",
       "      <td>0.056256</td>\n",
       "      <td>0.084412</td>\n",
       "      <td>-0.203964</td>\n",
       "    </tr>\n",
       "    <tr>\n",
       "      <th>Rainfall</th>\n",
       "      <td>0.103946</td>\n",
       "      <td>1.000000</td>\n",
       "      <td>-0.043156</td>\n",
       "      <td>-0.256919</td>\n",
       "      <td>0.133079</td>\n",
       "      <td>0.087387</td>\n",
       "      <td>0.058364</td>\n",
       "      <td>0.224779</td>\n",
       "      <td>0.256830</td>\n",
       "      <td>-0.172335</td>\n",
       "      <td>0.227449</td>\n",
       "      <td>0.202349</td>\n",
       "      <td>-0.079520</td>\n",
       "      <td>0.500997</td>\n",
       "      <td>0.239032</td>\n",
       "      <td>-0.030863</td>\n",
       "    </tr>\n",
       "    <tr>\n",
       "      <th>Evaporation</th>\n",
       "      <td>0.547158</td>\n",
       "      <td>-0.043156</td>\n",
       "      <td>1.000000</td>\n",
       "      <td>0.440432</td>\n",
       "      <td>0.247711</td>\n",
       "      <td>0.229064</td>\n",
       "      <td>0.169305</td>\n",
       "      <td>-0.589991</td>\n",
       "      <td>-0.463143</td>\n",
       "      <td>-0.313479</td>\n",
       "      <td>-0.258149</td>\n",
       "      <td>-0.260628</td>\n",
       "      <td>0.658784</td>\n",
       "      <td>-0.200836</td>\n",
       "      <td>-0.134048</td>\n",
       "      <td>-0.051066</td>\n",
       "    </tr>\n",
       "    <tr>\n",
       "      <th>Sunshine</th>\n",
       "      <td>0.103830</td>\n",
       "      <td>-0.256919</td>\n",
       "      <td>0.440432</td>\n",
       "      <td>1.000000</td>\n",
       "      <td>-0.036378</td>\n",
       "      <td>-0.005493</td>\n",
       "      <td>0.065722</td>\n",
       "      <td>-0.548273</td>\n",
       "      <td>-0.716226</td>\n",
       "      <td>0.024639</td>\n",
       "      <td>-0.760317</td>\n",
       "      <td>-0.792010</td>\n",
       "      <td>0.569737</td>\n",
       "      <td>-0.364118</td>\n",
       "      <td>-0.492543</td>\n",
       "      <td>0.010895</td>\n",
       "    </tr>\n",
       "    <tr>\n",
       "      <th>WindGustSpeed</th>\n",
       "      <td>0.172394</td>\n",
       "      <td>0.133079</td>\n",
       "      <td>0.247711</td>\n",
       "      <td>-0.036378</td>\n",
       "      <td>1.000000</td>\n",
       "      <td>0.616384</td>\n",
       "      <td>0.698619</td>\n",
       "      <td>-0.219224</td>\n",
       "      <td>-0.030728</td>\n",
       "      <td>-0.468669</td>\n",
       "      <td>0.086439</td>\n",
       "      <td>0.135735</td>\n",
       "      <td>0.026337</td>\n",
       "      <td>0.155427</td>\n",
       "      <td>0.233649</td>\n",
       "      <td>0.060460</td>\n",
       "    </tr>\n",
       "    <tr>\n",
       "      <th>WindSpeed9am</th>\n",
       "      <td>0.176136</td>\n",
       "      <td>0.087387</td>\n",
       "      <td>0.229064</td>\n",
       "      <td>-0.005493</td>\n",
       "      <td>0.616384</td>\n",
       "      <td>1.000000</td>\n",
       "      <td>0.524602</td>\n",
       "      <td>-0.270772</td>\n",
       "      <td>-0.030622</td>\n",
       "      <td>-0.233298</td>\n",
       "      <td>0.039472</td>\n",
       "      <td>0.072021</td>\n",
       "      <td>-0.002164</td>\n",
       "      <td>0.102736</td>\n",
       "      <td>0.090021</td>\n",
       "      <td>0.051158</td>\n",
       "    </tr>\n",
       "    <tr>\n",
       "      <th>WindSpeed3pm</th>\n",
       "      <td>0.174797</td>\n",
       "      <td>0.058364</td>\n",
       "      <td>0.169305</td>\n",
       "      <td>0.065722</td>\n",
       "      <td>0.698619</td>\n",
       "      <td>0.524602</td>\n",
       "      <td>1.000000</td>\n",
       "      <td>-0.147600</td>\n",
       "      <td>0.016331</td>\n",
       "      <td>-0.311334</td>\n",
       "      <td>0.057195</td>\n",
       "      <td>0.027795</td>\n",
       "      <td>0.023994</td>\n",
       "      <td>0.080768</td>\n",
       "      <td>0.087374</td>\n",
       "      <td>0.059990</td>\n",
       "    </tr>\n",
       "    <tr>\n",
       "      <th>Humidity9am</th>\n",
       "      <td>-0.237315</td>\n",
       "      <td>0.224779</td>\n",
       "      <td>-0.589991</td>\n",
       "      <td>-0.548273</td>\n",
       "      <td>-0.219224</td>\n",
       "      <td>-0.270772</td>\n",
       "      <td>-0.147600</td>\n",
       "      <td>1.000000</td>\n",
       "      <td>0.672245</td>\n",
       "      <td>0.144297</td>\n",
       "      <td>0.493737</td>\n",
       "      <td>0.389866</td>\n",
       "      <td>-0.500999</td>\n",
       "      <td>0.355067</td>\n",
       "      <td>0.258973</td>\n",
       "      <td>-0.090668</td>\n",
       "    </tr>\n",
       "    <tr>\n",
       "      <th>Humidity3pm</th>\n",
       "      <td>0.005179</td>\n",
       "      <td>0.256830</td>\n",
       "      <td>-0.463143</td>\n",
       "      <td>-0.716226</td>\n",
       "      <td>-0.030728</td>\n",
       "      <td>-0.030622</td>\n",
       "      <td>0.016331</td>\n",
       "      <td>0.672245</td>\n",
       "      <td>1.000000</td>\n",
       "      <td>-0.022665</td>\n",
       "      <td>0.590879</td>\n",
       "      <td>0.601309</td>\n",
       "      <td>-0.558140</td>\n",
       "      <td>0.381179</td>\n",
       "      <td>0.450694</td>\n",
       "      <td>-0.021303</td>\n",
       "    </tr>\n",
       "    <tr>\n",
       "      <th>Pressure9am</th>\n",
       "      <td>-0.463430</td>\n",
       "      <td>-0.172335</td>\n",
       "      <td>-0.313479</td>\n",
       "      <td>0.024639</td>\n",
       "      <td>-0.468669</td>\n",
       "      <td>-0.233298</td>\n",
       "      <td>-0.311334</td>\n",
       "      <td>0.144297</td>\n",
       "      <td>-0.022665</td>\n",
       "      <td>1.000000</td>\n",
       "      <td>-0.140911</td>\n",
       "      <td>-0.165094</td>\n",
       "      <td>-0.296209</td>\n",
       "      <td>-0.195862</td>\n",
       "      <td>-0.255081</td>\n",
       "      <td>0.038697</td>\n",
       "    </tr>\n",
       "    <tr>\n",
       "      <th>Cloud9am</th>\n",
       "      <td>0.089753</td>\n",
       "      <td>0.227449</td>\n",
       "      <td>-0.258149</td>\n",
       "      <td>-0.760317</td>\n",
       "      <td>0.086439</td>\n",
       "      <td>0.039472</td>\n",
       "      <td>0.057195</td>\n",
       "      <td>0.493737</td>\n",
       "      <td>0.590879</td>\n",
       "      <td>-0.140911</td>\n",
       "      <td>1.000000</td>\n",
       "      <td>0.677743</td>\n",
       "      <td>-0.360977</td>\n",
       "      <td>0.342224</td>\n",
       "      <td>0.355177</td>\n",
       "      <td>-0.022559</td>\n",
       "    </tr>\n",
       "    <tr>\n",
       "      <th>Cloud3pm</th>\n",
       "      <td>0.024990</td>\n",
       "      <td>0.202349</td>\n",
       "      <td>-0.260628</td>\n",
       "      <td>-0.792010</td>\n",
       "      <td>0.135735</td>\n",
       "      <td>0.072021</td>\n",
       "      <td>0.027795</td>\n",
       "      <td>0.389866</td>\n",
       "      <td>0.601309</td>\n",
       "      <td>-0.165094</td>\n",
       "      <td>0.677743</td>\n",
       "      <td>1.000000</td>\n",
       "      <td>-0.380098</td>\n",
       "      <td>0.310101</td>\n",
       "      <td>0.430986</td>\n",
       "      <td>-0.002589</td>\n",
       "    </tr>\n",
       "    <tr>\n",
       "      <th>Temp3pm</th>\n",
       "      <td>0.711494</td>\n",
       "      <td>-0.079520</td>\n",
       "      <td>0.658784</td>\n",
       "      <td>0.569737</td>\n",
       "      <td>0.026337</td>\n",
       "      <td>-0.002164</td>\n",
       "      <td>0.023994</td>\n",
       "      <td>-0.500999</td>\n",
       "      <td>-0.558140</td>\n",
       "      <td>-0.296209</td>\n",
       "      <td>-0.360977</td>\n",
       "      <td>-0.380098</td>\n",
       "      <td>1.000000</td>\n",
       "      <td>-0.236219</td>\n",
       "      <td>-0.194401</td>\n",
       "      <td>-0.172815</td>\n",
       "    </tr>\n",
       "    <tr>\n",
       "      <th>RainToday</th>\n",
       "      <td>0.056256</td>\n",
       "      <td>0.500997</td>\n",
       "      <td>-0.200836</td>\n",
       "      <td>-0.364118</td>\n",
       "      <td>0.155427</td>\n",
       "      <td>0.102736</td>\n",
       "      <td>0.080768</td>\n",
       "      <td>0.355067</td>\n",
       "      <td>0.381179</td>\n",
       "      <td>-0.195862</td>\n",
       "      <td>0.342224</td>\n",
       "      <td>0.310101</td>\n",
       "      <td>-0.236219</td>\n",
       "      <td>1.000000</td>\n",
       "      <td>0.313097</td>\n",
       "      <td>0.009891</td>\n",
       "    </tr>\n",
       "    <tr>\n",
       "      <th>RainTomorrow</th>\n",
       "      <td>0.084412</td>\n",
       "      <td>0.239032</td>\n",
       "      <td>-0.134048</td>\n",
       "      <td>-0.492543</td>\n",
       "      <td>0.233649</td>\n",
       "      <td>0.090021</td>\n",
       "      <td>0.087374</td>\n",
       "      <td>0.258973</td>\n",
       "      <td>0.450694</td>\n",
       "      <td>-0.255081</td>\n",
       "      <td>0.355177</td>\n",
       "      <td>0.430986</td>\n",
       "      <td>-0.194401</td>\n",
       "      <td>0.313097</td>\n",
       "      <td>1.000000</td>\n",
       "      <td>0.007192</td>\n",
       "    </tr>\n",
       "    <tr>\n",
       "      <th>Month</th>\n",
       "      <td>-0.203964</td>\n",
       "      <td>-0.030863</td>\n",
       "      <td>-0.051066</td>\n",
       "      <td>0.010895</td>\n",
       "      <td>0.060460</td>\n",
       "      <td>0.051158</td>\n",
       "      <td>0.059990</td>\n",
       "      <td>-0.090668</td>\n",
       "      <td>-0.021303</td>\n",
       "      <td>0.038697</td>\n",
       "      <td>-0.022559</td>\n",
       "      <td>-0.002589</td>\n",
       "      <td>-0.172815</td>\n",
       "      <td>0.009891</td>\n",
       "      <td>0.007192</td>\n",
       "      <td>1.000000</td>\n",
       "    </tr>\n",
       "  </tbody>\n",
       "</table>\n",
       "</div>"
      ],
      "text/plain": [
       "                MinTemp  Rainfall  Evaporation  Sunshine  WindGustSpeed  \\\n",
       "MinTemp        1.000000  0.103946     0.547158  0.103830       0.172394   \n",
       "Rainfall       0.103946  1.000000    -0.043156 -0.256919       0.133079   \n",
       "Evaporation    0.547158 -0.043156     1.000000  0.440432       0.247711   \n",
       "Sunshine       0.103830 -0.256919     0.440432  1.000000      -0.036378   \n",
       "WindGustSpeed  0.172394  0.133079     0.247711 -0.036378       1.000000   \n",
       "WindSpeed9am   0.176136  0.087387     0.229064 -0.005493       0.616384   \n",
       "WindSpeed3pm   0.174797  0.058364     0.169305  0.065722       0.698619   \n",
       "Humidity9am   -0.237315  0.224779    -0.589991 -0.548273      -0.219224   \n",
       "Humidity3pm    0.005179  0.256830    -0.463143 -0.716226      -0.030728   \n",
       "Pressure9am   -0.463430 -0.172335    -0.313479  0.024639      -0.468669   \n",
       "Cloud9am       0.089753  0.227449    -0.258149 -0.760317       0.086439   \n",
       "Cloud3pm       0.024990  0.202349    -0.260628 -0.792010       0.135735   \n",
       "Temp3pm        0.711494 -0.079520     0.658784  0.569737       0.026337   \n",
       "RainToday      0.056256  0.500997    -0.200836 -0.364118       0.155427   \n",
       "RainTomorrow   0.084412  0.239032    -0.134048 -0.492543       0.233649   \n",
       "Month         -0.203964 -0.030863    -0.051066  0.010895       0.060460   \n",
       "\n",
       "               WindSpeed9am  WindSpeed3pm  Humidity9am  Humidity3pm  \\\n",
       "MinTemp            0.176136      0.174797    -0.237315     0.005179   \n",
       "Rainfall           0.087387      0.058364     0.224779     0.256830   \n",
       "Evaporation        0.229064      0.169305    -0.589991    -0.463143   \n",
       "Sunshine          -0.005493      0.065722    -0.548273    -0.716226   \n",
       "WindGustSpeed      0.616384      0.698619    -0.219224    -0.030728   \n",
       "WindSpeed9am       1.000000      0.524602    -0.270772    -0.030622   \n",
       "WindSpeed3pm       0.524602      1.000000    -0.147600     0.016331   \n",
       "Humidity9am       -0.270772     -0.147600     1.000000     0.672245   \n",
       "Humidity3pm       -0.030622      0.016331     0.672245     1.000000   \n",
       "Pressure9am       -0.233298     -0.311334     0.144297    -0.022665   \n",
       "Cloud9am           0.039472      0.057195     0.493737     0.590879   \n",
       "Cloud3pm           0.072021      0.027795     0.389866     0.601309   \n",
       "Temp3pm           -0.002164      0.023994    -0.500999    -0.558140   \n",
       "RainToday          0.102736      0.080768     0.355067     0.381179   \n",
       "RainTomorrow       0.090021      0.087374     0.258973     0.450694   \n",
       "Month              0.051158      0.059990    -0.090668    -0.021303   \n",
       "\n",
       "               Pressure9am  Cloud9am  Cloud3pm   Temp3pm  RainToday  \\\n",
       "MinTemp          -0.463430  0.089753  0.024990  0.711494   0.056256   \n",
       "Rainfall         -0.172335  0.227449  0.202349 -0.079520   0.500997   \n",
       "Evaporation      -0.313479 -0.258149 -0.260628  0.658784  -0.200836   \n",
       "Sunshine          0.024639 -0.760317 -0.792010  0.569737  -0.364118   \n",
       "WindGustSpeed    -0.468669  0.086439  0.135735  0.026337   0.155427   \n",
       "WindSpeed9am     -0.233298  0.039472  0.072021 -0.002164   0.102736   \n",
       "WindSpeed3pm     -0.311334  0.057195  0.027795  0.023994   0.080768   \n",
       "Humidity9am       0.144297  0.493737  0.389866 -0.500999   0.355067   \n",
       "Humidity3pm      -0.022665  0.590879  0.601309 -0.558140   0.381179   \n",
       "Pressure9am       1.000000 -0.140911 -0.165094 -0.296209  -0.195862   \n",
       "Cloud9am         -0.140911  1.000000  0.677743 -0.360977   0.342224   \n",
       "Cloud3pm         -0.165094  0.677743  1.000000 -0.380098   0.310101   \n",
       "Temp3pm          -0.296209 -0.360977 -0.380098  1.000000  -0.236219   \n",
       "RainToday        -0.195862  0.342224  0.310101 -0.236219   1.000000   \n",
       "RainTomorrow     -0.255081  0.355177  0.430986 -0.194401   0.313097   \n",
       "Month             0.038697 -0.022559 -0.002589 -0.172815   0.009891   \n",
       "\n",
       "               RainTomorrow     Month  \n",
       "MinTemp            0.084412 -0.203964  \n",
       "Rainfall           0.239032 -0.030863  \n",
       "Evaporation       -0.134048 -0.051066  \n",
       "Sunshine          -0.492543  0.010895  \n",
       "WindGustSpeed      0.233649  0.060460  \n",
       "WindSpeed9am       0.090021  0.051158  \n",
       "WindSpeed3pm       0.087374  0.059990  \n",
       "Humidity9am        0.258973 -0.090668  \n",
       "Humidity3pm        0.450694 -0.021303  \n",
       "Pressure9am       -0.255081  0.038697  \n",
       "Cloud9am           0.355177 -0.022559  \n",
       "Cloud3pm           0.430986 -0.002589  \n",
       "Temp3pm           -0.194401 -0.172815  \n",
       "RainToday          0.313097  0.009891  \n",
       "RainTomorrow       1.000000  0.007192  \n",
       "Month              0.007192  1.000000  "
      ]
     },
     "execution_count": 46,
     "metadata": {},
     "output_type": "execute_result"
    }
   ],
   "source": [
    "rain_final.corr()"
   ]
  },
  {
   "cell_type": "code",
   "execution_count": 47,
   "id": "c36c8316",
   "metadata": {},
   "outputs": [
    {
     "data": {
      "text/plain": [
       "(140787, 16)"
      ]
     },
     "execution_count": 47,
     "metadata": {},
     "output_type": "execute_result"
    }
   ],
   "source": [
    "rain_final.shape"
   ]
  },
  {
   "cell_type": "code",
   "execution_count": 104,
   "id": "98ebffac",
   "metadata": {},
   "outputs": [
    {
     "data": {
      "image/png": "[encoded data removed]",
      "text/plain": [
       "<Figure size 864x1296 with 18 Axes>"
      ]
     },
     "metadata": {},
     "output_type": "display_data"
    }
   ],
   "source": [
    "fig, axes = plt.subplots(nrows=6, ncols=3, figsize=(12, 18))\n",
    "axes = axes.reshape(-1)\n",
    "\n",
    "continuous = [col for col in rain_final.columns if rain_final[col].dtype != object]\n",
    "for i, col in enumerate(continuous):\n",
    "    sns.histplot(rain_final[col], ax=axes[i])\n",
    "\n",
    "fig.tight_layout(pad=2.0)\n",
    "plt.title('Histograms of rainfall features');"
   ]
  },
  {
   "cell_type": "markdown",
   "id": "1757d400",
   "metadata": {},
   "source": [
    "### CHECK STATISTICAL DISTRIBUTION USING DESCRIBE FUNCTION"
   ]
  },
  {
   "cell_type": "code",
   "execution_count": 48,
   "id": "ea03338a",
   "metadata": {},
   "outputs": [
    {
     "data": {
      "text/html": [
       "<div>\n",
       "<style scoped>\n",
       "    .dataframe tbody tr th:only-of-type {\n",
       "        vertical-align: middle;\n",
       "    }\n",
       "\n",
       "    .dataframe tbody tr th {\n",
       "        vertical-align: top;\n",
       "    }\n",
       "\n",
       "    .dataframe thead th {\n",
       "        text-align: right;\n",
       "    }\n",
       "</style>\n",
       "<table border=\"1\" class=\"dataframe\">\n",
       "  <thead>\n",
       "    <tr style=\"text-align: right;\">\n",
       "      <th></th>\n",
       "      <th>MinTemp</th>\n",
       "      <th>Rainfall</th>\n",
       "      <th>Evaporation</th>\n",
       "      <th>Sunshine</th>\n",
       "      <th>WindGustSpeed</th>\n",
       "      <th>WindSpeed9am</th>\n",
       "      <th>WindSpeed3pm</th>\n",
       "      <th>Humidity9am</th>\n",
       "      <th>Humidity3pm</th>\n",
       "      <th>Pressure9am</th>\n",
       "      <th>Cloud9am</th>\n",
       "      <th>Cloud3pm</th>\n",
       "      <th>Temp3pm</th>\n",
       "      <th>RainToday</th>\n",
       "      <th>RainTomorrow</th>\n",
       "      <th>Month</th>\n",
       "    </tr>\n",
       "  </thead>\n",
       "  <tbody>\n",
       "    <tr>\n",
       "      <th>count</th>\n",
       "      <td>140787.000000</td>\n",
       "      <td>140787.000000</td>\n",
       "      <td>140787.000000</td>\n",
       "      <td>140787.000000</td>\n",
       "      <td>140787.000000</td>\n",
       "      <td>140787.000000</td>\n",
       "      <td>140787.000000</td>\n",
       "      <td>140787.000000</td>\n",
       "      <td>140787.000000</td>\n",
       "      <td>140787.000000</td>\n",
       "      <td>140787.000000</td>\n",
       "      <td>140787.000000</td>\n",
       "      <td>140787.000000</td>\n",
       "      <td>140787.000000</td>\n",
       "      <td>140787.000000</td>\n",
       "      <td>140787.000000</td>\n",
       "    </tr>\n",
       "    <tr>\n",
       "      <th>mean</th>\n",
       "      <td>12.185343</td>\n",
       "      <td>2.349974</td>\n",
       "      <td>5.084787</td>\n",
       "      <td>7.448815</td>\n",
       "      <td>39.745438</td>\n",
       "      <td>13.989631</td>\n",
       "      <td>18.617894</td>\n",
       "      <td>68.888076</td>\n",
       "      <td>51.486128</td>\n",
       "      <td>1017.804351</td>\n",
       "      <td>4.366527</td>\n",
       "      <td>4.465090</td>\n",
       "      <td>21.732450</td>\n",
       "      <td>0.223423</td>\n",
       "      <td>0.221618</td>\n",
       "      <td>6.403482</td>\n",
       "    </tr>\n",
       "    <tr>\n",
       "      <th>std</th>\n",
       "      <td>6.398611</td>\n",
       "      <td>8.465173</td>\n",
       "      <td>3.683196</td>\n",
       "      <td>3.463607</td>\n",
       "      <td>13.506221</td>\n",
       "      <td>8.862650</td>\n",
       "      <td>8.751556</td>\n",
       "      <td>19.047060</td>\n",
       "      <td>20.728168</td>\n",
       "      <td>6.888713</td>\n",
       "      <td>2.550258</td>\n",
       "      <td>2.370593</td>\n",
       "      <td>6.936526</td>\n",
       "      <td>0.416541</td>\n",
       "      <td>0.415337</td>\n",
       "      <td>3.426583</td>\n",
       "    </tr>\n",
       "    <tr>\n",
       "      <th>min</th>\n",
       "      <td>-8.500000</td>\n",
       "      <td>0.000000</td>\n",
       "      <td>-4.674606</td>\n",
       "      <td>-2.864639</td>\n",
       "      <td>6.000000</td>\n",
       "      <td>-1.425902</td>\n",
       "      <td>0.000000</td>\n",
       "      <td>-92.478176</td>\n",
       "      <td>-59.315374</td>\n",
       "      <td>980.500000</td>\n",
       "      <td>-2.783044</td>\n",
       "      <td>-1.970532</td>\n",
       "      <td>-5.400000</td>\n",
       "      <td>0.000000</td>\n",
       "      <td>0.000000</td>\n",
       "      <td>1.000000</td>\n",
       "    </tr>\n",
       "    <tr>\n",
       "      <th>25%</th>\n",
       "      <td>7.600000</td>\n",
       "      <td>0.000000</td>\n",
       "      <td>2.600000</td>\n",
       "      <td>5.000000</td>\n",
       "      <td>31.000000</td>\n",
       "      <td>7.000000</td>\n",
       "      <td>13.000000</td>\n",
       "      <td>57.000000</td>\n",
       "      <td>37.000000</td>\n",
       "      <td>1013.300000</td>\n",
       "      <td>2.000000</td>\n",
       "      <td>2.596152</td>\n",
       "      <td>16.700000</td>\n",
       "      <td>0.000000</td>\n",
       "      <td>0.000000</td>\n",
       "      <td>3.000000</td>\n",
       "    </tr>\n",
       "    <tr>\n",
       "      <th>50%</th>\n",
       "      <td>12.000000</td>\n",
       "      <td>0.000000</td>\n",
       "      <td>4.604556</td>\n",
       "      <td>7.800394</td>\n",
       "      <td>38.372438</td>\n",
       "      <td>13.000000</td>\n",
       "      <td>19.000000</td>\n",
       "      <td>70.000000</td>\n",
       "      <td>52.000000</td>\n",
       "      <td>1017.900000</td>\n",
       "      <td>4.543553</td>\n",
       "      <td>4.514023</td>\n",
       "      <td>21.200000</td>\n",
       "      <td>0.000000</td>\n",
       "      <td>0.000000</td>\n",
       "      <td>6.000000</td>\n",
       "    </tr>\n",
       "    <tr>\n",
       "      <th>75%</th>\n",
       "      <td>16.800000</td>\n",
       "      <td>0.800000</td>\n",
       "      <td>6.800000</td>\n",
       "      <td>10.186833</td>\n",
       "      <td>48.000000</td>\n",
       "      <td>19.000000</td>\n",
       "      <td>24.000000</td>\n",
       "      <td>83.000000</td>\n",
       "      <td>66.000000</td>\n",
       "      <td>1022.400000</td>\n",
       "      <td>7.000000</td>\n",
       "      <td>7.000000</td>\n",
       "      <td>26.500000</td>\n",
       "      <td>0.000000</td>\n",
       "      <td>0.000000</td>\n",
       "      <td>9.000000</td>\n",
       "    </tr>\n",
       "    <tr>\n",
       "      <th>max</th>\n",
       "      <td>33.900000</td>\n",
       "      <td>371.000000</td>\n",
       "      <td>145.000000</td>\n",
       "      <td>22.634131</td>\n",
       "      <td>137.263584</td>\n",
       "      <td>130.000000</td>\n",
       "      <td>87.000000</td>\n",
       "      <td>110.146923</td>\n",
       "      <td>100.000000</td>\n",
       "      <td>1041.000000</td>\n",
       "      <td>10.337516</td>\n",
       "      <td>10.281961</td>\n",
       "      <td>46.700000</td>\n",
       "      <td>1.000000</td>\n",
       "      <td>1.000000</td>\n",
       "      <td>12.000000</td>\n",
       "    </tr>\n",
       "  </tbody>\n",
       "</table>\n",
       "</div>"
      ],
      "text/plain": [
       "             MinTemp       Rainfall    Evaporation       Sunshine  \\\n",
       "count  140787.000000  140787.000000  140787.000000  140787.000000   \n",
       "mean       12.185343       2.349974       5.084787       7.448815   \n",
       "std         6.398611       8.465173       3.683196       3.463607   \n",
       "min        -8.500000       0.000000      -4.674606      -2.864639   \n",
       "25%         7.600000       0.000000       2.600000       5.000000   \n",
       "50%        12.000000       0.000000       4.604556       7.800394   \n",
       "75%        16.800000       0.800000       6.800000      10.186833   \n",
       "max        33.900000     371.000000     145.000000      22.634131   \n",
       "\n",
       "       WindGustSpeed   WindSpeed9am   WindSpeed3pm    Humidity9am  \\\n",
       "count  140787.000000  140787.000000  140787.000000  140787.000000   \n",
       "mean       39.745438      13.989631      18.617894      68.888076   \n",
       "std        13.506221       8.862650       8.751556      19.047060   \n",
       "min         6.000000      -1.425902       0.000000     -92.478176   \n",
       "25%        31.000000       7.000000      13.000000      57.000000   \n",
       "50%        38.372438      13.000000      19.000000      70.000000   \n",
       "75%        48.000000      19.000000      24.000000      83.000000   \n",
       "max       137.263584     130.000000      87.000000     110.146923   \n",
       "\n",
       "         Humidity3pm    Pressure9am       Cloud9am       Cloud3pm  \\\n",
       "count  140787.000000  140787.000000  140787.000000  140787.000000   \n",
       "mean       51.486128    1017.804351       4.366527       4.465090   \n",
       "std        20.728168       6.888713       2.550258       2.370593   \n",
       "min       -59.315374     980.500000      -2.783044      -1.970532   \n",
       "25%        37.000000    1013.300000       2.000000       2.596152   \n",
       "50%        52.000000    1017.900000       4.543553       4.514023   \n",
       "75%        66.000000    1022.400000       7.000000       7.000000   \n",
       "max       100.000000    1041.000000      10.337516      10.281961   \n",
       "\n",
       "             Temp3pm      RainToday   RainTomorrow          Month  \n",
       "count  140787.000000  140787.000000  140787.000000  140787.000000  \n",
       "mean       21.732450       0.223423       0.221618       6.403482  \n",
       "std         6.936526       0.416541       0.415337       3.426583  \n",
       "min        -5.400000       0.000000       0.000000       1.000000  \n",
       "25%        16.700000       0.000000       0.000000       3.000000  \n",
       "50%        21.200000       0.000000       0.000000       6.000000  \n",
       "75%        26.500000       0.000000       0.000000       9.000000  \n",
       "max        46.700000       1.000000       1.000000      12.000000  "
      ]
     },
     "execution_count": 48,
     "metadata": {},
     "output_type": "execute_result"
    }
   ],
   "source": [
    "rain_final.describe()\n"
   ]
  },
  {
   "cell_type": "markdown",
   "id": "dabceaef",
   "metadata": {},
   "source": [
    "## 8. SETTING PREDICTIVE & TARGET VARIABLE"
   ]
  },
  {
   "cell_type": "code",
   "execution_count": 49,
   "id": "d49acac3",
   "metadata": {},
   "outputs": [
    {
     "data": {
      "text/html": [
       "<div>\n",
       "<style scoped>\n",
       "    .dataframe tbody tr th:only-of-type {\n",
       "        vertical-align: middle;\n",
       "    }\n",
       "\n",
       "    .dataframe tbody tr th {\n",
       "        vertical-align: top;\n",
       "    }\n",
       "\n",
       "    .dataframe thead th {\n",
       "        text-align: right;\n",
       "    }\n",
       "</style>\n",
       "<table border=\"1\" class=\"dataframe\">\n",
       "  <thead>\n",
       "    <tr style=\"text-align: right;\">\n",
       "      <th></th>\n",
       "      <th>MinTemp</th>\n",
       "      <th>Rainfall</th>\n",
       "      <th>Evaporation</th>\n",
       "      <th>Sunshine</th>\n",
       "      <th>WindGustSpeed</th>\n",
       "      <th>WindSpeed9am</th>\n",
       "      <th>WindSpeed3pm</th>\n",
       "      <th>Humidity9am</th>\n",
       "      <th>Humidity3pm</th>\n",
       "      <th>Pressure9am</th>\n",
       "      <th>Cloud9am</th>\n",
       "      <th>Cloud3pm</th>\n",
       "      <th>Temp3pm</th>\n",
       "      <th>RainToday</th>\n",
       "      <th>Month</th>\n",
       "    </tr>\n",
       "  </thead>\n",
       "  <tbody>\n",
       "    <tr>\n",
       "      <th>0</th>\n",
       "      <td>13.4</td>\n",
       "      <td>0.6</td>\n",
       "      <td>6.573820</td>\n",
       "      <td>6.752406</td>\n",
       "      <td>44.0</td>\n",
       "      <td>20.0</td>\n",
       "      <td>24.0</td>\n",
       "      <td>71.0</td>\n",
       "      <td>22.0</td>\n",
       "      <td>1007.7</td>\n",
       "      <td>8.000000</td>\n",
       "      <td>4.945491</td>\n",
       "      <td>21.8</td>\n",
       "      <td>0.0</td>\n",
       "      <td>12</td>\n",
       "    </tr>\n",
       "    <tr>\n",
       "      <th>1</th>\n",
       "      <td>7.4</td>\n",
       "      <td>0.0</td>\n",
       "      <td>6.623835</td>\n",
       "      <td>11.065102</td>\n",
       "      <td>44.0</td>\n",
       "      <td>4.0</td>\n",
       "      <td>22.0</td>\n",
       "      <td>44.0</td>\n",
       "      <td>25.0</td>\n",
       "      <td>1010.6</td>\n",
       "      <td>1.845178</td>\n",
       "      <td>2.714469</td>\n",
       "      <td>24.3</td>\n",
       "      <td>0.0</td>\n",
       "      <td>12</td>\n",
       "    </tr>\n",
       "    <tr>\n",
       "      <th>2</th>\n",
       "      <td>12.9</td>\n",
       "      <td>0.0</td>\n",
       "      <td>8.010544</td>\n",
       "      <td>11.010891</td>\n",
       "      <td>46.0</td>\n",
       "      <td>19.0</td>\n",
       "      <td>26.0</td>\n",
       "      <td>38.0</td>\n",
       "      <td>30.0</td>\n",
       "      <td>1007.6</td>\n",
       "      <td>2.314554</td>\n",
       "      <td>2.000000</td>\n",
       "      <td>23.2</td>\n",
       "      <td>0.0</td>\n",
       "      <td>12</td>\n",
       "    </tr>\n",
       "    <tr>\n",
       "      <th>3</th>\n",
       "      <td>9.2</td>\n",
       "      <td>0.0</td>\n",
       "      <td>6.942286</td>\n",
       "      <td>11.274447</td>\n",
       "      <td>24.0</td>\n",
       "      <td>11.0</td>\n",
       "      <td>9.0</td>\n",
       "      <td>45.0</td>\n",
       "      <td>16.0</td>\n",
       "      <td>1017.6</td>\n",
       "      <td>1.498717</td>\n",
       "      <td>2.049022</td>\n",
       "      <td>26.5</td>\n",
       "      <td>0.0</td>\n",
       "      <td>12</td>\n",
       "    </tr>\n",
       "    <tr>\n",
       "      <th>4</th>\n",
       "      <td>17.5</td>\n",
       "      <td>1.0</td>\n",
       "      <td>6.802123</td>\n",
       "      <td>6.032625</td>\n",
       "      <td>41.0</td>\n",
       "      <td>7.0</td>\n",
       "      <td>20.0</td>\n",
       "      <td>82.0</td>\n",
       "      <td>33.0</td>\n",
       "      <td>1010.8</td>\n",
       "      <td>7.000000</td>\n",
       "      <td>8.000000</td>\n",
       "      <td>29.7</td>\n",
       "      <td>0.0</td>\n",
       "      <td>12</td>\n",
       "    </tr>\n",
       "    <tr>\n",
       "      <th>...</th>\n",
       "      <td>...</td>\n",
       "      <td>...</td>\n",
       "      <td>...</td>\n",
       "      <td>...</td>\n",
       "      <td>...</td>\n",
       "      <td>...</td>\n",
       "      <td>...</td>\n",
       "      <td>...</td>\n",
       "      <td>...</td>\n",
       "      <td>...</td>\n",
       "      <td>...</td>\n",
       "      <td>...</td>\n",
       "      <td>...</td>\n",
       "      <td>...</td>\n",
       "      <td>...</td>\n",
       "    </tr>\n",
       "    <tr>\n",
       "      <th>140782</th>\n",
       "      <td>3.5</td>\n",
       "      <td>0.0</td>\n",
       "      <td>4.433097</td>\n",
       "      <td>10.098943</td>\n",
       "      <td>31.0</td>\n",
       "      <td>15.0</td>\n",
       "      <td>13.0</td>\n",
       "      <td>59.0</td>\n",
       "      <td>27.0</td>\n",
       "      <td>1024.7</td>\n",
       "      <td>1.896302</td>\n",
       "      <td>2.507768</td>\n",
       "      <td>20.9</td>\n",
       "      <td>0.0</td>\n",
       "      <td>6</td>\n",
       "    </tr>\n",
       "    <tr>\n",
       "      <th>140783</th>\n",
       "      <td>2.8</td>\n",
       "      <td>0.0</td>\n",
       "      <td>4.939361</td>\n",
       "      <td>10.806266</td>\n",
       "      <td>31.0</td>\n",
       "      <td>13.0</td>\n",
       "      <td>11.0</td>\n",
       "      <td>51.0</td>\n",
       "      <td>24.0</td>\n",
       "      <td>1024.6</td>\n",
       "      <td>1.129723</td>\n",
       "      <td>2.222009</td>\n",
       "      <td>22.4</td>\n",
       "      <td>0.0</td>\n",
       "      <td>6</td>\n",
       "    </tr>\n",
       "    <tr>\n",
       "      <th>140784</th>\n",
       "      <td>3.6</td>\n",
       "      <td>0.0</td>\n",
       "      <td>4.887565</td>\n",
       "      <td>11.347392</td>\n",
       "      <td>22.0</td>\n",
       "      <td>13.0</td>\n",
       "      <td>9.0</td>\n",
       "      <td>56.0</td>\n",
       "      <td>21.0</td>\n",
       "      <td>1023.5</td>\n",
       "      <td>1.002814</td>\n",
       "      <td>1.857814</td>\n",
       "      <td>24.5</td>\n",
       "      <td>0.0</td>\n",
       "      <td>6</td>\n",
       "    </tr>\n",
       "    <tr>\n",
       "      <th>140785</th>\n",
       "      <td>5.4</td>\n",
       "      <td>0.0</td>\n",
       "      <td>5.892828</td>\n",
       "      <td>11.038058</td>\n",
       "      <td>37.0</td>\n",
       "      <td>9.0</td>\n",
       "      <td>9.0</td>\n",
       "      <td>53.0</td>\n",
       "      <td>24.0</td>\n",
       "      <td>1021.0</td>\n",
       "      <td>1.178625</td>\n",
       "      <td>2.383502</td>\n",
       "      <td>26.1</td>\n",
       "      <td>0.0</td>\n",
       "      <td>6</td>\n",
       "    </tr>\n",
       "    <tr>\n",
       "      <th>140786</th>\n",
       "      <td>7.8</td>\n",
       "      <td>0.0</td>\n",
       "      <td>6.321331</td>\n",
       "      <td>10.392813</td>\n",
       "      <td>28.0</td>\n",
       "      <td>13.0</td>\n",
       "      <td>7.0</td>\n",
       "      <td>51.0</td>\n",
       "      <td>24.0</td>\n",
       "      <td>1019.4</td>\n",
       "      <td>3.000000</td>\n",
       "      <td>2.000000</td>\n",
       "      <td>26.0</td>\n",
       "      <td>0.0</td>\n",
       "      <td>6</td>\n",
       "    </tr>\n",
       "  </tbody>\n",
       "</table>\n",
       "<p>140787 rows × 15 columns</p>\n",
       "</div>"
      ],
      "text/plain": [
       "        MinTemp  Rainfall  Evaporation   Sunshine  WindGustSpeed  \\\n",
       "0          13.4       0.6     6.573820   6.752406           44.0   \n",
       "1           7.4       0.0     6.623835  11.065102           44.0   \n",
       "2          12.9       0.0     8.010544  11.010891           46.0   \n",
       "3           9.2       0.0     6.942286  11.274447           24.0   \n",
       "4          17.5       1.0     6.802123   6.032625           41.0   \n",
       "...         ...       ...          ...        ...            ...   \n",
       "140782      3.5       0.0     4.433097  10.098943           31.0   \n",
       "140783      2.8       0.0     4.939361  10.806266           31.0   \n",
       "140784      3.6       0.0     4.887565  11.347392           22.0   \n",
       "140785      5.4       0.0     5.892828  11.038058           37.0   \n",
       "140786      7.8       0.0     6.321331  10.392813           28.0   \n",
       "\n",
       "        WindSpeed9am  WindSpeed3pm  Humidity9am  Humidity3pm  Pressure9am  \\\n",
       "0               20.0          24.0         71.0         22.0       1007.7   \n",
       "1                4.0          22.0         44.0         25.0       1010.6   \n",
       "2               19.0          26.0         38.0         30.0       1007.6   \n",
       "3               11.0           9.0         45.0         16.0       1017.6   \n",
       "4                7.0          20.0         82.0         33.0       1010.8   \n",
       "...              ...           ...          ...          ...          ...   \n",
       "140782          15.0          13.0         59.0         27.0       1024.7   \n",
       "140783          13.0          11.0         51.0         24.0       1024.6   \n",
       "140784          13.0           9.0         56.0         21.0       1023.5   \n",
       "140785           9.0           9.0         53.0         24.0       1021.0   \n",
       "140786          13.0           7.0         51.0         24.0       1019.4   \n",
       "\n",
       "        Cloud9am  Cloud3pm  Temp3pm  RainToday  Month  \n",
       "0       8.000000  4.945491     21.8        0.0     12  \n",
       "1       1.845178  2.714469     24.3        0.0     12  \n",
       "2       2.314554  2.000000     23.2        0.0     12  \n",
       "3       1.498717  2.049022     26.5        0.0     12  \n",
       "4       7.000000  8.000000     29.7        0.0     12  \n",
       "...          ...       ...      ...        ...    ...  \n",
       "140782  1.896302  2.507768     20.9        0.0      6  \n",
       "140783  1.129723  2.222009     22.4        0.0      6  \n",
       "140784  1.002814  1.857814     24.5        0.0      6  \n",
       "140785  1.178625  2.383502     26.1        0.0      6  \n",
       "140786  3.000000  2.000000     26.0        0.0      6  \n",
       "\n",
       "[140787 rows x 15 columns]"
      ]
     },
     "execution_count": 49,
     "metadata": {},
     "output_type": "execute_result"
    }
   ],
   "source": [
    "y = rain_final['RainTomorrow'] #Set target\n",
    "X = rain_final.drop(['RainTomorrow'], axis = 1) #Set feature variables\n",
    "\n",
    "X"
   ]
  },
  {
   "cell_type": "code",
   "execution_count": 50,
   "id": "da0e1f68",
   "metadata": {},
   "outputs": [],
   "source": [
    "X_train, X_test, y_train, y_test = train_test_split(X, y, test_size = 0.2, random_state = 1)"
   ]
  },
  {
   "cell_type": "code",
   "execution_count": 51,
   "id": "86cdd42e",
   "metadata": {},
   "outputs": [
    {
     "data": {
      "text/plain": [
       "((112629, 15), (28158, 15))"
      ]
     },
     "execution_count": 51,
     "metadata": {},
     "output_type": "execute_result"
    }
   ],
   "source": [
    "X_train.shape, X_test.shape"
   ]
  },
  {
   "cell_type": "markdown",
   "id": "e3ca0799",
   "metadata": {},
   "source": [
    "### Check proportion of samples with RainTomorrow = 1"
   ]
  },
  {
   "cell_type": "code",
   "execution_count": 52,
   "id": "10bca0f4",
   "metadata": {},
   "outputs": [
    {
     "data": {
      "text/plain": [
       "(24961.0, 6240.0, 0.2216214296495574, 0.22160664819944598)"
      ]
     },
     "execution_count": 52,
     "metadata": {},
     "output_type": "execute_result"
    }
   ],
   "source": [
    "#Proportion of sample with RainTomorrow = 1\n",
    "\n",
    "y_train.sum(), y_test.sum(), y_train.sum()/len(y_train), y_test.sum()/len(y_test)"
   ]
  },
  {
   "cell_type": "markdown",
   "id": "d44917d5",
   "metadata": {},
   "source": [
    "## 9. PERFORM COMBINED OVER AND UNDER-SAMPLING INCORPORATING SMOTE"
   ]
  },
  {
   "cell_type": "code",
   "execution_count": 53,
   "id": "3c73dade",
   "metadata": {},
   "outputs": [],
   "source": [
    "# Combine over and under sampling\n",
    "\n",
    "from imblearn.over_sampling import RandomOverSampler\n",
    "from imblearn.under_sampling import RandomUnderSampler\n",
    "\n",
    "under = RandomUnderSampler(sampling_strategy=0.5)\n",
    "over = SMOTE(sampling_strategy=0.55)\n",
    "\n",
    "#Fit and apply the transform\n",
    "X_train, y_train = under.fit_resample(X_train, y_train)\n",
    "X_train, y_train = over.fit_resample(X_train, y_train)"
   ]
  },
  {
   "cell_type": "markdown",
   "id": "afb5732d",
   "metadata": {},
   "source": [
    "### Apply standardised scaling"
   ]
  },
  {
   "cell_type": "code",
   "execution_count": 54,
   "id": "d2cf1c8c",
   "metadata": {},
   "outputs": [],
   "source": [
    "from sklearn.preprocessing import StandardScaler\n",
    "sc = StandardScaler()\n",
    "X_train = sc.fit_transform(X_train)\n",
    "X_test = sc.transform (X_test)"
   ]
  },
  {
   "cell_type": "markdown",
   "id": "96c19634",
   "metadata": {},
   "source": [
    "## 10. MODELLING"
   ]
  },
  {
   "cell_type": "markdown",
   "id": "92a154f8",
   "metadata": {},
   "source": [
    "### LOGISTIC REGRESSION "
   ]
  },
  {
   "cell_type": "code",
   "execution_count": 55,
   "id": "cedcb23f",
   "metadata": {},
   "outputs": [
    {
     "data": {
      "text/plain": [
       "LogisticRegression(max_iter=5000)"
      ]
     },
     "execution_count": 55,
     "metadata": {},
     "output_type": "execute_result"
    }
   ],
   "source": [
    "from sklearn.linear_model import LogisticRegression\n",
    "L_model = LogisticRegression(max_iter = 5000)\n",
    "\n",
    "L_model.fit(X_train, y_train)"
   ]
  },
  {
   "cell_type": "code",
   "execution_count": 56,
   "id": "791c8ad7",
   "metadata": {},
   "outputs": [
    {
     "name": "stdout",
     "output_type": "stream",
     "text": [
      "MinTemp     -0.427771\n",
      "Rainfall    +0.004707\n",
      "Evaporation  -0.068760\n",
      "Sunshine    -1.469359\n",
      "WindGustSpeed  +0.764191\n",
      "WindSpeed9am  -0.170792\n",
      "WindSpeed3pm  -0.081907\n",
      "Humidity9am  +0.008784\n",
      "Humidity3pm  +1.115350\n",
      "Pressure9am  -0.462485\n",
      "Cloud9am    -0.407849\n",
      "Cloud3pm    +0.072139\n",
      "Temp3pm     +0.939589\n",
      "RainToday   +0.201326\n",
      "Month       +0.098455\n"
     ]
    }
   ],
   "source": [
    "# predict test class:\n",
    "\n",
    "y_pred_lr = L_model.predict(X_test)\n",
    "\n",
    "for col in zip(X.columns, L_model.coef_[0]):\n",
    "    print('{:<10s}  {:+.06f}'.format(col[0], col[1]))  "
   ]
  },
  {
   "cell_type": "code",
   "execution_count": 57,
   "id": "27251f0f",
   "metadata": {},
   "outputs": [
    {
     "data": {
      "text/plain": [
       "0.8440940407699411"
      ]
     },
     "execution_count": 57,
     "metadata": {},
     "output_type": "execute_result"
    }
   ],
   "source": [
    "# predicted test probability:\n",
    "\n",
    "from sklearn.metrics import accuracy_score\n",
    "\n",
    "L_acc = accuracy_score(y_test, y_pred_lr)\n",
    "L_acc"
   ]
  },
  {
   "cell_type": "code",
   "execution_count": 58,
   "id": "4d8e4fa1",
   "metadata": {},
   "outputs": [
    {
     "name": "stdout",
     "output_type": "stream",
     "text": [
      "Optimised parameter Penalty:, l1\n",
      "Optimised parameter C:, 1\n"
     ]
    },
    {
     "data": {
      "text/html": [
       "<div>\n",
       "<style scoped>\n",
       "    .dataframe tbody tr th:only-of-type {\n",
       "        vertical-align: middle;\n",
       "    }\n",
       "\n",
       "    .dataframe tbody tr th {\n",
       "        vertical-align: top;\n",
       "    }\n",
       "\n",
       "    .dataframe thead th {\n",
       "        text-align: right;\n",
       "    }\n",
       "</style>\n",
       "<table border=\"1\" class=\"dataframe\">\n",
       "  <thead>\n",
       "    <tr style=\"text-align: right;\">\n",
       "      <th></th>\n",
       "      <th>mean_fit_time</th>\n",
       "      <th>std_fit_time</th>\n",
       "      <th>mean_score_time</th>\n",
       "      <th>std_score_time</th>\n",
       "      <th>param_C</th>\n",
       "      <th>param_penalty</th>\n",
       "      <th>params</th>\n",
       "      <th>split0_test_score</th>\n",
       "      <th>split1_test_score</th>\n",
       "      <th>split2_test_score</th>\n",
       "      <th>split3_test_score</th>\n",
       "      <th>split4_test_score</th>\n",
       "      <th>mean_test_score</th>\n",
       "      <th>std_test_score</th>\n",
       "      <th>rank_test_score</th>\n",
       "    </tr>\n",
       "  </thead>\n",
       "  <tbody>\n",
       "    <tr>\n",
       "      <th>0</th>\n",
       "      <td>3.264187</td>\n",
       "      <td>0.621046</td>\n",
       "      <td>0.064404</td>\n",
       "      <td>0.080111</td>\n",
       "      <td>1</td>\n",
       "      <td>l1</td>\n",
       "      <td>{'C': 1, 'penalty': 'l1'}</td>\n",
       "      <td>0.817459</td>\n",
       "      <td>0.820302</td>\n",
       "      <td>0.821530</td>\n",
       "      <td>0.818105</td>\n",
       "      <td>0.822165</td>\n",
       "      <td>0.819912</td>\n",
       "      <td>0.001851</td>\n",
       "      <td>1</td>\n",
       "    </tr>\n",
       "    <tr>\n",
       "      <th>1</th>\n",
       "      <td>1.699097</td>\n",
       "      <td>0.540066</td>\n",
       "      <td>0.154409</td>\n",
       "      <td>0.123903</td>\n",
       "      <td>1</td>\n",
       "      <td>l2</td>\n",
       "      <td>{'C': 1, 'penalty': 'l2'}</td>\n",
       "      <td>0.817524</td>\n",
       "      <td>0.820367</td>\n",
       "      <td>0.821595</td>\n",
       "      <td>0.817976</td>\n",
       "      <td>0.822100</td>\n",
       "      <td>0.819912</td>\n",
       "      <td>0.001859</td>\n",
       "      <td>3</td>\n",
       "    </tr>\n",
       "    <tr>\n",
       "      <th>2</th>\n",
       "      <td>3.286988</td>\n",
       "      <td>0.929669</td>\n",
       "      <td>0.017001</td>\n",
       "      <td>0.015034</td>\n",
       "      <td>10</td>\n",
       "      <td>l1</td>\n",
       "      <td>{'C': 10, 'penalty': 'l1'}</td>\n",
       "      <td>0.817459</td>\n",
       "      <td>0.820367</td>\n",
       "      <td>0.821530</td>\n",
       "      <td>0.818041</td>\n",
       "      <td>0.822165</td>\n",
       "      <td>0.819912</td>\n",
       "      <td>0.001866</td>\n",
       "      <td>1</td>\n",
       "    </tr>\n",
       "    <tr>\n",
       "      <th>3</th>\n",
       "      <td>1.540488</td>\n",
       "      <td>0.469402</td>\n",
       "      <td>0.016201</td>\n",
       "      <td>0.011941</td>\n",
       "      <td>10</td>\n",
       "      <td>l2</td>\n",
       "      <td>{'C': 10, 'penalty': 'l2'}</td>\n",
       "      <td>0.817524</td>\n",
       "      <td>0.820367</td>\n",
       "      <td>0.821595</td>\n",
       "      <td>0.817847</td>\n",
       "      <td>0.822165</td>\n",
       "      <td>0.819899</td>\n",
       "      <td>0.001902</td>\n",
       "      <td>4</td>\n",
       "    </tr>\n",
       "    <tr>\n",
       "      <th>4</th>\n",
       "      <td>3.042974</td>\n",
       "      <td>0.625729</td>\n",
       "      <td>0.009201</td>\n",
       "      <td>0.002135</td>\n",
       "      <td>100</td>\n",
       "      <td>l1</td>\n",
       "      <td>{'C': 100, 'penalty': 'l1'}</td>\n",
       "      <td>0.817459</td>\n",
       "      <td>0.820367</td>\n",
       "      <td>0.821595</td>\n",
       "      <td>0.817847</td>\n",
       "      <td>0.822165</td>\n",
       "      <td>0.819887</td>\n",
       "      <td>0.001918</td>\n",
       "      <td>6</td>\n",
       "    </tr>\n",
       "    <tr>\n",
       "      <th>5</th>\n",
       "      <td>1.416281</td>\n",
       "      <td>0.449220</td>\n",
       "      <td>0.008800</td>\n",
       "      <td>0.001833</td>\n",
       "      <td>100</td>\n",
       "      <td>l2</td>\n",
       "      <td>{'C': 100, 'penalty': 'l2'}</td>\n",
       "      <td>0.817524</td>\n",
       "      <td>0.820367</td>\n",
       "      <td>0.821595</td>\n",
       "      <td>0.817847</td>\n",
       "      <td>0.822165</td>\n",
       "      <td>0.819899</td>\n",
       "      <td>0.001902</td>\n",
       "      <td>4</td>\n",
       "    </tr>\n",
       "  </tbody>\n",
       "</table>\n",
       "</div>"
      ],
      "text/plain": [
       "   mean_fit_time  std_fit_time  mean_score_time  std_score_time param_C  \\\n",
       "0       3.264187      0.621046         0.064404        0.080111       1   \n",
       "1       1.699097      0.540066         0.154409        0.123903       1   \n",
       "2       3.286988      0.929669         0.017001        0.015034      10   \n",
       "3       1.540488      0.469402         0.016201        0.011941      10   \n",
       "4       3.042974      0.625729         0.009201        0.002135     100   \n",
       "5       1.416281      0.449220         0.008800        0.001833     100   \n",
       "\n",
       "  param_penalty                       params  split0_test_score  \\\n",
       "0            l1    {'C': 1, 'penalty': 'l1'}           0.817459   \n",
       "1            l2    {'C': 1, 'penalty': 'l2'}           0.817524   \n",
       "2            l1   {'C': 10, 'penalty': 'l1'}           0.817459   \n",
       "3            l2   {'C': 10, 'penalty': 'l2'}           0.817524   \n",
       "4            l1  {'C': 100, 'penalty': 'l1'}           0.817459   \n",
       "5            l2  {'C': 100, 'penalty': 'l2'}           0.817524   \n",
       "\n",
       "   split1_test_score  split2_test_score  split3_test_score  split4_test_score  \\\n",
       "0           0.820302           0.821530           0.818105           0.822165   \n",
       "1           0.820367           0.821595           0.817976           0.822100   \n",
       "2           0.820367           0.821530           0.818041           0.822165   \n",
       "3           0.820367           0.821595           0.817847           0.822165   \n",
       "4           0.820367           0.821595           0.817847           0.822165   \n",
       "5           0.820367           0.821595           0.817847           0.822165   \n",
       "\n",
       "   mean_test_score  std_test_score  rank_test_score  \n",
       "0         0.819912        0.001851                1  \n",
       "1         0.819912        0.001859                3  \n",
       "2         0.819912        0.001866                1  \n",
       "3         0.819899        0.001902                4  \n",
       "4         0.819887        0.001918                6  \n",
       "5         0.819899        0.001902                4  "
      ]
     },
     "execution_count": 58,
     "metadata": {},
     "output_type": "execute_result"
    }
   ],
   "source": [
    "from sklearn.model_selection import GridSearchCV\n",
    "\n",
    "lr_params = {\n",
    "    'penalty': ['l1','l2'],\n",
    "    'C': [1, 10, 100]\n",
    "}\n",
    "\n",
    "logreg = LogisticRegression(max_iter = 500, solver = 'liblinear')\n",
    "\n",
    "logreg_cv = GridSearchCV(logreg, lr_params, n_jobs = -1,cv =5)\n",
    "best_model = logreg_cv.fit(X_train, y_train)\n",
    "\n",
    "print(f\"Optimised parameter Penalty:, {best_model.best_estimator_.get_params()['penalty']}\")\n",
    "print(f\"Optimised parameter C:, {best_model.best_estimator_.get_params()['C']}\")\n",
    "\n",
    "results = logreg_cv.cv_results_\n",
    "pd.DataFrame.from_dict(results)"
   ]
  },
  {
   "cell_type": "markdown",
   "id": "315cb8b2",
   "metadata": {},
   "source": [
    "### Confusion Matrix - logistic regression"
   ]
  },
  {
   "cell_type": "code",
   "execution_count": 92,
   "id": "6e26b8f9",
   "metadata": {},
   "outputs": [
    {
     "data": {
      "text/html": [
       "<div>\n",
       "<style scoped>\n",
       "    .dataframe tbody tr th:only-of-type {\n",
       "        vertical-align: middle;\n",
       "    }\n",
       "\n",
       "    .dataframe tbody tr th {\n",
       "        vertical-align: top;\n",
       "    }\n",
       "\n",
       "    .dataframe thead th {\n",
       "        text-align: right;\n",
       "    }\n",
       "</style>\n",
       "<table border=\"1\" class=\"dataframe\">\n",
       "  <thead>\n",
       "    <tr style=\"text-align: right;\">\n",
       "      <th></th>\n",
       "      <th>Predict sunny</th>\n",
       "      <th>Predict rain</th>\n",
       "    </tr>\n",
       "  </thead>\n",
       "  <tbody>\n",
       "    <tr>\n",
       "      <th>Actual sunny</th>\n",
       "      <td>19458</td>\n",
       "      <td>2460</td>\n",
       "    </tr>\n",
       "    <tr>\n",
       "      <th>Actual rain</th>\n",
       "      <td>1930</td>\n",
       "      <td>4310</td>\n",
       "    </tr>\n",
       "  </tbody>\n",
       "</table>\n",
       "</div>"
      ],
      "text/plain": [
       "              Predict sunny  Predict rain\n",
       "Actual sunny          19458          2460\n",
       "Actual rain            1930          4310"
      ]
     },
     "execution_count": 92,
     "metadata": {},
     "output_type": "execute_result"
    }
   ],
   "source": [
    "from sklearn.metrics import confusion_matrix\n",
    "\n",
    "cm = confusion_matrix(y_test, y_pred_lr)\n",
    "cm_df = pd.DataFrame(cm)\n",
    "cm_df.rename(columns={0:'Predict sunny', 1:'Predict rain'}, \n",
    "                 index={0:'Actual sunny',1:'Actual rain'}, \n",
    "                 inplace=True)\n",
    "\n",
    "cm_df"
   ]
  },
  {
   "cell_type": "code",
   "execution_count": 59,
   "id": "a23b06c6",
   "metadata": {
    "scrolled": false
   },
   "outputs": [
    {
     "name": "stdout",
     "output_type": "stream",
     "text": [
      "              precision    recall  f1-score   support\n",
      "\n",
      "     class_0       0.91      0.89      0.90     21918\n",
      "     class_1       0.64      0.69      0.66      6240\n",
      "\n",
      "    accuracy                           0.84     28158\n",
      "   macro avg       0.77      0.79      0.78     28158\n",
      "weighted avg       0.85      0.84      0.85     28158\n",
      "\n"
     ]
    }
   ],
   "source": [
    "# Print classification report\n",
    "\n",
    "from sklearn.metrics import classification_report\n",
    "\n",
    "target_names = ['class_0', 'class_1']\n",
    "\n",
    "print(classification_report(y_test, y_pred_lr, target_names=target_names))"
   ]
  },
  {
   "cell_type": "code",
   "execution_count": 60,
   "id": "2881be4a",
   "metadata": {
    "scrolled": true
   },
   "outputs": [
    {
     "data": {
      "image/png": "[encoded data removed]",
      "text/plain": [
       "<Figure size 576x396 with 1 Axes>"
      ]
     },
     "metadata": {},
     "output_type": "display_data"
    }
   ],
   "source": [
    "# Generate the prediction values for each of the test observations using predict_proba() function rather than just predict\n",
    "preds = L_model.predict_proba(X_test)[:,1]\n",
    "\n",
    "# Store the false positive rate(fpr), true positive rate (tpr) in vectors for use in the graph\n",
    "from sklearn import metrics\n",
    "fpr, tpr, _ = metrics.roc_curve(y_test, preds)\n",
    "\n",
    "# Store the Area Under the Curve (AUC) so we can annotate our graph with theis metric\n",
    "roc_auc = metrics.auc(fpr, tpr)\n",
    "\n",
    "# Plot the ROC Curve\n",
    "plt.figure()\n",
    "lw = 2\n",
    "plt.plot(fpr, tpr, color='darkorange', lw = lw, label = 'ROC curve (area = %0.2f)' % roc_auc)\n",
    "plt.plot([0, 1], [0, 1], color = 'navy', lw = lw, linestyle = '--')\n",
    "plt.xlim([0.0, 1.0])\n",
    "plt.ylim([0.0, 1.0])\n",
    "plt.xlabel('False Positive Rate')\n",
    "plt.ylabel('True Positive Rate')\n",
    "plt.title('Receiver operating characteristic-Logistic Regression')\n",
    "plt.legend(loc = \"lower right\")\n",
    "plt.show()"
   ]
  },
  {
   "cell_type": "markdown",
   "id": "f1e3d373",
   "metadata": {},
   "source": [
    "### LINEAR SVC"
   ]
  },
  {
   "cell_type": "code",
   "execution_count": 61,
   "id": "7dfc6091",
   "metadata": {},
   "outputs": [
    {
     "name": "stderr",
     "output_type": "stream",
     "text": [
      "C:\\Users\\Yuan\\anaconda3\\lib\\site-packages\\sklearn\\svm\\_base.py:985: ConvergenceWarning: Liblinear failed to converge, increase the number of iterations.\n",
      "  warnings.warn(\"Liblinear failed to converge, increase \"\n"
     ]
    },
    {
     "data": {
      "text/plain": [
       "0.8448753462603878"
      ]
     },
     "execution_count": 61,
     "metadata": {},
     "output_type": "execute_result"
    }
   ],
   "source": [
    "from sklearn.svm import LinearSVC\n",
    "\n",
    "svc_model = LinearSVC(max_iter=1000,verbose=0)\n",
    "svc_model.fit(X_train, y_train)\n",
    "\n",
    "# predict test class:\n",
    "y_pred_svc = svc_model.predict(X_test)\n",
    "\n",
    "from sklearn.metrics import accuracy_score\n",
    "\n",
    "svc_acc = accuracy_score(y_test, y_pred_svc)\n",
    "\n",
    "svc_acc"
   ]
  },
  {
   "cell_type": "code",
   "execution_count": null,
   "id": "cd0032ff",
   "metadata": {},
   "outputs": [],
   "source": [
    "svc_params = {\n",
    "    'C': [1, 10, 100],\n",
    "    'loss': ['hinge', 'squared_hinge']   \n",
    "}\n",
    "\n",
    "from sklearn.svm import LinearSVC\n",
    "\n",
    "svc = LinearSVC(max_iter=20000,verbose=0)\n",
    "clf = GridSearchCV(svc, svc_params, n_jobs = -1,cv =3)\n",
    "best_model = clf.fit(X_train, y_train)\n",
    "\n",
    "print(f\"Optimised parameter C:, {best_model.best_estimator_.get_params()['C']}\")\n",
    "print(f\"Optimised parameter loss:, {best_model.best_estimator_.get_params()['loss']}\")\n",
    "print(f\"Best score:, {best_model.best_score_}\")\n",
    "\n",
    "\n",
    "results = clf.cv_results_\n",
    "pd.DataFrame.from_dict(results)"
   ]
  },
  {
   "cell_type": "code",
   "execution_count": 101,
   "id": "ee153199",
   "metadata": {},
   "outputs": [],
   "source": [
    "### Confusion Matrix - Linear SVC"
   ]
  },
  {
   "cell_type": "code",
   "execution_count": 102,
   "id": "7754eee1",
   "metadata": {},
   "outputs": [
    {
     "data": {
      "text/html": [
       "<div>\n",
       "<style scoped>\n",
       "    .dataframe tbody tr th:only-of-type {\n",
       "        vertical-align: middle;\n",
       "    }\n",
       "\n",
       "    .dataframe tbody tr th {\n",
       "        vertical-align: top;\n",
       "    }\n",
       "\n",
       "    .dataframe thead th {\n",
       "        text-align: right;\n",
       "    }\n",
       "</style>\n",
       "<table border=\"1\" class=\"dataframe\">\n",
       "  <thead>\n",
       "    <tr style=\"text-align: right;\">\n",
       "      <th></th>\n",
       "      <th>Predict sunny</th>\n",
       "      <th>Predict rain</th>\n",
       "    </tr>\n",
       "  </thead>\n",
       "  <tbody>\n",
       "    <tr>\n",
       "      <th>Actual sunny</th>\n",
       "      <td>19489</td>\n",
       "      <td>2429</td>\n",
       "    </tr>\n",
       "    <tr>\n",
       "      <th>Actual rain</th>\n",
       "      <td>1939</td>\n",
       "      <td>4301</td>\n",
       "    </tr>\n",
       "  </tbody>\n",
       "</table>\n",
       "</div>"
      ],
      "text/plain": [
       "              Predict sunny  Predict rain\n",
       "Actual sunny          19489          2429\n",
       "Actual rain            1939          4301"
      ]
     },
     "execution_count": 102,
     "metadata": {},
     "output_type": "execute_result"
    }
   ],
   "source": [
    "from sklearn.metrics import confusion_matrix\n",
    "\n",
    "cm = confusion_matrix(y_test, y_pred_svc)\n",
    "cm_df = pd.DataFrame(cm)\n",
    "cm_df.rename(columns={0:'Predict sunny', 1:'Predict rain'}, \n",
    "                 index={0:'Actual sunny',1:'Actual rain'}, \n",
    "                 inplace=True)\n",
    "\n",
    "cm_df"
   ]
  },
  {
   "cell_type": "code",
   "execution_count": 62,
   "id": "c66d2e3e",
   "metadata": {
    "scrolled": false
   },
   "outputs": [
    {
     "name": "stdout",
     "output_type": "stream",
     "text": [
      "              precision    recall  f1-score   support\n",
      "\n",
      "     class_0       0.91      0.89      0.90     21918\n",
      "     class_1       0.64      0.69      0.66      6240\n",
      "\n",
      "    accuracy                           0.84     28158\n",
      "   macro avg       0.77      0.79      0.78     28158\n",
      "weighted avg       0.85      0.84      0.85     28158\n",
      "\n"
     ]
    }
   ],
   "source": [
    "# Print SVC classification report\n",
    "\n",
    "from sklearn.metrics import classification_report\n",
    "\n",
    "target_names = ['class_0', 'class_1']\n",
    "\n",
    "print(classification_report(y_test, y_pred_svc, target_names=target_names))"
   ]
  },
  {
   "cell_type": "markdown",
   "id": "d1ae88f6",
   "metadata": {},
   "source": [
    "### RANDOM FOREST CLASSIFIER"
   ]
  },
  {
   "cell_type": "code",
   "execution_count": 63,
   "id": "ed48da87",
   "metadata": {},
   "outputs": [
    {
     "name": "stdout",
     "output_type": "stream",
     "text": [
      "Accuracy: 0.8609986504723347\n",
      "Accuracy: 0.8643818090179506\n"
     ]
    }
   ],
   "source": [
    "rf = RandomForestClassifier(random_state=42, max_depth = 10)\n",
    "rf.fit(X_train, y_train)\n",
    "y_pred_rf = rf.predict(X_test)\n",
    "y_pred_train_rf =  rf.predict(X_train)\n",
    "\n",
    "print(\"Accuracy:\",metrics.accuracy_score(y_test, y_pred_rf))\n",
    "print(\"Accuracy:\",metrics.accuracy_score(y_train, y_pred_train_rf))"
   ]
  },
  {
   "cell_type": "code",
   "execution_count": 64,
   "id": "fb586693",
   "metadata": {},
   "outputs": [
    {
     "name": "stdout",
     "output_type": "stream",
     "text": [
      "              precision    recall  f1-score   support\n",
      "\n",
      "     class_0       0.91      0.91      0.91     21918\n",
      "     class_1       0.68      0.70      0.69      6240\n",
      "\n",
      "    accuracy                           0.86     28158\n",
      "   macro avg       0.80      0.80      0.80     28158\n",
      "weighted avg       0.86      0.86      0.86     28158\n",
      "\n"
     ]
    }
   ],
   "source": [
    "#Random Forest classifier\n",
    "\n",
    "target_names = ['class_0', 'class_1']\n",
    "\n",
    "print(classification_report(y_test, y_pred_rf, target_names=target_names))"
   ]
  },
  {
   "cell_type": "markdown",
   "id": "d1612235",
   "metadata": {},
   "source": [
    "### Confusion Matrix - Random Forest"
   ]
  },
  {
   "cell_type": "code",
   "execution_count": 96,
   "id": "05064573",
   "metadata": {},
   "outputs": [
    {
     "data": {
      "text/html": [
       "<div>\n",
       "<style scoped>\n",
       "    .dataframe tbody tr th:only-of-type {\n",
       "        vertical-align: middle;\n",
       "    }\n",
       "\n",
       "    .dataframe tbody tr th {\n",
       "        vertical-align: top;\n",
       "    }\n",
       "\n",
       "    .dataframe thead th {\n",
       "        text-align: right;\n",
       "    }\n",
       "</style>\n",
       "<table border=\"1\" class=\"dataframe\">\n",
       "  <thead>\n",
       "    <tr style=\"text-align: right;\">\n",
       "      <th></th>\n",
       "      <th>Predict sunny</th>\n",
       "      <th>Predict rain</th>\n",
       "    </tr>\n",
       "  </thead>\n",
       "  <tbody>\n",
       "    <tr>\n",
       "      <th>Actual sunny</th>\n",
       "      <td>19858</td>\n",
       "      <td>2060</td>\n",
       "    </tr>\n",
       "    <tr>\n",
       "      <th>Actual rain</th>\n",
       "      <td>1854</td>\n",
       "      <td>4386</td>\n",
       "    </tr>\n",
       "  </tbody>\n",
       "</table>\n",
       "</div>"
      ],
      "text/plain": [
       "              Predict sunny  Predict rain\n",
       "Actual sunny          19858          2060\n",
       "Actual rain            1854          4386"
      ]
     },
     "execution_count": 96,
     "metadata": {},
     "output_type": "execute_result"
    }
   ],
   "source": [
    "from sklearn.metrics import confusion_matrix\n",
    "\n",
    "cm = confusion_matrix(y_test, y_pred_rf)\n",
    "cm_df = pd.DataFrame(cm)\n",
    "cm_df.rename(columns={0:'Predict sunny', 1:'Predict rain'}, \n",
    "                 index={0:'Actual sunny',1:'Actual rain'}, \n",
    "                 inplace=True)\n",
    "\n",
    "cm_df"
   ]
  },
  {
   "cell_type": "code",
   "execution_count": 65,
   "id": "b882ae5e",
   "metadata": {},
   "outputs": [
    {
     "data": {
      "image/png": "[encoded data removed]",
      "text/plain": [
       "<Figure size 576x396 with 1 Axes>"
      ]
     },
     "metadata": {},
     "output_type": "display_data"
    }
   ],
   "source": [
    "# Generate the prediction values for each of the test observations using predict_proba() function rather than just predict\n",
    "preds = rf.predict_proba(X_test)[:,1]\n",
    "\n",
    "# Store the false positive rate(fpr), true positive rate (tpr) in vectors for use in the graph\n",
    "from sklearn import metrics\n",
    "fpr, tpr, _ = metrics.roc_curve(y_test, preds)\n",
    "\n",
    "# Store the Area Under the Curve (AUC) so we can annotate our graph with theis metric\n",
    "roc_auc = metrics.auc(fpr, tpr)\n",
    "\n",
    "# Plot the ROC Curve\n",
    "plt.figure()\n",
    "lw = 2\n",
    "plt.plot(fpr, tpr, color='darkorange', lw = lw, label = 'ROC curve (area = %0.2f)' % roc_auc)\n",
    "plt.plot([0, 1], [0, 1], color = 'navy', lw = lw, linestyle = '--')\n",
    "plt.xlim([0.0, 1.0])\n",
    "plt.ylim([0.0, 1.0])\n",
    "plt.xlabel('False Positive Rate')\n",
    "plt.ylabel('True Positive Rate')\n",
    "plt.title('Receiver operating characteristic-Random Forest')\n",
    "plt.legend(loc = \"lower right\")\n",
    "plt.show()"
   ]
  },
  {
   "cell_type": "code",
   "execution_count": null,
   "id": "a70a7aac",
   "metadata": {},
   "outputs": [],
   "source": [
    "param_grid = { \n",
    "    'n_estimators': [100, 200],\n",
    "    'max_features': ['auto', 'sqrt', 'log2'],\n",
    "    'max_depth' : [50,100,150],\n",
    "    'criterion' :['gini', 'entropy']\n",
    "}\n",
    "\n",
    "CV_rfc = GridSearchCV(estimator=rf, param_grid=param_grid, cv= 5)\n",
    "CV_rfc.fit(X_train, y_train)"
   ]
  },
  {
   "cell_type": "code",
   "execution_count": null,
   "id": "d46ef2ad",
   "metadata": {},
   "outputs": [],
   "source": [
    "CV_rfc.best_params_"
   ]
  },
  {
   "cell_type": "markdown",
   "id": "faa3f9a3",
   "metadata": {},
   "source": [
    "### KNN NEAREST NEIGHBOURS"
   ]
  },
  {
   "cell_type": "code",
   "execution_count": 66,
   "id": "c52f71e4",
   "metadata": {},
   "outputs": [
    {
     "name": "stdout",
     "output_type": "stream",
     "text": [
      "Accuracy: 0.8420697492719653\n"
     ]
    }
   ],
   "source": [
    "#Import knearest neighbors Classifier model\n",
    "from sklearn.neighbors import KNeighborsClassifier\n",
    "\n",
    "#Create KNN Classifier\n",
    "knn = KNeighborsClassifier(n_neighbors=2)\n",
    "\n",
    "# fit on the unstandardized data:\n",
    "\n",
    "knn.fit(X_train, y_train)\n",
    "\n",
    "# predict the response values for the observations in X (\"test the model\")\n",
    "# store the predicted response values\n",
    "y_pred_knn = knn.predict(X_test)\n",
    "\n",
    "print(\"Accuracy:\",metrics.accuracy_score(y_test, y_pred_knn))\n",
    "# "
   ]
  },
  {
   "cell_type": "code",
   "execution_count": 94,
   "id": "e894a10f",
   "metadata": {},
   "outputs": [
    {
     "ename": "KeyboardInterrupt",
     "evalue": "",
     "output_type": "error",
     "traceback": [
      "\u001b[1;31m---------------------------------------------------------------------------\u001b[0m",
      "\u001b[1;31mKeyboardInterrupt\u001b[0m                         Traceback (most recent call last)",
      "\u001b[1;32m<ipython-input-94-8fe65d0b6d0e>\u001b[0m in \u001b[0;36m<module>\u001b[1;34m\u001b[0m\n\u001b[0;32m      6\u001b[0m \u001b[1;32mfor\u001b[0m \u001b[0mk\u001b[0m \u001b[1;32min\u001b[0m \u001b[0mk_range\u001b[0m\u001b[1;33m:\u001b[0m\u001b[1;33m\u001b[0m\u001b[1;33m\u001b[0m\u001b[0m\n\u001b[0;32m      7\u001b[0m     \u001b[0mknn\u001b[0m \u001b[1;33m=\u001b[0m \u001b[0mKNeighborsClassifier\u001b[0m\u001b[1;33m(\u001b[0m\u001b[0mn_neighbors\u001b[0m\u001b[1;33m=\u001b[0m\u001b[0mk\u001b[0m\u001b[1;33m)\u001b[0m\u001b[1;33m\u001b[0m\u001b[1;33m\u001b[0m\u001b[0m\n\u001b[1;32m----> 8\u001b[1;33m     \u001b[0mscores\u001b[0m \u001b[1;33m=\u001b[0m \u001b[0mcross_val_score\u001b[0m\u001b[1;33m(\u001b[0m\u001b[0mknn\u001b[0m\u001b[1;33m,\u001b[0m \u001b[0mX_test\u001b[0m\u001b[1;33m,\u001b[0m \u001b[0my_test\u001b[0m\u001b[1;33m,\u001b[0m \u001b[0mcv\u001b[0m\u001b[1;33m=\u001b[0m\u001b[1;36m5\u001b[0m\u001b[1;33m,\u001b[0m \u001b[0mscoring\u001b[0m\u001b[1;33m=\u001b[0m\u001b[1;34m'accuracy'\u001b[0m\u001b[1;33m)\u001b[0m\u001b[1;33m\u001b[0m\u001b[1;33m\u001b[0m\u001b[0m\n\u001b[0m\u001b[0;32m      9\u001b[0m     \u001b[0mk_scores\u001b[0m\u001b[1;33m.\u001b[0m\u001b[0mappend\u001b[0m\u001b[1;33m(\u001b[0m\u001b[0mscores\u001b[0m\u001b[1;33m.\u001b[0m\u001b[0mmean\u001b[0m\u001b[1;33m(\u001b[0m\u001b[1;33m)\u001b[0m\u001b[1;33m)\u001b[0m\u001b[1;33m\u001b[0m\u001b[1;33m\u001b[0m\u001b[0m\n\u001b[0;32m     10\u001b[0m \u001b[1;31m# plot to see clearly\u001b[0m\u001b[1;33m\u001b[0m\u001b[1;33m\u001b[0m\u001b[1;33m\u001b[0m\u001b[0m\n",
      "\u001b[1;32m~\\anaconda3\\lib\\site-packages\\sklearn\\utils\\validation.py\u001b[0m in \u001b[0;36minner_f\u001b[1;34m(*args, **kwargs)\u001b[0m\n\u001b[0;32m     61\u001b[0m             \u001b[0mextra_args\u001b[0m \u001b[1;33m=\u001b[0m \u001b[0mlen\u001b[0m\u001b[1;33m(\u001b[0m\u001b[0margs\u001b[0m\u001b[1;33m)\u001b[0m \u001b[1;33m-\u001b[0m \u001b[0mlen\u001b[0m\u001b[1;33m(\u001b[0m\u001b[0mall_args\u001b[0m\u001b[1;33m)\u001b[0m\u001b[1;33m\u001b[0m\u001b[1;33m\u001b[0m\u001b[0m\n\u001b[0;32m     62\u001b[0m             \u001b[1;32mif\u001b[0m \u001b[0mextra_args\u001b[0m \u001b[1;33m<=\u001b[0m \u001b[1;36m0\u001b[0m\u001b[1;33m:\u001b[0m\u001b[1;33m\u001b[0m\u001b[1;33m\u001b[0m\u001b[0m\n\u001b[1;32m---> 63\u001b[1;33m                 \u001b[1;32mreturn\u001b[0m \u001b[0mf\u001b[0m\u001b[1;33m(\u001b[0m\u001b[1;33m*\u001b[0m\u001b[0margs\u001b[0m\u001b[1;33m,\u001b[0m \u001b[1;33m**\u001b[0m\u001b[0mkwargs\u001b[0m\u001b[1;33m)\u001b[0m\u001b[1;33m\u001b[0m\u001b[1;33m\u001b[0m\u001b[0m\n\u001b[0m\u001b[0;32m     64\u001b[0m \u001b[1;33m\u001b[0m\u001b[0m\n\u001b[0;32m     65\u001b[0m             \u001b[1;31m# extra_args > 0\u001b[0m\u001b[1;33m\u001b[0m\u001b[1;33m\u001b[0m\u001b[1;33m\u001b[0m\u001b[0m\n",
      "\u001b[1;32m~\\anaconda3\\lib\\site-packages\\sklearn\\model_selection\\_validation.py\u001b[0m in \u001b[0;36mcross_val_score\u001b[1;34m(estimator, X, y, groups, scoring, cv, n_jobs, verbose, fit_params, pre_dispatch, error_score)\u001b[0m\n\u001b[0;32m    438\u001b[0m     \u001b[0mscorer\u001b[0m \u001b[1;33m=\u001b[0m \u001b[0mcheck_scoring\u001b[0m\u001b[1;33m(\u001b[0m\u001b[0mestimator\u001b[0m\u001b[1;33m,\u001b[0m \u001b[0mscoring\u001b[0m\u001b[1;33m=\u001b[0m\u001b[0mscoring\u001b[0m\u001b[1;33m)\u001b[0m\u001b[1;33m\u001b[0m\u001b[1;33m\u001b[0m\u001b[0m\n\u001b[0;32m    439\u001b[0m \u001b[1;33m\u001b[0m\u001b[0m\n\u001b[1;32m--> 440\u001b[1;33m     cv_results = cross_validate(estimator=estimator, X=X, y=y, groups=groups,\n\u001b[0m\u001b[0;32m    441\u001b[0m                                 \u001b[0mscoring\u001b[0m\u001b[1;33m=\u001b[0m\u001b[1;33m{\u001b[0m\u001b[1;34m'score'\u001b[0m\u001b[1;33m:\u001b[0m \u001b[0mscorer\u001b[0m\u001b[1;33m}\u001b[0m\u001b[1;33m,\u001b[0m \u001b[0mcv\u001b[0m\u001b[1;33m=\u001b[0m\u001b[0mcv\u001b[0m\u001b[1;33m,\u001b[0m\u001b[1;33m\u001b[0m\u001b[1;33m\u001b[0m\u001b[0m\n\u001b[0;32m    442\u001b[0m                                 \u001b[0mn_jobs\u001b[0m\u001b[1;33m=\u001b[0m\u001b[0mn_jobs\u001b[0m\u001b[1;33m,\u001b[0m \u001b[0mverbose\u001b[0m\u001b[1;33m=\u001b[0m\u001b[0mverbose\u001b[0m\u001b[1;33m,\u001b[0m\u001b[1;33m\u001b[0m\u001b[1;33m\u001b[0m\u001b[0m\n",
      "\u001b[1;32m~\\anaconda3\\lib\\site-packages\\sklearn\\utils\\validation.py\u001b[0m in \u001b[0;36minner_f\u001b[1;34m(*args, **kwargs)\u001b[0m\n\u001b[0;32m     61\u001b[0m             \u001b[0mextra_args\u001b[0m \u001b[1;33m=\u001b[0m \u001b[0mlen\u001b[0m\u001b[1;33m(\u001b[0m\u001b[0margs\u001b[0m\u001b[1;33m)\u001b[0m \u001b[1;33m-\u001b[0m \u001b[0mlen\u001b[0m\u001b[1;33m(\u001b[0m\u001b[0mall_args\u001b[0m\u001b[1;33m)\u001b[0m\u001b[1;33m\u001b[0m\u001b[1;33m\u001b[0m\u001b[0m\n\u001b[0;32m     62\u001b[0m             \u001b[1;32mif\u001b[0m \u001b[0mextra_args\u001b[0m \u001b[1;33m<=\u001b[0m \u001b[1;36m0\u001b[0m\u001b[1;33m:\u001b[0m\u001b[1;33m\u001b[0m\u001b[1;33m\u001b[0m\u001b[0m\n\u001b[1;32m---> 63\u001b[1;33m                 \u001b[1;32mreturn\u001b[0m \u001b[0mf\u001b[0m\u001b[1;33m(\u001b[0m\u001b[1;33m*\u001b[0m\u001b[0margs\u001b[0m\u001b[1;33m,\u001b[0m \u001b[1;33m**\u001b[0m\u001b[0mkwargs\u001b[0m\u001b[1;33m)\u001b[0m\u001b[1;33m\u001b[0m\u001b[1;33m\u001b[0m\u001b[0m\n\u001b[0m\u001b[0;32m     64\u001b[0m \u001b[1;33m\u001b[0m\u001b[0m\n\u001b[0;32m     65\u001b[0m             \u001b[1;31m# extra_args > 0\u001b[0m\u001b[1;33m\u001b[0m\u001b[1;33m\u001b[0m\u001b[1;33m\u001b[0m\u001b[0m\n",
      "\u001b[1;32m~\\anaconda3\\lib\\site-packages\\sklearn\\model_selection\\_validation.py\u001b[0m in \u001b[0;36mcross_validate\u001b[1;34m(estimator, X, y, groups, scoring, cv, n_jobs, verbose, fit_params, pre_dispatch, return_train_score, return_estimator, error_score)\u001b[0m\n\u001b[0;32m    244\u001b[0m     parallel = Parallel(n_jobs=n_jobs, verbose=verbose,\n\u001b[0;32m    245\u001b[0m                         pre_dispatch=pre_dispatch)\n\u001b[1;32m--> 246\u001b[1;33m     results = parallel(\n\u001b[0m\u001b[0;32m    247\u001b[0m         delayed(_fit_and_score)(\n\u001b[0;32m    248\u001b[0m             \u001b[0mclone\u001b[0m\u001b[1;33m(\u001b[0m\u001b[0mestimator\u001b[0m\u001b[1;33m)\u001b[0m\u001b[1;33m,\u001b[0m \u001b[0mX\u001b[0m\u001b[1;33m,\u001b[0m \u001b[0my\u001b[0m\u001b[1;33m,\u001b[0m \u001b[0mscorers\u001b[0m\u001b[1;33m,\u001b[0m \u001b[0mtrain\u001b[0m\u001b[1;33m,\u001b[0m \u001b[0mtest\u001b[0m\u001b[1;33m,\u001b[0m \u001b[0mverbose\u001b[0m\u001b[1;33m,\u001b[0m \u001b[1;32mNone\u001b[0m\u001b[1;33m,\u001b[0m\u001b[1;33m\u001b[0m\u001b[1;33m\u001b[0m\u001b[0m\n",
      "\u001b[1;32m~\\anaconda3\\lib\\site-packages\\joblib\\parallel.py\u001b[0m in \u001b[0;36m__call__\u001b[1;34m(self, iterable)\u001b[0m\n\u001b[0;32m   1042\u001b[0m                 \u001b[0mself\u001b[0m\u001b[1;33m.\u001b[0m\u001b[0m_iterating\u001b[0m \u001b[1;33m=\u001b[0m \u001b[0mself\u001b[0m\u001b[1;33m.\u001b[0m\u001b[0m_original_iterator\u001b[0m \u001b[1;32mis\u001b[0m \u001b[1;32mnot\u001b[0m \u001b[1;32mNone\u001b[0m\u001b[1;33m\u001b[0m\u001b[1;33m\u001b[0m\u001b[0m\n\u001b[0;32m   1043\u001b[0m \u001b[1;33m\u001b[0m\u001b[0m\n\u001b[1;32m-> 1044\u001b[1;33m             \u001b[1;32mwhile\u001b[0m \u001b[0mself\u001b[0m\u001b[1;33m.\u001b[0m\u001b[0mdispatch_one_batch\u001b[0m\u001b[1;33m(\u001b[0m\u001b[0miterator\u001b[0m\u001b[1;33m)\u001b[0m\u001b[1;33m:\u001b[0m\u001b[1;33m\u001b[0m\u001b[1;33m\u001b[0m\u001b[0m\n\u001b[0m\u001b[0;32m   1045\u001b[0m                 \u001b[1;32mpass\u001b[0m\u001b[1;33m\u001b[0m\u001b[1;33m\u001b[0m\u001b[0m\n\u001b[0;32m   1046\u001b[0m \u001b[1;33m\u001b[0m\u001b[0m\n",
      "\u001b[1;32m~\\anaconda3\\lib\\site-packages\\joblib\\parallel.py\u001b[0m in \u001b[0;36mdispatch_one_batch\u001b[1;34m(self, iterator)\u001b[0m\n\u001b[0;32m    857\u001b[0m                 \u001b[1;32mreturn\u001b[0m \u001b[1;32mFalse\u001b[0m\u001b[1;33m\u001b[0m\u001b[1;33m\u001b[0m\u001b[0m\n\u001b[0;32m    858\u001b[0m             \u001b[1;32melse\u001b[0m\u001b[1;33m:\u001b[0m\u001b[1;33m\u001b[0m\u001b[1;33m\u001b[0m\u001b[0m\n\u001b[1;32m--> 859\u001b[1;33m                 \u001b[0mself\u001b[0m\u001b[1;33m.\u001b[0m\u001b[0m_dispatch\u001b[0m\u001b[1;33m(\u001b[0m\u001b[0mtasks\u001b[0m\u001b[1;33m)\u001b[0m\u001b[1;33m\u001b[0m\u001b[1;33m\u001b[0m\u001b[0m\n\u001b[0m\u001b[0;32m    860\u001b[0m                 \u001b[1;32mreturn\u001b[0m \u001b[1;32mTrue\u001b[0m\u001b[1;33m\u001b[0m\u001b[1;33m\u001b[0m\u001b[0m\n\u001b[0;32m    861\u001b[0m \u001b[1;33m\u001b[0m\u001b[0m\n",
      "\u001b[1;32m~\\anaconda3\\lib\\site-packages\\joblib\\parallel.py\u001b[0m in \u001b[0;36m_dispatch\u001b[1;34m(self, batch)\u001b[0m\n\u001b[0;32m    775\u001b[0m         \u001b[1;32mwith\u001b[0m \u001b[0mself\u001b[0m\u001b[1;33m.\u001b[0m\u001b[0m_lock\u001b[0m\u001b[1;33m:\u001b[0m\u001b[1;33m\u001b[0m\u001b[1;33m\u001b[0m\u001b[0m\n\u001b[0;32m    776\u001b[0m             \u001b[0mjob_idx\u001b[0m \u001b[1;33m=\u001b[0m \u001b[0mlen\u001b[0m\u001b[1;33m(\u001b[0m\u001b[0mself\u001b[0m\u001b[1;33m.\u001b[0m\u001b[0m_jobs\u001b[0m\u001b[1;33m)\u001b[0m\u001b[1;33m\u001b[0m\u001b[1;33m\u001b[0m\u001b[0m\n\u001b[1;32m--> 777\u001b[1;33m             \u001b[0mjob\u001b[0m \u001b[1;33m=\u001b[0m \u001b[0mself\u001b[0m\u001b[1;33m.\u001b[0m\u001b[0m_backend\u001b[0m\u001b[1;33m.\u001b[0m\u001b[0mapply_async\u001b[0m\u001b[1;33m(\u001b[0m\u001b[0mbatch\u001b[0m\u001b[1;33m,\u001b[0m \u001b[0mcallback\u001b[0m\u001b[1;33m=\u001b[0m\u001b[0mcb\u001b[0m\u001b[1;33m)\u001b[0m\u001b[1;33m\u001b[0m\u001b[1;33m\u001b[0m\u001b[0m\n\u001b[0m\u001b[0;32m    778\u001b[0m             \u001b[1;31m# A job can complete so quickly than its callback is\u001b[0m\u001b[1;33m\u001b[0m\u001b[1;33m\u001b[0m\u001b[1;33m\u001b[0m\u001b[0m\n\u001b[0;32m    779\u001b[0m             \u001b[1;31m# called before we get here, causing self._jobs to\u001b[0m\u001b[1;33m\u001b[0m\u001b[1;33m\u001b[0m\u001b[1;33m\u001b[0m\u001b[0m\n",
      "\u001b[1;32m~\\anaconda3\\lib\\site-packages\\joblib\\_parallel_backends.py\u001b[0m in \u001b[0;36mapply_async\u001b[1;34m(self, func, callback)\u001b[0m\n\u001b[0;32m    206\u001b[0m     \u001b[1;32mdef\u001b[0m \u001b[0mapply_async\u001b[0m\u001b[1;33m(\u001b[0m\u001b[0mself\u001b[0m\u001b[1;33m,\u001b[0m \u001b[0mfunc\u001b[0m\u001b[1;33m,\u001b[0m \u001b[0mcallback\u001b[0m\u001b[1;33m=\u001b[0m\u001b[1;32mNone\u001b[0m\u001b[1;33m)\u001b[0m\u001b[1;33m:\u001b[0m\u001b[1;33m\u001b[0m\u001b[1;33m\u001b[0m\u001b[0m\n\u001b[0;32m    207\u001b[0m         \u001b[1;34m\"\"\"Schedule a func to be run\"\"\"\u001b[0m\u001b[1;33m\u001b[0m\u001b[1;33m\u001b[0m\u001b[0m\n\u001b[1;32m--> 208\u001b[1;33m         \u001b[0mresult\u001b[0m \u001b[1;33m=\u001b[0m \u001b[0mImmediateResult\u001b[0m\u001b[1;33m(\u001b[0m\u001b[0mfunc\u001b[0m\u001b[1;33m)\u001b[0m\u001b[1;33m\u001b[0m\u001b[1;33m\u001b[0m\u001b[0m\n\u001b[0m\u001b[0;32m    209\u001b[0m         \u001b[1;32mif\u001b[0m \u001b[0mcallback\u001b[0m\u001b[1;33m:\u001b[0m\u001b[1;33m\u001b[0m\u001b[1;33m\u001b[0m\u001b[0m\n\u001b[0;32m    210\u001b[0m             \u001b[0mcallback\u001b[0m\u001b[1;33m(\u001b[0m\u001b[0mresult\u001b[0m\u001b[1;33m)\u001b[0m\u001b[1;33m\u001b[0m\u001b[1;33m\u001b[0m\u001b[0m\n",
      "\u001b[1;32m~\\anaconda3\\lib\\site-packages\\joblib\\_parallel_backends.py\u001b[0m in \u001b[0;36m__init__\u001b[1;34m(self, batch)\u001b[0m\n\u001b[0;32m    570\u001b[0m         \u001b[1;31m# Don't delay the application, to avoid keeping the input\u001b[0m\u001b[1;33m\u001b[0m\u001b[1;33m\u001b[0m\u001b[1;33m\u001b[0m\u001b[0m\n\u001b[0;32m    571\u001b[0m         \u001b[1;31m# arguments in memory\u001b[0m\u001b[1;33m\u001b[0m\u001b[1;33m\u001b[0m\u001b[1;33m\u001b[0m\u001b[0m\n\u001b[1;32m--> 572\u001b[1;33m         \u001b[0mself\u001b[0m\u001b[1;33m.\u001b[0m\u001b[0mresults\u001b[0m \u001b[1;33m=\u001b[0m \u001b[0mbatch\u001b[0m\u001b[1;33m(\u001b[0m\u001b[1;33m)\u001b[0m\u001b[1;33m\u001b[0m\u001b[1;33m\u001b[0m\u001b[0m\n\u001b[0m\u001b[0;32m    573\u001b[0m \u001b[1;33m\u001b[0m\u001b[0m\n\u001b[0;32m    574\u001b[0m     \u001b[1;32mdef\u001b[0m \u001b[0mget\u001b[0m\u001b[1;33m(\u001b[0m\u001b[0mself\u001b[0m\u001b[1;33m)\u001b[0m\u001b[1;33m:\u001b[0m\u001b[1;33m\u001b[0m\u001b[1;33m\u001b[0m\u001b[0m\n",
      "\u001b[1;32m~\\anaconda3\\lib\\site-packages\\joblib\\parallel.py\u001b[0m in \u001b[0;36m__call__\u001b[1;34m(self)\u001b[0m\n\u001b[0;32m    260\u001b[0m         \u001b[1;31m# change the default number of processes to -1\u001b[0m\u001b[1;33m\u001b[0m\u001b[1;33m\u001b[0m\u001b[1;33m\u001b[0m\u001b[0m\n\u001b[0;32m    261\u001b[0m         \u001b[1;32mwith\u001b[0m \u001b[0mparallel_backend\u001b[0m\u001b[1;33m(\u001b[0m\u001b[0mself\u001b[0m\u001b[1;33m.\u001b[0m\u001b[0m_backend\u001b[0m\u001b[1;33m,\u001b[0m \u001b[0mn_jobs\u001b[0m\u001b[1;33m=\u001b[0m\u001b[0mself\u001b[0m\u001b[1;33m.\u001b[0m\u001b[0m_n_jobs\u001b[0m\u001b[1;33m)\u001b[0m\u001b[1;33m:\u001b[0m\u001b[1;33m\u001b[0m\u001b[1;33m\u001b[0m\u001b[0m\n\u001b[1;32m--> 262\u001b[1;33m             return [func(*args, **kwargs)\n\u001b[0m\u001b[0;32m    263\u001b[0m                     for func, args, kwargs in self.items]\n\u001b[0;32m    264\u001b[0m \u001b[1;33m\u001b[0m\u001b[0m\n",
      "\u001b[1;32m~\\anaconda3\\lib\\site-packages\\joblib\\parallel.py\u001b[0m in \u001b[0;36m<listcomp>\u001b[1;34m(.0)\u001b[0m\n\u001b[0;32m    260\u001b[0m         \u001b[1;31m# change the default number of processes to -1\u001b[0m\u001b[1;33m\u001b[0m\u001b[1;33m\u001b[0m\u001b[1;33m\u001b[0m\u001b[0m\n\u001b[0;32m    261\u001b[0m         \u001b[1;32mwith\u001b[0m \u001b[0mparallel_backend\u001b[0m\u001b[1;33m(\u001b[0m\u001b[0mself\u001b[0m\u001b[1;33m.\u001b[0m\u001b[0m_backend\u001b[0m\u001b[1;33m,\u001b[0m \u001b[0mn_jobs\u001b[0m\u001b[1;33m=\u001b[0m\u001b[0mself\u001b[0m\u001b[1;33m.\u001b[0m\u001b[0m_n_jobs\u001b[0m\u001b[1;33m)\u001b[0m\u001b[1;33m:\u001b[0m\u001b[1;33m\u001b[0m\u001b[1;33m\u001b[0m\u001b[0m\n\u001b[1;32m--> 262\u001b[1;33m             return [func(*args, **kwargs)\n\u001b[0m\u001b[0;32m    263\u001b[0m                     for func, args, kwargs in self.items]\n\u001b[0;32m    264\u001b[0m \u001b[1;33m\u001b[0m\u001b[0m\n",
      "\u001b[1;32m~\\anaconda3\\lib\\site-packages\\sklearn\\utils\\fixes.py\u001b[0m in \u001b[0;36m__call__\u001b[1;34m(self, *args, **kwargs)\u001b[0m\n\u001b[0;32m    220\u001b[0m     \u001b[1;32mdef\u001b[0m \u001b[0m__call__\u001b[0m\u001b[1;33m(\u001b[0m\u001b[0mself\u001b[0m\u001b[1;33m,\u001b[0m \u001b[1;33m*\u001b[0m\u001b[0margs\u001b[0m\u001b[1;33m,\u001b[0m \u001b[1;33m**\u001b[0m\u001b[0mkwargs\u001b[0m\u001b[1;33m)\u001b[0m\u001b[1;33m:\u001b[0m\u001b[1;33m\u001b[0m\u001b[1;33m\u001b[0m\u001b[0m\n\u001b[0;32m    221\u001b[0m         \u001b[1;32mwith\u001b[0m \u001b[0mconfig_context\u001b[0m\u001b[1;33m(\u001b[0m\u001b[1;33m**\u001b[0m\u001b[0mself\u001b[0m\u001b[1;33m.\u001b[0m\u001b[0mconfig\u001b[0m\u001b[1;33m)\u001b[0m\u001b[1;33m:\u001b[0m\u001b[1;33m\u001b[0m\u001b[1;33m\u001b[0m\u001b[0m\n\u001b[1;32m--> 222\u001b[1;33m             \u001b[1;32mreturn\u001b[0m \u001b[0mself\u001b[0m\u001b[1;33m.\u001b[0m\u001b[0mfunction\u001b[0m\u001b[1;33m(\u001b[0m\u001b[1;33m*\u001b[0m\u001b[0margs\u001b[0m\u001b[1;33m,\u001b[0m \u001b[1;33m**\u001b[0m\u001b[0mkwargs\u001b[0m\u001b[1;33m)\u001b[0m\u001b[1;33m\u001b[0m\u001b[1;33m\u001b[0m\u001b[0m\n\u001b[0m",
      "\u001b[1;32m~\\anaconda3\\lib\\site-packages\\sklearn\\model_selection\\_validation.py\u001b[0m in \u001b[0;36m_fit_and_score\u001b[1;34m(estimator, X, y, scorer, train, test, verbose, parameters, fit_params, return_train_score, return_parameters, return_n_test_samples, return_times, return_estimator, split_progress, candidate_progress, error_score)\u001b[0m\n\u001b[0;32m    618\u001b[0m \u001b[1;33m\u001b[0m\u001b[0m\n\u001b[0;32m    619\u001b[0m         \u001b[0mfit_time\u001b[0m \u001b[1;33m=\u001b[0m \u001b[0mtime\u001b[0m\u001b[1;33m.\u001b[0m\u001b[0mtime\u001b[0m\u001b[1;33m(\u001b[0m\u001b[1;33m)\u001b[0m \u001b[1;33m-\u001b[0m \u001b[0mstart_time\u001b[0m\u001b[1;33m\u001b[0m\u001b[1;33m\u001b[0m\u001b[0m\n\u001b[1;32m--> 620\u001b[1;33m         \u001b[0mtest_scores\u001b[0m \u001b[1;33m=\u001b[0m \u001b[0m_score\u001b[0m\u001b[1;33m(\u001b[0m\u001b[0mestimator\u001b[0m\u001b[1;33m,\u001b[0m \u001b[0mX_test\u001b[0m\u001b[1;33m,\u001b[0m \u001b[0my_test\u001b[0m\u001b[1;33m,\u001b[0m \u001b[0mscorer\u001b[0m\u001b[1;33m,\u001b[0m \u001b[0merror_score\u001b[0m\u001b[1;33m)\u001b[0m\u001b[1;33m\u001b[0m\u001b[1;33m\u001b[0m\u001b[0m\n\u001b[0m\u001b[0;32m    621\u001b[0m         \u001b[0mscore_time\u001b[0m \u001b[1;33m=\u001b[0m \u001b[0mtime\u001b[0m\u001b[1;33m.\u001b[0m\u001b[0mtime\u001b[0m\u001b[1;33m(\u001b[0m\u001b[1;33m)\u001b[0m \u001b[1;33m-\u001b[0m \u001b[0mstart_time\u001b[0m \u001b[1;33m-\u001b[0m \u001b[0mfit_time\u001b[0m\u001b[1;33m\u001b[0m\u001b[1;33m\u001b[0m\u001b[0m\n\u001b[0;32m    622\u001b[0m         \u001b[1;32mif\u001b[0m \u001b[0mreturn_train_score\u001b[0m\u001b[1;33m:\u001b[0m\u001b[1;33m\u001b[0m\u001b[1;33m\u001b[0m\u001b[0m\n",
      "\u001b[1;32m~\\anaconda3\\lib\\site-packages\\sklearn\\model_selection\\_validation.py\u001b[0m in \u001b[0;36m_score\u001b[1;34m(estimator, X_test, y_test, scorer, error_score)\u001b[0m\n\u001b[0;32m    672\u001b[0m             \u001b[0mscores\u001b[0m \u001b[1;33m=\u001b[0m \u001b[0mscorer\u001b[0m\u001b[1;33m(\u001b[0m\u001b[0mestimator\u001b[0m\u001b[1;33m,\u001b[0m \u001b[0mX_test\u001b[0m\u001b[1;33m)\u001b[0m\u001b[1;33m\u001b[0m\u001b[1;33m\u001b[0m\u001b[0m\n\u001b[0;32m    673\u001b[0m         \u001b[1;32melse\u001b[0m\u001b[1;33m:\u001b[0m\u001b[1;33m\u001b[0m\u001b[1;33m\u001b[0m\u001b[0m\n\u001b[1;32m--> 674\u001b[1;33m             \u001b[0mscores\u001b[0m \u001b[1;33m=\u001b[0m \u001b[0mscorer\u001b[0m\u001b[1;33m(\u001b[0m\u001b[0mestimator\u001b[0m\u001b[1;33m,\u001b[0m \u001b[0mX_test\u001b[0m\u001b[1;33m,\u001b[0m \u001b[0my_test\u001b[0m\u001b[1;33m)\u001b[0m\u001b[1;33m\u001b[0m\u001b[1;33m\u001b[0m\u001b[0m\n\u001b[0m\u001b[0;32m    675\u001b[0m     \u001b[1;32mexcept\u001b[0m \u001b[0mException\u001b[0m\u001b[1;33m:\u001b[0m\u001b[1;33m\u001b[0m\u001b[1;33m\u001b[0m\u001b[0m\n\u001b[0;32m    676\u001b[0m         \u001b[1;32mif\u001b[0m \u001b[0merror_score\u001b[0m \u001b[1;33m==\u001b[0m \u001b[1;34m'raise'\u001b[0m\u001b[1;33m:\u001b[0m\u001b[1;33m\u001b[0m\u001b[1;33m\u001b[0m\u001b[0m\n",
      "\u001b[1;32m~\\anaconda3\\lib\\site-packages\\sklearn\\metrics\\_scorer.py\u001b[0m in \u001b[0;36m__call__\u001b[1;34m(self, estimator, *args, **kwargs)\u001b[0m\n\u001b[0;32m     85\u001b[0m         \u001b[1;32mfor\u001b[0m \u001b[0mname\u001b[0m\u001b[1;33m,\u001b[0m \u001b[0mscorer\u001b[0m \u001b[1;32min\u001b[0m \u001b[0mself\u001b[0m\u001b[1;33m.\u001b[0m\u001b[0m_scorers\u001b[0m\u001b[1;33m.\u001b[0m\u001b[0mitems\u001b[0m\u001b[1;33m(\u001b[0m\u001b[1;33m)\u001b[0m\u001b[1;33m:\u001b[0m\u001b[1;33m\u001b[0m\u001b[1;33m\u001b[0m\u001b[0m\n\u001b[0;32m     86\u001b[0m             \u001b[1;32mif\u001b[0m \u001b[0misinstance\u001b[0m\u001b[1;33m(\u001b[0m\u001b[0mscorer\u001b[0m\u001b[1;33m,\u001b[0m \u001b[0m_BaseScorer\u001b[0m\u001b[1;33m)\u001b[0m\u001b[1;33m:\u001b[0m\u001b[1;33m\u001b[0m\u001b[1;33m\u001b[0m\u001b[0m\n\u001b[1;32m---> 87\u001b[1;33m                 score = scorer._score(cached_call, estimator,\n\u001b[0m\u001b[0;32m     88\u001b[0m                                       *args, **kwargs)\n\u001b[0;32m     89\u001b[0m             \u001b[1;32melse\u001b[0m\u001b[1;33m:\u001b[0m\u001b[1;33m\u001b[0m\u001b[1;33m\u001b[0m\u001b[0m\n",
      "\u001b[1;32m~\\anaconda3\\lib\\site-packages\\sklearn\\metrics\\_scorer.py\u001b[0m in \u001b[0;36m_score\u001b[1;34m(self, method_caller, estimator, X, y_true, sample_weight)\u001b[0m\n\u001b[0;32m    234\u001b[0m         \"\"\"\n\u001b[0;32m    235\u001b[0m \u001b[1;33m\u001b[0m\u001b[0m\n\u001b[1;32m--> 236\u001b[1;33m         \u001b[0my_pred\u001b[0m \u001b[1;33m=\u001b[0m \u001b[0mmethod_caller\u001b[0m\u001b[1;33m(\u001b[0m\u001b[0mestimator\u001b[0m\u001b[1;33m,\u001b[0m \u001b[1;34m\"predict\"\u001b[0m\u001b[1;33m,\u001b[0m \u001b[0mX\u001b[0m\u001b[1;33m)\u001b[0m\u001b[1;33m\u001b[0m\u001b[1;33m\u001b[0m\u001b[0m\n\u001b[0m\u001b[0;32m    237\u001b[0m         \u001b[1;32mif\u001b[0m \u001b[0msample_weight\u001b[0m \u001b[1;32mis\u001b[0m \u001b[1;32mnot\u001b[0m \u001b[1;32mNone\u001b[0m\u001b[1;33m:\u001b[0m\u001b[1;33m\u001b[0m\u001b[1;33m\u001b[0m\u001b[0m\n\u001b[0;32m    238\u001b[0m             return self._sign * self._score_func(y_true, y_pred,\n",
      "\u001b[1;32m~\\anaconda3\\lib\\site-packages\\sklearn\\metrics\\_scorer.py\u001b[0m in \u001b[0;36m_cached_call\u001b[1;34m(cache, estimator, method, *args, **kwargs)\u001b[0m\n\u001b[0;32m     51\u001b[0m     \u001b[1;34m\"\"\"Call estimator with method and args and kwargs.\"\"\"\u001b[0m\u001b[1;33m\u001b[0m\u001b[1;33m\u001b[0m\u001b[0m\n\u001b[0;32m     52\u001b[0m     \u001b[1;32mif\u001b[0m \u001b[0mcache\u001b[0m \u001b[1;32mis\u001b[0m \u001b[1;32mNone\u001b[0m\u001b[1;33m:\u001b[0m\u001b[1;33m\u001b[0m\u001b[1;33m\u001b[0m\u001b[0m\n\u001b[1;32m---> 53\u001b[1;33m         \u001b[1;32mreturn\u001b[0m \u001b[0mgetattr\u001b[0m\u001b[1;33m(\u001b[0m\u001b[0mestimator\u001b[0m\u001b[1;33m,\u001b[0m \u001b[0mmethod\u001b[0m\u001b[1;33m)\u001b[0m\u001b[1;33m(\u001b[0m\u001b[1;33m*\u001b[0m\u001b[0margs\u001b[0m\u001b[1;33m,\u001b[0m \u001b[1;33m**\u001b[0m\u001b[0mkwargs\u001b[0m\u001b[1;33m)\u001b[0m\u001b[1;33m\u001b[0m\u001b[1;33m\u001b[0m\u001b[0m\n\u001b[0m\u001b[0;32m     54\u001b[0m \u001b[1;33m\u001b[0m\u001b[0m\n\u001b[0;32m     55\u001b[0m     \u001b[1;32mtry\u001b[0m\u001b[1;33m:\u001b[0m\u001b[1;33m\u001b[0m\u001b[1;33m\u001b[0m\u001b[0m\n",
      "\u001b[1;32m~\\anaconda3\\lib\\site-packages\\sklearn\\neighbors\\_classification.py\u001b[0m in \u001b[0;36mpredict\u001b[1;34m(self, X)\u001b[0m\n\u001b[0;32m    209\u001b[0m         \u001b[1;32mfor\u001b[0m \u001b[0mk\u001b[0m\u001b[1;33m,\u001b[0m \u001b[0mclasses_k\u001b[0m \u001b[1;32min\u001b[0m \u001b[0menumerate\u001b[0m\u001b[1;33m(\u001b[0m\u001b[0mclasses_\u001b[0m\u001b[1;33m)\u001b[0m\u001b[1;33m:\u001b[0m\u001b[1;33m\u001b[0m\u001b[1;33m\u001b[0m\u001b[0m\n\u001b[0;32m    210\u001b[0m             \u001b[1;32mif\u001b[0m \u001b[0mweights\u001b[0m \u001b[1;32mis\u001b[0m \u001b[1;32mNone\u001b[0m\u001b[1;33m:\u001b[0m\u001b[1;33m\u001b[0m\u001b[1;33m\u001b[0m\u001b[0m\n\u001b[1;32m--> 211\u001b[1;33m                 \u001b[0mmode\u001b[0m\u001b[1;33m,\u001b[0m \u001b[0m_\u001b[0m \u001b[1;33m=\u001b[0m \u001b[0mstats\u001b[0m\u001b[1;33m.\u001b[0m\u001b[0mmode\u001b[0m\u001b[1;33m(\u001b[0m\u001b[0m_y\u001b[0m\u001b[1;33m[\u001b[0m\u001b[0mneigh_ind\u001b[0m\u001b[1;33m,\u001b[0m \u001b[0mk\u001b[0m\u001b[1;33m]\u001b[0m\u001b[1;33m,\u001b[0m \u001b[0maxis\u001b[0m\u001b[1;33m=\u001b[0m\u001b[1;36m1\u001b[0m\u001b[1;33m)\u001b[0m\u001b[1;33m\u001b[0m\u001b[1;33m\u001b[0m\u001b[0m\n\u001b[0m\u001b[0;32m    212\u001b[0m             \u001b[1;32melse\u001b[0m\u001b[1;33m:\u001b[0m\u001b[1;33m\u001b[0m\u001b[1;33m\u001b[0m\u001b[0m\n\u001b[0;32m    213\u001b[0m                 \u001b[0mmode\u001b[0m\u001b[1;33m,\u001b[0m \u001b[0m_\u001b[0m \u001b[1;33m=\u001b[0m \u001b[0mweighted_mode\u001b[0m\u001b[1;33m(\u001b[0m\u001b[0m_y\u001b[0m\u001b[1;33m[\u001b[0m\u001b[0mneigh_ind\u001b[0m\u001b[1;33m,\u001b[0m \u001b[0mk\u001b[0m\u001b[1;33m]\u001b[0m\u001b[1;33m,\u001b[0m \u001b[0mweights\u001b[0m\u001b[1;33m,\u001b[0m \u001b[0maxis\u001b[0m\u001b[1;33m=\u001b[0m\u001b[1;36m1\u001b[0m\u001b[1;33m)\u001b[0m\u001b[1;33m\u001b[0m\u001b[1;33m\u001b[0m\u001b[0m\n",
      "\u001b[1;32m~\\anaconda3\\lib\\site-packages\\scipy\\stats\\stats.py\u001b[0m in \u001b[0;36mmode\u001b[1;34m(a, axis, nan_policy)\u001b[0m\n\u001b[0;32m    570\u001b[0m     \u001b[0mcounts\u001b[0m \u001b[1;33m=\u001b[0m \u001b[0mnp\u001b[0m\u001b[1;33m.\u001b[0m\u001b[0mempty\u001b[0m\u001b[1;33m(\u001b[0m\u001b[0ma_view\u001b[0m\u001b[1;33m.\u001b[0m\u001b[0mshape\u001b[0m\u001b[1;33m[\u001b[0m\u001b[1;33m:\u001b[0m\u001b[1;33m-\u001b[0m\u001b[1;36m1\u001b[0m\u001b[1;33m]\u001b[0m\u001b[1;33m,\u001b[0m \u001b[0mdtype\u001b[0m\u001b[1;33m=\u001b[0m\u001b[0mnp\u001b[0m\u001b[1;33m.\u001b[0m\u001b[0mint_\u001b[0m\u001b[1;33m)\u001b[0m\u001b[1;33m\u001b[0m\u001b[1;33m\u001b[0m\u001b[0m\n\u001b[0;32m    571\u001b[0m     \u001b[1;32mfor\u001b[0m \u001b[0mind\u001b[0m \u001b[1;32min\u001b[0m \u001b[0minds\u001b[0m\u001b[1;33m:\u001b[0m\u001b[1;33m\u001b[0m\u001b[1;33m\u001b[0m\u001b[0m\n\u001b[1;32m--> 572\u001b[1;33m         \u001b[0mmodes\u001b[0m\u001b[1;33m[\u001b[0m\u001b[0mind\u001b[0m\u001b[1;33m]\u001b[0m\u001b[1;33m,\u001b[0m \u001b[0mcounts\u001b[0m\u001b[1;33m[\u001b[0m\u001b[0mind\u001b[0m\u001b[1;33m]\u001b[0m \u001b[1;33m=\u001b[0m \u001b[0m_mode1D\u001b[0m\u001b[1;33m(\u001b[0m\u001b[0ma_view\u001b[0m\u001b[1;33m[\u001b[0m\u001b[0mind\u001b[0m\u001b[1;33m]\u001b[0m\u001b[1;33m)\u001b[0m\u001b[1;33m\u001b[0m\u001b[1;33m\u001b[0m\u001b[0m\n\u001b[0m\u001b[0;32m    573\u001b[0m     \u001b[0mnewshape\u001b[0m \u001b[1;33m=\u001b[0m \u001b[0mlist\u001b[0m\u001b[1;33m(\u001b[0m\u001b[0ma\u001b[0m\u001b[1;33m.\u001b[0m\u001b[0mshape\u001b[0m\u001b[1;33m)\u001b[0m\u001b[1;33m\u001b[0m\u001b[1;33m\u001b[0m\u001b[0m\n\u001b[0;32m    574\u001b[0m     \u001b[0mnewshape\u001b[0m\u001b[1;33m[\u001b[0m\u001b[0maxis\u001b[0m\u001b[1;33m]\u001b[0m \u001b[1;33m=\u001b[0m \u001b[1;36m1\u001b[0m\u001b[1;33m\u001b[0m\u001b[1;33m\u001b[0m\u001b[0m\n",
      "\u001b[1;32m~\\anaconda3\\lib\\site-packages\\scipy\\stats\\stats.py\u001b[0m in \u001b[0;36m_mode1D\u001b[1;34m(a)\u001b[0m\n\u001b[0;32m    558\u001b[0m     \u001b[1;32mdef\u001b[0m \u001b[0m_mode1D\u001b[0m\u001b[1;33m(\u001b[0m\u001b[0ma\u001b[0m\u001b[1;33m)\u001b[0m\u001b[1;33m:\u001b[0m\u001b[1;33m\u001b[0m\u001b[1;33m\u001b[0m\u001b[0m\n\u001b[0;32m    559\u001b[0m         \u001b[0mvals\u001b[0m\u001b[1;33m,\u001b[0m \u001b[0mcnts\u001b[0m \u001b[1;33m=\u001b[0m \u001b[0mnp\u001b[0m\u001b[1;33m.\u001b[0m\u001b[0munique\u001b[0m\u001b[1;33m(\u001b[0m\u001b[0ma\u001b[0m\u001b[1;33m,\u001b[0m \u001b[0mreturn_counts\u001b[0m\u001b[1;33m=\u001b[0m\u001b[1;32mTrue\u001b[0m\u001b[1;33m)\u001b[0m\u001b[1;33m\u001b[0m\u001b[1;33m\u001b[0m\u001b[0m\n\u001b[1;32m--> 560\u001b[1;33m         \u001b[1;32mreturn\u001b[0m \u001b[0mvals\u001b[0m\u001b[1;33m[\u001b[0m\u001b[0mcnts\u001b[0m\u001b[1;33m.\u001b[0m\u001b[0margmax\u001b[0m\u001b[1;33m(\u001b[0m\u001b[1;33m)\u001b[0m\u001b[1;33m]\u001b[0m\u001b[1;33m,\u001b[0m \u001b[0mcnts\u001b[0m\u001b[1;33m.\u001b[0m\u001b[0mmax\u001b[0m\u001b[1;33m(\u001b[0m\u001b[1;33m)\u001b[0m\u001b[1;33m\u001b[0m\u001b[1;33m\u001b[0m\u001b[0m\n\u001b[0m\u001b[0;32m    561\u001b[0m \u001b[1;33m\u001b[0m\u001b[0m\n\u001b[0;32m    562\u001b[0m     \u001b[1;31m# np.apply_along_axis will convert the _mode1D tuples to a numpy array, casting types in the process\u001b[0m\u001b[1;33m\u001b[0m\u001b[1;33m\u001b[0m\u001b[1;33m\u001b[0m\u001b[0m\n",
      "\u001b[1;31mKeyboardInterrupt\u001b[0m: "
     ]
    }
   ],
   "source": [
    "# plot test accuracy by number of neighbors:\n",
    "from sklearn.model_selection import cross_val_score\n",
    "k_range = range(1, 91)\n",
    "k_scores = []\n",
    "# use iteration to caclulator different k in models, then return the average accuracy based on the cross validation\n",
    "for k in k_range:\n",
    "    knn = KNeighborsClassifier(n_neighbors=k)\n",
    "    scores = cross_val_score(knn, X_test, y_test, cv=5, scoring='accuracy')\n",
    "    k_scores.append(scores.mean())\n",
    "# plot to see clearly\n",
    "plt.plot(k_range, k_scores)\n",
    "plt.xlabel('Value of K for KNN')\n",
    "plt.ylabel('Cross-Validated Accuracy')\n",
    "plt.show()"
   ]
  },
  {
   "cell_type": "markdown",
   "id": "e118e0ca",
   "metadata": {},
   "source": [
    "### Confusion Matrix - KNN"
   ]
  },
  {
   "cell_type": "code",
   "execution_count": 98,
   "id": "19ee14f0",
   "metadata": {},
   "outputs": [
    {
     "data": {
      "text/html": [
       "<div>\n",
       "<style scoped>\n",
       "    .dataframe tbody tr th:only-of-type {\n",
       "        vertical-align: middle;\n",
       "    }\n",
       "\n",
       "    .dataframe tbody tr th {\n",
       "        vertical-align: top;\n",
       "    }\n",
       "\n",
       "    .dataframe thead th {\n",
       "        text-align: right;\n",
       "    }\n",
       "</style>\n",
       "<table border=\"1\" class=\"dataframe\">\n",
       "  <thead>\n",
       "    <tr style=\"text-align: right;\">\n",
       "      <th></th>\n",
       "      <th>Predict sunny</th>\n",
       "      <th>Predict rain</th>\n",
       "    </tr>\n",
       "  </thead>\n",
       "  <tbody>\n",
       "    <tr>\n",
       "      <th>Actual sunny</th>\n",
       "      <td>20402</td>\n",
       "      <td>1516</td>\n",
       "    </tr>\n",
       "    <tr>\n",
       "      <th>Actual rain</th>\n",
       "      <td>2931</td>\n",
       "      <td>3309</td>\n",
       "    </tr>\n",
       "  </tbody>\n",
       "</table>\n",
       "</div>"
      ],
      "text/plain": [
       "              Predict sunny  Predict rain\n",
       "Actual sunny          20402          1516\n",
       "Actual rain            2931          3309"
      ]
     },
     "execution_count": 98,
     "metadata": {},
     "output_type": "execute_result"
    }
   ],
   "source": [
    "### Confusion Matrix - Gaussian Naive Bayes\n",
    "\n",
    "from sklearn.metrics import confusion_matrix\n",
    "\n",
    "cm = confusion_matrix(y_test, y_pred_knn)\n",
    "cm_df = pd.DataFrame(cm)\n",
    "cm_df.rename(columns={0:'Predict sunny', 1:'Predict rain'}, \n",
    "                 index={0:'Actual sunny',1:'Actual rain'}, \n",
    "                 inplace=True)\n",
    "\n",
    "cm_df"
   ]
  },
  {
   "cell_type": "code",
   "execution_count": 67,
   "id": "864e2788",
   "metadata": {},
   "outputs": [
    {
     "name": "stdout",
     "output_type": "stream",
     "text": [
      "              precision    recall  f1-score   support\n",
      "\n",
      "     class_0       0.87      0.93      0.90     21918\n",
      "     class_1       0.69      0.53      0.60      6240\n",
      "\n",
      "    accuracy                           0.84     28158\n",
      "   macro avg       0.78      0.73      0.75     28158\n",
      "weighted avg       0.83      0.84      0.83     28158\n",
      "\n"
     ]
    }
   ],
   "source": [
    "#KNN classification report\n",
    "\n",
    "target_names = ['class_0', 'class_1']\n",
    "\n",
    "print(classification_report(y_test, y_pred_knn, target_names=target_names))"
   ]
  },
  {
   "cell_type": "code",
   "execution_count": 68,
   "id": "84923b28",
   "metadata": {},
   "outputs": [
    {
     "data": {
      "image/png": "[encoded data removed]",
      "text/plain": [
       "<Figure size 576x396 with 1 Axes>"
      ]
     },
     "metadata": {},
     "output_type": "display_data"
    }
   ],
   "source": [
    "# Generate the prediction values for each of the test observations using predict_proba() function rather than just predict\n",
    "preds = knn.predict_proba(X_test)[:,1]\n",
    "\n",
    "# Store the false positive rate(fpr), true positive rate (tpr) in vectors for use in the graph\n",
    "from sklearn import metrics\n",
    "fpr, tpr, _ = metrics.roc_curve(y_test, preds)\n",
    "\n",
    "# Store the Area Under the Curve (AUC) so we can annotate our graph with theis metric\n",
    "roc_auc = metrics.auc(fpr, tpr)\n",
    "\n",
    "# Plot the ROC Curve\n",
    "plt.figure()\n",
    "lw = 2\n",
    "plt.plot(fpr, tpr, color='darkorange', lw = lw, label = 'ROC curve (area = %0.2f)' % roc_auc)\n",
    "plt.plot([0, 1], [0, 1], color = 'navy', lw = lw, linestyle = '--')\n",
    "plt.xlim([0.0, 1.0])\n",
    "plt.ylim([0.0, 1.0])\n",
    "plt.xlabel('False Positive Rate')\n",
    "plt.ylabel('True Positive Rate')\n",
    "plt.title('Receiver operating characteristic -KNN')\n",
    "plt.legend(loc = \"lower right\")\n",
    "plt.show()"
   ]
  },
  {
   "cell_type": "markdown",
   "id": "2973cbf2",
   "metadata": {},
   "source": [
    "### GAUSSIAN NAIVE BAYES"
   ]
  },
  {
   "cell_type": "code",
   "execution_count": 69,
   "id": "6eadcc0a",
   "metadata": {},
   "outputs": [
    {
     "data": {
      "text/plain": [
       "0.7899353647276085"
      ]
     },
     "execution_count": 69,
     "metadata": {},
     "output_type": "execute_result"
    }
   ],
   "source": [
    "from sklearn.naive_bayes import GaussianNB\n",
    "\n",
    "gnb_model = GaussianNB()\n",
    "gnb_model.fit(X_train, y_train)\n",
    "y_pred_gnb = gnb_model.predict(X_test)\n",
    "gnb_model.score(X_test, y_test)"
   ]
  },
  {
   "cell_type": "markdown",
   "id": "41487310",
   "metadata": {},
   "source": [
    "### Confusion Matrix - Gaussian Naive Bayes"
   ]
  },
  {
   "cell_type": "code",
   "execution_count": 99,
   "id": "f873429c",
   "metadata": {},
   "outputs": [
    {
     "data": {
      "text/html": [
       "<div>\n",
       "<style scoped>\n",
       "    .dataframe tbody tr th:only-of-type {\n",
       "        vertical-align: middle;\n",
       "    }\n",
       "\n",
       "    .dataframe tbody tr th {\n",
       "        vertical-align: top;\n",
       "    }\n",
       "\n",
       "    .dataframe thead th {\n",
       "        text-align: right;\n",
       "    }\n",
       "</style>\n",
       "<table border=\"1\" class=\"dataframe\">\n",
       "  <thead>\n",
       "    <tr style=\"text-align: right;\">\n",
       "      <th></th>\n",
       "      <th>Predict sunny</th>\n",
       "      <th>Predict rain</th>\n",
       "    </tr>\n",
       "  </thead>\n",
       "  <tbody>\n",
       "    <tr>\n",
       "      <th>Actual sunny</th>\n",
       "      <td>17694</td>\n",
       "      <td>4224</td>\n",
       "    </tr>\n",
       "    <tr>\n",
       "      <th>Actual rain</th>\n",
       "      <td>1691</td>\n",
       "      <td>4549</td>\n",
       "    </tr>\n",
       "  </tbody>\n",
       "</table>\n",
       "</div>"
      ],
      "text/plain": [
       "              Predict sunny  Predict rain\n",
       "Actual sunny          17694          4224\n",
       "Actual rain            1691          4549"
      ]
     },
     "execution_count": 99,
     "metadata": {},
     "output_type": "execute_result"
    }
   ],
   "source": [
    "from sklearn.metrics import confusion_matrix\n",
    "\n",
    "cm = confusion_matrix(y_test, y_pred_gnb)\n",
    "cm_df = pd.DataFrame(cm)\n",
    "cm_df.rename(columns={0:'Predict sunny', 1:'Predict rain'}, \n",
    "                 index={0:'Actual sunny',1:'Actual rain'}, \n",
    "                 inplace=True)\n",
    "\n",
    "cm_df"
   ]
  },
  {
   "cell_type": "code",
   "execution_count": 70,
   "id": "410f0495",
   "metadata": {
    "scrolled": true
   },
   "outputs": [
    {
     "name": "stdout",
     "output_type": "stream",
     "text": [
      "              precision    recall  f1-score   support\n",
      "\n",
      "     class_0       0.91      0.81      0.86     21918\n",
      "     class_1       0.52      0.73      0.61      6240\n",
      "\n",
      "    accuracy                           0.79     28158\n",
      "   macro avg       0.72      0.77      0.73     28158\n",
      "weighted avg       0.83      0.79      0.80     28158\n",
      "\n"
     ]
    }
   ],
   "source": [
    "#GNB Classification report\n",
    "\n",
    "target_names = ['class_0', 'class_1']\n",
    "\n",
    "print(classification_report(y_test, y_pred_gnb, target_names=target_names))"
   ]
  },
  {
   "cell_type": "code",
   "execution_count": 71,
   "id": "f143614b",
   "metadata": {},
   "outputs": [
    {
     "data": {
      "image/png": "[encoded data removed]",
      "text/plain": [
       "<Figure size 576x396 with 1 Axes>"
      ]
     },
     "metadata": {},
     "output_type": "display_data"
    }
   ],
   "source": [
    "# Generate the prediction values for each of the test observations using predict_proba() function rather than just predict\n",
    "preds = gnb_model.predict_proba(X_test)[:,1]\n",
    "\n",
    "# Store the false positive rate(fpr), true positive rate (tpr) in vectors for use in the graph\n",
    "from sklearn import metrics\n",
    "fpr, tpr, _ = metrics.roc_curve(y_test, preds)\n",
    "\n",
    "# Store the Area Under the Curve (AUC) so we can annotate our graph with theis metric\n",
    "roc_auc = metrics.auc(fpr, tpr)\n",
    "\n",
    "# Plot the ROC Curve\n",
    "plt.figure()\n",
    "lw = 2\n",
    "plt.plot(fpr, tpr, color='darkorange', lw = lw, label = 'ROC curve (area = %0.2f)' % roc_auc)\n",
    "plt.plot([0, 1], [0, 1], color = 'navy', lw = lw, linestyle = '--')\n",
    "plt.xlim([0.0, 1.0])\n",
    "plt.ylim([0.0, 1.0])\n",
    "plt.xlabel('False Positive Rate')\n",
    "plt.ylabel('True Positive Rate')\n",
    "plt.title('Receiver operating characteristic-GNB')\n",
    "plt.legend(loc = \"lower right\")\n",
    "plt.show()"
   ]
  },
  {
   "cell_type": "code",
   "execution_count": 72,
   "id": "f20711f2",
   "metadata": {},
   "outputs": [
    {
     "name": "stderr",
     "output_type": "stream",
     "text": [
      "C:\\Users\\Yuan\\anaconda3\\lib\\site-packages\\sklearn\\utils\\validation.py:70: FutureWarning: Pass pos_label=1 as keyword args. From version 1.0 (renaming of 0.25) passing these as positional arguments will result in an error\n",
      "  warnings.warn(f\"Pass {args_msg} as keyword args. From version \"\n",
      "C:\\Users\\Yuan\\anaconda3\\lib\\site-packages\\sklearn\\utils\\validation.py:70: FutureWarning: Pass pos_label=1 as keyword args. From version 1.0 (renaming of 0.25) passing these as positional arguments will result in an error\n",
      "  warnings.warn(f\"Pass {args_msg} as keyword args. From version \"\n",
      "C:\\Users\\Yuan\\anaconda3\\lib\\site-packages\\sklearn\\utils\\validation.py:70: FutureWarning: Pass pos_label=1 as keyword args. From version 1.0 (renaming of 0.25) passing these as positional arguments will result in an error\n",
      "  warnings.warn(f\"Pass {args_msg} as keyword args. From version \"\n",
      "C:\\Users\\Yuan\\anaconda3\\lib\\site-packages\\sklearn\\utils\\validation.py:70: FutureWarning: Pass pos_label=1 as keyword args. From version 1.0 (renaming of 0.25) passing these as positional arguments will result in an error\n",
      "  warnings.warn(f\"Pass {args_msg} as keyword args. From version \"\n"
     ]
    },
    {
     "data": {
      "image/png": "[encoded data removed]",
      "text/plain": [
       "<Figure size 576x576 with 1 Axes>"
      ]
     },
     "metadata": {},
     "output_type": "display_data"
    }
   ],
   "source": [
    "def plot_roc(y_test, preds, pos_label=None, labels=None):\n",
    "    y_list = [y_test] if type(y_test) is not list else y_test\n",
    "    pred_list = [preds] if type(preds) is not list else preds\n",
    "    labels_list = [f'{labels}'] * len(pred_list) if type(labels) is not list else labels\n",
    "\n",
    "    fig, ax = plt.subplots(1,1,figsize=[8,8])\n",
    "    for y, pred, label in zip(y_list, pred_list, labels_list):\n",
    "        fpr, tpr, _ = metrics.roc_curve(y, pred, pos_label)\n",
    "\n",
    "        # Store the Area Under the Curve (AUC) so we can annotate our graph with theis metric\n",
    "        roc_auc = metrics.auc(fpr, tpr)\n",
    "\n",
    "        # Plot the ROC Curve    \n",
    "        ax.plot(fpr, tpr, lw = 2, label = f'{label} - ROC curve (area = {roc_auc:0.5f})')\n",
    "    plt.plot([0, 1], [0, 1], color = 'navy', lw = 2, linestyle = '--')\n",
    "    plt.xlim([-0.05, 1.0])\n",
    "    plt.ylim([-0.05, 1.05])\n",
    "    plt.xlabel('False Positive Rate', fontsize=18)\n",
    "    plt.ylabel('True Positive Rate', fontsize=18)\n",
    "    plt.title('Receiver Operating Characteristic: 1', fontsize=18)\n",
    "    plt.legend(loc=\"lower right\")\n",
    "    plt.show()\n",
    "\n",
    "y_pred_list = [L_model.predict_proba(X_test)[:,1], knn.predict_proba(X_test)[:,1], gnb_model.predict_proba(X_test)[:,1], rf.predict_proba(X_test)[:,1]]\n",
    "labels = ['logistic_model', 'knn_model', 'gnb_model','Random Forest']\n",
    "plot_roc([y_test]*4, y_pred_list, pos_label = 1, labels=labels)"
   ]
  },
  {
   "cell_type": "markdown",
   "id": "b64d5523",
   "metadata": {},
   "source": [
    "## PERFORM RECURSIVE FEATURE ANALYSIS"
   ]
  },
  {
   "cell_type": "code",
   "execution_count": 73,
   "id": "71c6acbc",
   "metadata": {},
   "outputs": [
    {
     "name": "stdout",
     "output_type": "stream",
     "text": [
      "Col: 0, Feature: MinTemp                  , Selected:  1, Rank:   1\n",
      "Col: 1, Feature: Rainfall                 , Selected:  0, Rank:   7\n",
      "Col: 2, Feature: Evaporation              , Selected:  0, Rank:   5\n",
      "Col: 3, Feature: Sunshine                 , Selected:  1, Rank:   1\n",
      "Col: 4, Feature: WindGustSpeed            , Selected:  1, Rank:   1\n",
      "Col: 5, Feature: WindSpeed9am             , Selected:  0, Rank:   3\n",
      "Col: 6, Feature: WindSpeed3pm             , Selected:  0, Rank:   4\n",
      "Col: 7, Feature: Humidity9am              , Selected:  0, Rank:   8\n",
      "Col: 8, Feature: Humidity3pm              , Selected:  1, Rank:   1\n",
      "Col: 9, Feature: Pressure9am              , Selected:  0, Rank:   6\n",
      "Col: 10, Feature: Cloud9am                 , Selected:  1, Rank:   1\n",
      "Col: 11, Feature: Cloud3pm                 , Selected:  1, Rank:   1\n",
      "Col: 12, Feature: Temp3pm                  , Selected:  1, Rank:   1\n",
      "Col: 13, Feature: RainToday                , Selected:  1, Rank:   1\n",
      "Col: 14, Feature: Month                    , Selected:  0, Rank:   2\n"
     ]
    }
   ],
   "source": [
    "# Perform analyses using reduced number of variables from RFE analysis\n",
    "\n",
    "from sklearn.feature_selection import RFE\n",
    "from sklearn.linear_model import LogisticRegression\n",
    "rfe = RFE(estimator=LogisticRegression(max_iter=5000), n_features_to_select=8)\n",
    "\n",
    "rfe_df = rfe.fit(X,y)\n",
    "\n",
    "# Print Score \n",
    "# Find Features\n",
    "# summarize all features\n",
    "for i in range(X.shape[1]):\n",
    "\tprint(f'Col: {i}, Feature: {X.columns[i]:<25}, Selected:{rfe.support_[i]:>3}, Rank: {rfe.ranking_[i]:>3}')"
   ]
  },
  {
   "cell_type": "markdown",
   "id": "9e382560",
   "metadata": {},
   "source": [
    "## 11. PERFORM ANALYSIS FOR REDUCED 4 FEATURES"
   ]
  },
  {
   "cell_type": "code",
   "execution_count": 74,
   "id": "a519043d",
   "metadata": {},
   "outputs": [],
   "source": [
    "X1 = rain_final[['Sunshine','Cloud3pm', 'RainToday', 'Temp3pm']]"
   ]
  },
  {
   "cell_type": "code",
   "execution_count": 75,
   "id": "7b370205",
   "metadata": {},
   "outputs": [
    {
     "data": {
      "text/html": [
       "<div>\n",
       "<style scoped>\n",
       "    .dataframe tbody tr th:only-of-type {\n",
       "        vertical-align: middle;\n",
       "    }\n",
       "\n",
       "    .dataframe tbody tr th {\n",
       "        vertical-align: top;\n",
       "    }\n",
       "\n",
       "    .dataframe thead th {\n",
       "        text-align: right;\n",
       "    }\n",
       "</style>\n",
       "<table border=\"1\" class=\"dataframe\">\n",
       "  <thead>\n",
       "    <tr style=\"text-align: right;\">\n",
       "      <th></th>\n",
       "      <th>Sunshine</th>\n",
       "      <th>Cloud3pm</th>\n",
       "      <th>RainToday</th>\n",
       "      <th>Temp3pm</th>\n",
       "    </tr>\n",
       "  </thead>\n",
       "  <tbody>\n",
       "    <tr>\n",
       "      <th>0</th>\n",
       "      <td>6.752406</td>\n",
       "      <td>4.945491</td>\n",
       "      <td>0.0</td>\n",
       "      <td>21.8</td>\n",
       "    </tr>\n",
       "    <tr>\n",
       "      <th>1</th>\n",
       "      <td>11.065102</td>\n",
       "      <td>2.714469</td>\n",
       "      <td>0.0</td>\n",
       "      <td>24.3</td>\n",
       "    </tr>\n",
       "    <tr>\n",
       "      <th>2</th>\n",
       "      <td>11.010891</td>\n",
       "      <td>2.000000</td>\n",
       "      <td>0.0</td>\n",
       "      <td>23.2</td>\n",
       "    </tr>\n",
       "    <tr>\n",
       "      <th>3</th>\n",
       "      <td>11.274447</td>\n",
       "      <td>2.049022</td>\n",
       "      <td>0.0</td>\n",
       "      <td>26.5</td>\n",
       "    </tr>\n",
       "    <tr>\n",
       "      <th>4</th>\n",
       "      <td>6.032625</td>\n",
       "      <td>8.000000</td>\n",
       "      <td>0.0</td>\n",
       "      <td>29.7</td>\n",
       "    </tr>\n",
       "    <tr>\n",
       "      <th>...</th>\n",
       "      <td>...</td>\n",
       "      <td>...</td>\n",
       "      <td>...</td>\n",
       "      <td>...</td>\n",
       "    </tr>\n",
       "    <tr>\n",
       "      <th>140782</th>\n",
       "      <td>10.098943</td>\n",
       "      <td>2.507768</td>\n",
       "      <td>0.0</td>\n",
       "      <td>20.9</td>\n",
       "    </tr>\n",
       "    <tr>\n",
       "      <th>140783</th>\n",
       "      <td>10.806266</td>\n",
       "      <td>2.222009</td>\n",
       "      <td>0.0</td>\n",
       "      <td>22.4</td>\n",
       "    </tr>\n",
       "    <tr>\n",
       "      <th>140784</th>\n",
       "      <td>11.347392</td>\n",
       "      <td>1.857814</td>\n",
       "      <td>0.0</td>\n",
       "      <td>24.5</td>\n",
       "    </tr>\n",
       "    <tr>\n",
       "      <th>140785</th>\n",
       "      <td>11.038058</td>\n",
       "      <td>2.383502</td>\n",
       "      <td>0.0</td>\n",
       "      <td>26.1</td>\n",
       "    </tr>\n",
       "    <tr>\n",
       "      <th>140786</th>\n",
       "      <td>10.392813</td>\n",
       "      <td>2.000000</td>\n",
       "      <td>0.0</td>\n",
       "      <td>26.0</td>\n",
       "    </tr>\n",
       "  </tbody>\n",
       "</table>\n",
       "<p>140787 rows × 4 columns</p>\n",
       "</div>"
      ],
      "text/plain": [
       "         Sunshine  Cloud3pm  RainToday  Temp3pm\n",
       "0        6.752406  4.945491        0.0     21.8\n",
       "1       11.065102  2.714469        0.0     24.3\n",
       "2       11.010891  2.000000        0.0     23.2\n",
       "3       11.274447  2.049022        0.0     26.5\n",
       "4        6.032625  8.000000        0.0     29.7\n",
       "...           ...       ...        ...      ...\n",
       "140782  10.098943  2.507768        0.0     20.9\n",
       "140783  10.806266  2.222009        0.0     22.4\n",
       "140784  11.347392  1.857814        0.0     24.5\n",
       "140785  11.038058  2.383502        0.0     26.1\n",
       "140786  10.392813  2.000000        0.0     26.0\n",
       "\n",
       "[140787 rows x 4 columns]"
      ]
     },
     "execution_count": 75,
     "metadata": {},
     "output_type": "execute_result"
    }
   ],
   "source": [
    "X1"
   ]
  },
  {
   "cell_type": "code",
   "execution_count": 76,
   "id": "da86d62d",
   "metadata": {},
   "outputs": [
    {
     "data": {
      "text/plain": [
       "0         0.0\n",
       "1         0.0\n",
       "2         0.0\n",
       "3         0.0\n",
       "4         0.0\n",
       "         ... \n",
       "140782    0.0\n",
       "140783    0.0\n",
       "140784    0.0\n",
       "140785    0.0\n",
       "140786    0.0\n",
       "Name: RainTomorrow, Length: 140787, dtype: float64"
      ]
     },
     "execution_count": 76,
     "metadata": {},
     "output_type": "execute_result"
    }
   ],
   "source": [
    "y1 = rain_final['RainTomorrow'] #Set target\n",
    "y1"
   ]
  },
  {
   "cell_type": "code",
   "execution_count": 77,
   "id": "b5ccbc2e",
   "metadata": {},
   "outputs": [],
   "source": [
    "X1_train, X1_test, y1_train, y1_test = train_test_split(X1, y1, test_size = 0.2, random_state = 1)"
   ]
  },
  {
   "cell_type": "code",
   "execution_count": 78,
   "id": "b659bb9d",
   "metadata": {},
   "outputs": [],
   "source": [
    "under = RandomUnderSampler(sampling_strategy=0.5)\n",
    "over = SMOTE(sampling_strategy=0.55)\n",
    "\n",
    "#Fit and apply the transform\n",
    "X1_train, y1_train = under.fit_resample(X1_train, y1_train)\n",
    "X1_train, y1_train = over.fit_resample(X1_train, y1_train)"
   ]
  },
  {
   "cell_type": "code",
   "execution_count": 79,
   "id": "69c67259",
   "metadata": {},
   "outputs": [],
   "source": [
    "from sklearn.preprocessing import StandardScaler\n",
    "sc = StandardScaler()\n",
    "X1_train = sc.fit_transform(X1_train)\n",
    "X1_test = sc.transform (X1_test)"
   ]
  },
  {
   "cell_type": "markdown",
   "id": "d23121a9",
   "metadata": {},
   "source": [
    "### LOGISTIC REGRESSION"
   ]
  },
  {
   "cell_type": "code",
   "execution_count": 80,
   "id": "fe5a40f2",
   "metadata": {},
   "outputs": [
    {
     "data": {
      "text/plain": [
       "LogisticRegression(max_iter=5000)"
      ]
     },
     "execution_count": 80,
     "metadata": {},
     "output_type": "execute_result"
    }
   ],
   "source": [
    "from sklearn.linear_model import LogisticRegression\n",
    "L_model = LogisticRegression(max_iter = 5000)\n",
    "\n",
    "L_model.fit(X1_train, y1_train)"
   ]
  },
  {
   "cell_type": "code",
   "execution_count": 81,
   "id": "378ac819",
   "metadata": {},
   "outputs": [
    {
     "data": {
      "text/plain": [
       "0.8081539882093899"
      ]
     },
     "execution_count": 81,
     "metadata": {},
     "output_type": "execute_result"
    }
   ],
   "source": [
    "# predicted test probability:\n",
    "\n",
    "y1_pred_lr = L_model.predict(X1_test)\n",
    "\n",
    "\n",
    "L1_acc = accuracy_score(y1_test, y1_pred_lr)\n",
    "L1_acc"
   ]
  },
  {
   "cell_type": "code",
   "execution_count": 82,
   "id": "eb682216",
   "metadata": {
    "scrolled": true
   },
   "outputs": [
    {
     "name": "stdout",
     "output_type": "stream",
     "text": [
      "              precision    recall  f1-score   support\n",
      "\n",
      "     class_0       0.89      0.86      0.87     21918\n",
      "     class_1       0.56      0.64      0.60      6240\n",
      "\n",
      "    accuracy                           0.81     28158\n",
      "   macro avg       0.73      0.75      0.74     28158\n",
      "weighted avg       0.82      0.81      0.81     28158\n",
      "\n"
     ]
    }
   ],
   "source": [
    "\n",
    "target_names = ['class_0', 'class_1']\n",
    "\n",
    "print(classification_report(y1_test, y1_pred_lr, target_names=target_names))"
   ]
  },
  {
   "cell_type": "markdown",
   "id": "393bdb0b",
   "metadata": {},
   "source": [
    "### RANDOM FOREST"
   ]
  },
  {
   "cell_type": "code",
   "execution_count": 83,
   "id": "417805e8",
   "metadata": {},
   "outputs": [
    {
     "name": "stdout",
     "output_type": "stream",
     "text": [
      "Accuracy: 0.8234249591590311\n",
      "Accuracy: 0.8208170175370578\n"
     ]
    }
   ],
   "source": [
    "rf = RandomForestClassifier(random_state=42, max_depth = 10)\n",
    "rf.fit(X1_train, y1_train)\n",
    "y1_pred_rf = rf.predict(X1_test)\n",
    "y1_pred_train_rf =  rf.predict(X1_train)\n",
    "\n",
    "print(\"Accuracy:\",metrics.accuracy_score(y1_test, y1_pred_rf))\n",
    "print(\"Accuracy:\",metrics.accuracy_score(y1_train, y1_pred_train_rf))"
   ]
  },
  {
   "cell_type": "code",
   "execution_count": 84,
   "id": "8651e6c8",
   "metadata": {},
   "outputs": [
    {
     "name": "stdout",
     "output_type": "stream",
     "text": [
      "              precision    recall  f1-score   support\n",
      "\n",
      "     class_0       0.90      0.86      0.88     21918\n",
      "     class_1       0.59      0.68      0.63      6240\n",
      "\n",
      "    accuracy                           0.82     28158\n",
      "   macro avg       0.75      0.77      0.76     28158\n",
      "weighted avg       0.83      0.82      0.83     28158\n",
      "\n"
     ]
    }
   ],
   "source": [
    "#Random Forest classifier\n",
    "\n",
    "target_names = ['class_0', 'class_1']\n",
    "\n",
    "print(classification_report(y1_test, y1_pred_rf, target_names=target_names))"
   ]
  },
  {
   "cell_type": "markdown",
   "id": "230e8680",
   "metadata": {},
   "source": [
    "### SVM_SVC"
   ]
  },
  {
   "cell_type": "code",
   "execution_count": null,
   "id": "343832ff",
   "metadata": {},
   "outputs": [],
   "source": [
    "svc_model = svm.SVC(kernel = 'linear', C = 1000, probability = True)\n",
    "svc_model.fit(X1_train, y1_train)\n",
    "\n",
    "# predict test class:\n",
    "y_pred = svc_model.predict(X1_test)\n",
    "\n",
    "from sklearn.metrics import accuracy_score\n",
    "\n",
    "svc_acc = accuracy_score(y1_test, y1_pred)\n",
    "\n",
    "svc_acc"
   ]
  },
  {
   "cell_type": "code",
   "execution_count": null,
   "id": "aad07f33",
   "metadata": {},
   "outputs": [],
   "source": [
    "svc_params = {\n",
    "    'C': [1, 10, 100],\n",
    "    'gamma': [0.001, 0.0001],\n",
    "    'kernel': ['linear','rbf']\n",
    "}\n",
    "\n",
    "from sklearn import svm\n",
    "\n",
    "svc = svm.SVC()\n",
    "clf = GridSearchCV(svc, svc_params, n_jobs = -1)\n",
    "best_model = clf.fit(X1_train, y1_train)\n",
    "\n",
    "print(f\"Optimised parameter C:, {best_model.best_estimator_.get_params()['C']}\")\n",
    "print(f\"Optimised parameter gamma:, {best_model.best_estimator_.get_params()['gamma']}\")\n",
    "print(f\"Optimised parameter kernel:, {best_model.best_estimator_.get_params()['kernel']}\")\n",
    "print(f\"Best score:, {best_model.best_score_}\")\n",
    "\n",
    "\n",
    "results = clf.cv_results_\n",
    "pd.DataFrame.from_dict(results)"
   ]
  },
  {
   "cell_type": "code",
   "execution_count": null,
   "id": "a48228a5",
   "metadata": {},
   "outputs": [],
   "source": []
  }
 ],
 "metadata": {
  "kernelspec": {
   "display_name": "Python 3",
   "language": "python",
   "name": "python3"
  },
  "language_info": {
   "codemirror_mode": {
    "name": "ipython",
    "version": 3
   },
   "file_extension": ".py",
   "mimetype": "text/x-python",
   "name": "python",
   "nbconvert_exporter": "python",
   "pygments_lexer": "ipython3",
   "version": "3.8.8"
  }
 },
 "nbformat": 4,
 "nbformat_minor": 5
}

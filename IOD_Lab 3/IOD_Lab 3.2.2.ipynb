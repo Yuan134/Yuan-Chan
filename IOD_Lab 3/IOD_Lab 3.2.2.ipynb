{
 "cells": [
  {
   "cell_type": "markdown",
   "metadata": {
    "colab_type": "text",
    "id": "XfnQYVMtJhQD"
   },
   "source": [
    "<div>\n",
    "<img src=https://www.institutedata.com/wp-content/uploads/2019/10/iod_h_tp_primary_c.svg width=\"300\">\n",
    "</div>\n"
   ]
  },
  {
   "cell_type": "markdown",
   "metadata": {
    "colab_type": "text",
    "id": "5dCt8XbjJhQG"
   },
   "source": [
    "# Lab 3.2.2 \n",
    "# *Mining Social Media with Twitter*"
   ]
  },
  {
   "cell_type": "markdown",
   "metadata": {
    "colab_type": "text",
    "id": "b5VfS9hhJhQI"
   },
   "source": [
    "## The Twitter API and Tweepy Package"
   ]
  },
  {
   "cell_type": "markdown",
   "metadata": {
    "colab_type": "text",
    "id": "lF2z-w5uJhQK"
   },
   "source": [
    "The Twitter API provides access to tweets and comments, and allows an application to post tweets to the user's timeline. \n",
    "\n",
    "Twitter requires developers to create and authenticate an app before they can use the API. As of recent policy changes, however, new developers must be approved before they can create an app. There is no indication of the waiting period for approval."
   ]
  },
  {
   "cell_type": "markdown",
   "metadata": {
    "colab_type": "text",
    "id": "M0wxJ8HNJhQM"
   },
   "source": [
    "### 1. Apply for Developer Access\n",
    "\n",
    "Go to https://blog.twitter.com/developer/en_us/topics/tools/2018/new-developer-requirements-to-protect-our-platform.html\n",
    "and read the advice.\n"
   ]
  },
  {
   "cell_type": "markdown",
   "metadata": {
    "colab_type": "text",
    "id": "tICSKwL1JhQN"
   },
   "source": [
    "Apply at https://developer.twitter.com/en/apply-for-access.html. Where asked state that you will use the app as a student to explore the tweepy Python library and use it to fetch recent tweets and to create/delete a tweet."
   ]
  },
  {
   "cell_type": "markdown",
   "metadata": {
    "colab_type": "text",
    "id": "NMeZ70IZJhQR"
   },
   "source": [
    "### 2. Create Your Twitter App\n",
    "Go to https://developer.twitter.com/en/portal/projects-and-apps and click on the \"+ Create App\" button. Give your app a name and then you will be able to generate Consumer Keys (API key & secret) and Authentication Tokens (Access token & secret). Copy-paste these authentication details for use in this lab."
   ]
  },
  {
   "cell_type": "markdown",
   "metadata": {
    "colab_type": "text",
    "id": "HpWMHz9NJhQS"
   },
   "source": [
    "### 3. Load Python Libraries"
   ]
  },
  {
   "cell_type": "code",
   "execution_count": 2,
   "metadata": {},
   "outputs": [
    {
     "name": "stdout",
     "output_type": "stream",
     "text": [
      "Collecting tweepy\n",
      "  Downloading tweepy-3.10.0-py2.py3-none-any.whl (30 kB)\n",
      "Requirement already satisfied: requests[socks]>=2.11.1 in c:\\users\\yuan\\anaconda3\\lib\\site-packages (from tweepy) (2.25.1)\n",
      "Collecting requests-oauthlib>=0.7.0\n",
      "  Downloading requests_oauthlib-1.3.0-py2.py3-none-any.whl (23 kB)\n",
      "Requirement already satisfied: six>=1.10.0 in c:\\users\\yuan\\anaconda3\\lib\\site-packages (from tweepy) (1.15.0)\n",
      "Collecting oauthlib>=3.0.0\n",
      "  Downloading oauthlib-3.1.1-py2.py3-none-any.whl (146 kB)\n",
      "Requirement already satisfied: urllib3<1.27,>=1.21.1 in c:\\users\\yuan\\anaconda3\\lib\\site-packages (from requests[socks]>=2.11.1->tweepy) (1.26.4)\n",
      "Requirement already satisfied: idna<3,>=2.5 in c:\\users\\yuan\\anaconda3\\lib\\site-packages (from requests[socks]>=2.11.1->tweepy) (2.10)\n",
      "Requirement already satisfied: certifi>=2017.4.17 in c:\\users\\yuan\\anaconda3\\lib\\site-packages (from requests[socks]>=2.11.1->tweepy) (2020.12.5)\n",
      "Requirement already satisfied: chardet<5,>=3.0.2 in c:\\users\\yuan\\anaconda3\\lib\\site-packages (from requests[socks]>=2.11.1->tweepy) (4.0.0)\n",
      "Requirement already satisfied: PySocks!=1.5.7,>=1.5.6 in c:\\users\\yuan\\anaconda3\\lib\\site-packages (from requests[socks]>=2.11.1->tweepy) (1.7.1)\n",
      "Installing collected packages: oauthlib, requests-oauthlib, tweepy\n",
      "Successfully installed oauthlib-3.1.1 requests-oauthlib-1.3.0 tweepy-3.10.0\n"
     ]
    }
   ],
   "source": [
    "!pip install tweepy\n"
   ]
  },
  {
   "cell_type": "code",
   "execution_count": 3,
   "metadata": {},
   "outputs": [],
   "source": [
    "import tweepy\n",
    "import json\n",
    "import pprint"
   ]
  },
  {
   "cell_type": "markdown",
   "metadata": {
    "colab_type": "text",
    "id": "p7W0se6_JhQX"
   },
   "source": [
    "### 4. Authenticate from your Python script"
   ]
  },
  {
   "cell_type": "markdown",
   "metadata": {
    "colab_type": "text",
    "id": "mJfe55dVJhQY"
   },
   "source": [
    "You could assign your authentication details explicitly, as follows:"
   ]
  },
  {
   "cell_type": "code",
   "execution_count": 2,
   "metadata": {
    "colab": {},
    "colab_type": "code",
    "id": "aygW7a3eJhQZ"
   },
   "outputs": [],
   "source": [
    "my_consumer_key = 'Oy10VeTm0pO7wjSr0Qy5ihWKY'      # your consumer key (string) goes in here\n",
    "my_consumer_secret = 'E4r3iClzArcWuJ0mwdVU3oXhXsFklNl7wyIgJwTvBj6taS3Zu4'   # your consumer secret key (string) goes in here\n",
    "my_access_token = '1407852507963879425-ihvTMKAjH6IBauO7m9betCeFFmZox2'      # your access token (string) goes in here\n",
    "my_access_token_secret = 'MMBubER4mf5hiIJ5XhBzeunQo0oLBY9w9SaK59t7GXutF'  # your access token secret (string) goes in here"
   ]
  },
  {
   "cell_type": "markdown",
   "metadata": {
    "colab_type": "text",
    "id": "7LXwmSzOJhQe"
   },
   "source": [
    "A better way would be to store these details externally, so they are not displayed in the notebook:\n",
    "\n",
    "- create a file called \"auth_twitter.json\" in your \"notebooks\" directory, and save your credentials there in JSON format:\n",
    "\n",
    "`{`<br>\n",
    "&nbsp;&nbsp;&nbsp;&nbsp;&nbsp;&nbsp;&nbsp;&nbsp;`   \"consumer_key\": \"your consumer key (string) goes in here\",` <br>\n",
    "&nbsp;&nbsp;&nbsp;&nbsp;&nbsp;&nbsp;&nbsp;&nbsp;` \"consumer_secret\": \"your consumer secret key (string) goes in here\",` <br>\n",
    "&nbsp;&nbsp;&nbsp;&nbsp;&nbsp;&nbsp;&nbsp;&nbsp;`\"access_token\": \"your access token (string) goes in here\",` <br>\n",
    "&nbsp;&nbsp;&nbsp;&nbsp;&nbsp;&nbsp;&nbsp;&nbsp;`\"access_token_secret\": \"your access token secret (string) goes in here\"` <br>\n",
    "`}`\n",
    "\n",
    "(Nb. Parsers are very fussy. Make sure each key:value pair has a comma after it except the last one!)  \n",
    "\n",
    "Use the following code to load the credentials:  "
   ]
  },
  {
   "cell_type": "code",
   "execution_count": 6,
   "metadata": {
    "colab": {},
    "colab_type": "code",
    "id": "kh2srKpzJhQh"
   },
   "outputs": [
    {
     "data": {
      "text/plain": [
       "'C:\\\\IOD data science\\\\Labs\\\\module_03'"
      ]
     },
     "execution_count": 6,
     "metadata": {},
     "output_type": "execute_result"
    }
   ],
   "source": [
    "pwd()  # make sure your working directory is where the file is"
   ]
  },
  {
   "cell_type": "code",
   "execution_count": 4,
   "metadata": {
    "colab": {},
    "colab_type": "code",
    "id": "uR8Vchz7JhQm"
   },
   "outputs": [],
   "source": [
    "path_auth = 'auth_twitter.json'\n",
    "auth = json.loads(open(path_auth).read())\n",
    "pp = pprint.PrettyPrinter(indent=4)\n",
    "# For debugging only:\n",
    "#pp.pprint(auth)\n",
    "\n",
    "consumer_key = auth['consumer_key']\n",
    "consumer_secret = auth['consumer_secret']\n",
    "access_token = auth['access_token']\n",
    "access_token_secret = auth['access_token_secret']"
   ]
  },
  {
   "cell_type": "markdown",
   "metadata": {
    "colab_type": "text",
    "id": "GPRmYZigJhQp"
   },
   "source": [
    "Security considerations: \n",
    "- this method only keeps your credentials invisible as long as nobody accesses this notebook while it's running on your computer \n",
    "- if you wanted another user to have access to the executable notebook without divulging your credentials you should set up an OAuth 2.0 workflow to let them obtain and apply their own API tokens when using your app\n",
    "- if you just want to share your analyses, you could use a separate script (which you don't share) to fetch the data and save it locally, then use a second notebook (with no API access) to load and analyse the locally stored data"
   ]
  },
  {
   "cell_type": "markdown",
   "metadata": {
    "colab_type": "text",
    "id": "Ln30k0pZJhQp"
   },
   "source": [
    "### 5. Exploring the API"
   ]
  },
  {
   "cell_type": "markdown",
   "metadata": {
    "colab_type": "text",
    "id": "6fsc0U1nJhQq"
   },
   "source": [
    "Here is how to connect to Twitter using the Tweepy library:"
   ]
  },
  {
   "cell_type": "code",
   "execution_count": 5,
   "metadata": {
    "colab": {},
    "colab_type": "code",
    "id": "-y_4GBx1JhQr"
   },
   "outputs": [],
   "source": [
    "auth = tweepy.OAuthHandler(my_consumer_key, my_consumer_secret)\n",
    "auth.set_access_token(my_access_token, my_access_token_secret)\n",
    "api = tweepy.API(auth)"
   ]
  },
  {
   "cell_type": "markdown",
   "metadata": {
    "colab_type": "text",
    "id": "wSKzR9LdJhQu"
   },
   "source": [
    "In the next cell, put the cursor after the '.' and hit the [tab] key to see the available members and methods in the response object:"
   ]
  },
  {
   "cell_type": "markdown",
   "metadata": {
    "colab_type": "text",
    "id": "DcJ-cc6zJhQz"
   },
   "source": [
    "Consult the Tweept and Twitter API documentation. Print a few of the response members below:"
   ]
  },
  {
   "cell_type": "code",
   "execution_count": 6,
   "metadata": {
    "scrolled": false
   },
   "outputs": [
    {
     "name": "stdout",
     "output_type": "stream",
     "text": [
      "Hi this is a second test\n",
      "This is a test\n"
     ]
    }
   ],
   "source": [
    "\n",
    "YC_tweets = api.user_timeline()\n",
    "for tweet in YC_tweets:\n",
    "    print(tweet.text)\n"
   ]
  },
  {
   "cell_type": "code",
   "execution_count": 7,
   "metadata": {
    "scrolled": true
   },
   "outputs": [
    {
     "data": {
      "text/plain": [
       "{'id': 42562446,\n",
       " 'id_str': '42562446',\n",
       " 'name': 'Stephen Curry',\n",
       " 'screen_name': 'StephenCurry30',\n",
       " 'location': 'Worldwide',\n",
       " 'profile_location': None,\n",
       " 'description': 'Believer. Husband to @ayeshacurry, father to Riley, Ryan and Canon, son, brother. Warriors guard. Davidson Wildcat. Philippians 4:13 #ChangeTheGameForGood',\n",
       " 'url': 'https://t.co/XHDgFj4LI5',\n",
       " 'entities': {'url': {'urls': [{'url': 'https://t.co/XHDgFj4LI5',\n",
       "     'expanded_url': 'https://www.underarmour.com/en-us/t/currybrand/',\n",
       "     'display_url': 'underarmour.com/en-us/t/curryb…',\n",
       "     'indices': [0, 23]}]},\n",
       "  'description': {'urls': []}},\n",
       " 'protected': False,\n",
       " 'followers_count': 15314259,\n",
       " 'friends_count': 815,\n",
       " 'listed_count': 14815,\n",
       " 'created_at': 'Tue May 26 04:15:37 +0000 2009',\n",
       " 'favourites_count': 820,\n",
       " 'utc_offset': None,\n",
       " 'time_zone': None,\n",
       " 'geo_enabled': True,\n",
       " 'verified': True,\n",
       " 'statuses_count': 7503,\n",
       " 'lang': None,\n",
       " 'status': {'created_at': 'Wed Jun 23 19:05:17 +0000 2021',\n",
       "  'id': 1407776793407504386,\n",
       "  'id_str': '1407776793407504386',\n",
       "  'text': 'Let’s gooooooo! @underrated Tour is BACK baby! Make your mark, sign up and #stayunderrated. 😤 @Rakuten https://t.co/oJ9SjAO4Pj',\n",
       "  'truncated': False,\n",
       "  'entities': {'hashtags': [{'text': 'stayunderrated', 'indices': [75, 90]}],\n",
       "   'symbols': [],\n",
       "   'user_mentions': [{'screen_name': 'underrated',\n",
       "     'name': 'Underrated Tour',\n",
       "     'id': 969691678734016513,\n",
       "     'id_str': '969691678734016513',\n",
       "     'indices': [16, 27]},\n",
       "    {'screen_name': 'Rakuten',\n",
       "     'name': 'Rakuten',\n",
       "     'id': 18027568,\n",
       "     'id_str': '18027568',\n",
       "     'indices': [94, 102]}],\n",
       "   'urls': [{'url': 'https://t.co/oJ9SjAO4Pj',\n",
       "     'expanded_url': 'https://twitter.com/underrated/status/1407760910597332994',\n",
       "     'display_url': 'twitter.com/underrated/sta…',\n",
       "     'indices': [103, 126]}]},\n",
       "  'source': '<a href=\"https://mobile.twitter.com\" rel=\"nofollow\">Twitter Web App</a>',\n",
       "  'in_reply_to_status_id': None,\n",
       "  'in_reply_to_status_id_str': None,\n",
       "  'in_reply_to_user_id': None,\n",
       "  'in_reply_to_user_id_str': None,\n",
       "  'in_reply_to_screen_name': None,\n",
       "  'geo': None,\n",
       "  'coordinates': None,\n",
       "  'place': None,\n",
       "  'contributors': None,\n",
       "  'is_quote_status': True,\n",
       "  'quoted_status_id': 1407760910597332994,\n",
       "  'quoted_status_id_str': '1407760910597332994',\n",
       "  'retweet_count': 139,\n",
       "  'favorite_count': 1984,\n",
       "  'favorited': False,\n",
       "  'retweeted': False,\n",
       "  'possibly_sensitive': False,\n",
       "  'lang': 'en'},\n",
       " 'contributors_enabled': False,\n",
       " 'is_translator': False,\n",
       " 'is_translation_enabled': True,\n",
       " 'profile_background_color': 'C0DEED',\n",
       " 'profile_background_image_url': 'http://abs.twimg.com/images/themes/theme1/bg.png',\n",
       " 'profile_background_image_url_https': 'https://abs.twimg.com/images/themes/theme1/bg.png',\n",
       " 'profile_background_tile': False,\n",
       " 'profile_image_url': 'http://pbs.twimg.com/profile_images/1221629746234060800/wNXHLb8J_normal.jpg',\n",
       " 'profile_image_url_https': 'https://pbs.twimg.com/profile_images/1221629746234060800/wNXHLb8J_normal.jpg',\n",
       " 'profile_banner_url': 'https://pbs.twimg.com/profile_banners/42562446/1580094204',\n",
       " 'profile_link_color': '0084B4',\n",
       " 'profile_sidebar_border_color': 'FFFFFF',\n",
       " 'profile_sidebar_fill_color': 'DDEEF6',\n",
       " 'profile_text_color': '333333',\n",
       " 'profile_use_background_image': True,\n",
       " 'has_extended_profile': False,\n",
       " 'default_profile': False,\n",
       " 'default_profile_image': False,\n",
       " 'following': False,\n",
       " 'follow_request_sent': False,\n",
       " 'notifications': False,\n",
       " 'translator_type': 'none',\n",
       " 'withheld_in_countries': []}"
      ]
     },
     "execution_count": 7,
     "metadata": {},
     "output_type": "execute_result"
    }
   ],
   "source": [
    "api.get_user('StephenCurry30')._json"
   ]
  },
  {
   "cell_type": "code",
   "execution_count": 8,
   "metadata": {},
   "outputs": [
    {
     "data": {
      "text/plain": [
       "User(_api=<tweepy.api.API object at 0x0000000005888130>, _json={'id': 1407852507963879425, 'id_str': '1407852507963879425', 'name': 'Yuan Chan', 'screen_name': 'YuanCha12985333', 'location': '', 'profile_location': None, 'description': '', 'url': None, 'entities': {'description': {'urls': []}}, 'protected': False, 'followers_count': 0, 'friends_count': 1, 'listed_count': 0, 'created_at': 'Thu Jun 24 00:06:17 +0000 2021', 'favourites_count': 0, 'utc_offset': None, 'time_zone': None, 'geo_enabled': False, 'verified': False, 'statuses_count': 2, 'lang': None, 'status': {'created_at': 'Thu Jun 24 04:17:23 +0000 2021', 'id': 1407915734982807557, 'id_str': '1407915734982807557', 'text': 'Hi this is a second test', 'truncated': False, 'entities': {'hashtags': [], 'symbols': [], 'user_mentions': [], 'urls': []}, 'source': '<a href=\"https://mobile.twitter.com\" rel=\"nofollow\">Twitter Web App</a>', 'in_reply_to_status_id': None, 'in_reply_to_status_id_str': None, 'in_reply_to_user_id': None, 'in_reply_to_user_id_str': None, 'in_reply_to_screen_name': None, 'geo': None, 'coordinates': None, 'place': None, 'contributors': None, 'is_quote_status': False, 'retweet_count': 0, 'favorite_count': 0, 'favorited': False, 'retweeted': False, 'lang': 'en'}, 'contributors_enabled': False, 'is_translator': False, 'is_translation_enabled': False, 'profile_background_color': 'F5F8FA', 'profile_background_image_url': None, 'profile_background_image_url_https': None, 'profile_background_tile': False, 'profile_image_url': 'http://abs.twimg.com/sticky/default_profile_images/default_profile_normal.png', 'profile_image_url_https': 'https://abs.twimg.com/sticky/default_profile_images/default_profile_normal.png', 'profile_link_color': '1DA1F2', 'profile_sidebar_border_color': 'C0DEED', 'profile_sidebar_fill_color': 'DDEEF6', 'profile_text_color': '333333', 'profile_use_background_image': True, 'has_extended_profile': True, 'default_profile': True, 'default_profile_image': True, 'following': False, 'follow_request_sent': False, 'notifications': False, 'translator_type': 'none', 'withheld_in_countries': [], 'suspended': False, 'needs_phone_verification': False}, id=1407852507963879425, id_str='1407852507963879425', name='Yuan Chan', screen_name='YuanCha12985333', location='', profile_location=None, description='', url=None, entities={'description': {'urls': []}}, protected=False, followers_count=0, friends_count=1, listed_count=0, created_at=datetime.datetime(2021, 6, 24, 0, 6, 17), favourites_count=0, utc_offset=None, time_zone=None, geo_enabled=False, verified=False, statuses_count=2, lang=None, status=Status(_api=<tweepy.api.API object at 0x0000000005888130>, _json={'created_at': 'Thu Jun 24 04:17:23 +0000 2021', 'id': 1407915734982807557, 'id_str': '1407915734982807557', 'text': 'Hi this is a second test', 'truncated': False, 'entities': {'hashtags': [], 'symbols': [], 'user_mentions': [], 'urls': []}, 'source': '<a href=\"https://mobile.twitter.com\" rel=\"nofollow\">Twitter Web App</a>', 'in_reply_to_status_id': None, 'in_reply_to_status_id_str': None, 'in_reply_to_user_id': None, 'in_reply_to_user_id_str': None, 'in_reply_to_screen_name': None, 'geo': None, 'coordinates': None, 'place': None, 'contributors': None, 'is_quote_status': False, 'retweet_count': 0, 'favorite_count': 0, 'favorited': False, 'retweeted': False, 'lang': 'en'}, created_at=datetime.datetime(2021, 6, 24, 4, 17, 23), id=1407915734982807557, id_str='1407915734982807557', text='Hi this is a second test', truncated=False, entities={'hashtags': [], 'symbols': [], 'user_mentions': [], 'urls': []}, source='Twitter Web App', source_url='https://mobile.twitter.com', in_reply_to_status_id=None, in_reply_to_status_id_str=None, in_reply_to_user_id=None, in_reply_to_user_id_str=None, in_reply_to_screen_name=None, geo=None, coordinates=None, place=None, contributors=None, is_quote_status=False, retweet_count=0, favorite_count=0, favorited=False, retweeted=False, lang='en'), contributors_enabled=False, is_translator=False, is_translation_enabled=False, profile_background_color='F5F8FA', profile_background_image_url=None, profile_background_image_url_https=None, profile_background_tile=False, profile_image_url='http://abs.twimg.com/sticky/default_profile_images/default_profile_normal.png', profile_image_url_https='https://abs.twimg.com/sticky/default_profile_images/default_profile_normal.png', profile_link_color='1DA1F2', profile_sidebar_border_color='C0DEED', profile_sidebar_fill_color='DDEEF6', profile_text_color='333333', profile_use_background_image=True, has_extended_profile=True, default_profile=True, default_profile_image=True, following=False, follow_request_sent=False, notifications=False, translator_type='none', withheld_in_countries=[], suspended=False, needs_phone_verification=False)"
      ]
     },
     "execution_count": 8,
     "metadata": {},
     "output_type": "execute_result"
    }
   ],
   "source": [
    "api.me()"
   ]
  },
  {
   "cell_type": "markdown",
   "metadata": {
    "colab_type": "text",
    "id": "dLkdLKjLJhQ3"
   },
   "source": [
    "This will fetch recent tweets from accounts you follow:"
   ]
  },
  {
   "cell_type": "code",
   "execution_count": 9,
   "metadata": {
    "colab": {},
    "colab_type": "code",
    "id": "l9y8t3X7JhQ4",
    "scrolled": true
   },
   "outputs": [
    {
     "name": "stdout",
     "output_type": "stream",
     "text": [
      "'I'm a critical witness': Crown whistleblower questions why royal commissions haven't called her to give evidence https://t.co/x1CB5ChBzW\n",
      "Pedestrian bridge caves in over a highway in Washington DC https://t.co/6hXXrWyA7Z\n",
      "Hi this is a second test\n",
      "Murderer who cut up friend's body argues 32-year jail term too long   https://t.co/X5LUMDy99Y\n",
      "'We do not want another Syria at the heart of Asia': Government urged to consider sanctions, permanent residency af… https://t.co/oUaMOOYlHs\n",
      "#ANALYSIS: Germany struggling along, but looking forward to Wembley showdown https://t.co/VjbUND36Rx\n",
      "Here's how South Australia's new voluntary assisted dying legislation will work https://t.co/LNriKca4Ei\n",
      "This is a test\n",
      "How one of the first tech millionaires became a wanted man before dying in a Spanish prison https://t.co/o43oyjSSa6\n",
      "'We're in shock': Couple 'elated' quarantine exemption granted to see dying father in Gold Coast hospital https://t.co/Wc5XTaR0co\n",
      "'Best day ever': Woman becomes first Capitol rioter to be sentenced as Oath Keeper pleads guilty https://t.co/31CE5VoLCr\n",
      "Four in hospital after explosion at Melbourne CBD construction site https://t.co/B3QcUJhWbG\n",
      "NSW Parliament House shuts it doors as COVID-19 exposure sites continue to grow https://t.co/UOWpFpdLQQ\n",
      "Turnbull calls for NSW Parliamentary inquiry into mine remediation bonds https://t.co/dWPJhOfzFy\n",
      "The Sisters of Invention set to break through at Adelaide Cabaret Festival in 2021 https://t.co/NZbiJMesy8\n",
      "Voluntary assisted dying to become law in South Australia as euthanasia bill passes Parliament https://t.co/hFqnVnQ96I\n",
      "Who has power over Britney Spears's medical decisions? https://t.co/grMz66JdPV\n",
      "Missing Norwegian diver feared dead as search off Stradbroke Island finds no sign of him https://t.co/oMecO16mEW\n",
      "CLP Senator’s office says ‘fictional’ claims she was drunk in Senate are politically motivated https://t.co/Ha7761EX8B\n"
     ]
    }
   ],
   "source": [
    "# Recent tweets from accounts you follow:\n",
    "tweets = api.home_timeline()\n",
    "for tweet in tweets:\n",
    "    print(tweet.text)"
   ]
  },
  {
   "cell_type": "markdown",
   "metadata": {
    "colab_type": "text",
    "id": "k2NpPlOIJhQ6"
   },
   "source": [
    "The request to see your own recent tweets is similar, but uses the `user_timeline` endpoint. Try this below:"
   ]
  },
  {
   "cell_type": "code",
   "execution_count": 10,
   "metadata": {
    "colab": {},
    "colab_type": "code",
    "id": "QMlhdx5NJhQ6"
   },
   "outputs": [
    {
     "name": "stdout",
     "output_type": "stream",
     "text": [
      "Hi this is a second test\n",
      "This is a test\n"
     ]
    }
   ],
   "source": [
    "tweets = api.user_timeline()\n",
    "for tweet in tweets:\n",
    "    print(tweet.text)"
   ]
  },
  {
   "cell_type": "markdown",
   "metadata": {
    "colab_type": "text",
    "id": "qY7oM-lJJhQ8"
   },
   "source": [
    "Now, instead of printing the text of each tweet, print the `created_at` and `id_str` methods:"
   ]
  },
  {
   "cell_type": "code",
   "execution_count": 16,
   "metadata": {
    "colab": {},
    "colab_type": "code",
    "id": "aUOlNdG8JhQ9"
   },
   "outputs": [
    {
     "name": "stdout",
     "output_type": "stream",
     "text": [
      "2021-06-24 05:09:55\n",
      "2021-06-24 04:17:23\n"
     ]
    }
   ],
   "source": [
    "tweets = api.user_timeline()\n",
    "for tweet in tweets:\n",
    "    print(tweet.created_at)"
   ]
  },
  {
   "cell_type": "code",
   "execution_count": 22,
   "metadata": {},
   "outputs": [],
   "source": [
    "tweets = api.user_timeline()\n",
    "for tweet in tweets:\n",
    "    print(tweet.id_str)"
   ]
  },
  {
   "cell_type": "markdown",
   "metadata": {
    "colab_type": "text",
    "id": "3PibchrmJhQ-"
   },
   "source": [
    "You can create a tweet as follows:"
   ]
  },
  {
   "cell_type": "code",
   "execution_count": 25,
   "metadata": {
    "colab": {},
    "colab_type": "code",
    "id": "IwzTjf1gJhQ_"
   },
   "outputs": [],
   "source": [
    "# create a tweet:\n",
    "tweet = api.update_status('hi there everybody')"
   ]
  },
  {
   "cell_type": "markdown",
   "metadata": {
    "colab_type": "text",
    "id": "TtlXvbjoJhRB"
   },
   "source": [
    "(Nb. Don't abuse this feature! If you try to generate a zillion tweets in a loop, Twitter will ban youur account.)"
   ]
  },
  {
   "cell_type": "markdown",
   "metadata": {
    "colab_type": "text",
    "id": "awUIiruTJhRB"
   },
   "source": [
    "Tweets can be deleted by reference to their `id_str` attribute:"
   ]
  },
  {
   "cell_type": "code",
   "execution_count": 20,
   "metadata": {
    "colab": {},
    "colab_type": "code",
    "id": "tKPSCOEBJhRC"
   },
   "outputs": [],
   "source": [
    "# delete a tweet:\n",
    "status = api.destroy_status(1407928952828547073)"
   ]
  },
  {
   "cell_type": "markdown",
   "metadata": {
    "colab_type": "text",
    "id": "hEt9NWJBJhRE"
   },
   "source": [
    "You can follow a Tweeter:"
   ]
  },
  {
   "cell_type": "code",
   "execution_count": 21,
   "metadata": {
    "colab": {},
    "colab_type": "code",
    "id": "CDWxR8wOJhRF"
   },
   "outputs": [
    {
     "data": {
      "text/plain": [
       "User(_api=<tweepy.api.API object at 0x0000000005888130>, _json={'id': 2895119093, 'id_str': '2895119093', 'name': 'Timo Boll FanPage', 'screen_name': 'BollFanpage', 'location': '', 'description': 'All the matches, results and latest news about the best european player of all time. -- Since 27th November 2014', 'url': 'https://t.co/aK8sFgSZcW', 'entities': {'url': {'urls': [{'url': 'https://t.co/aK8sFgSZcW', 'expanded_url': 'https://www.facebook.com/timoboll', 'display_url': 'facebook.com/timoboll', 'indices': [0, 23]}]}, 'description': {'urls': []}}, 'protected': False, 'followers_count': 534, 'friends_count': 61, 'listed_count': 2, 'created_at': 'Thu Nov 27 20:48:19 +0000 2014', 'favourites_count': 710, 'utc_offset': None, 'time_zone': None, 'geo_enabled': False, 'verified': False, 'statuses_count': 2596, 'lang': None, 'status': {'created_at': 'Wed Jun 09 11:07:53 +0000 2021', 'id': 1402583220038811649, 'id_str': '1402583220038811649', 'text': '#TimoBoll after the game:\\n\\n“Anton Källberg has became a fantastic player. He held the team in every important momen… https://t.co/rGqgGxpc2B', 'truncated': True, 'entities': {'hashtags': [{'text': 'TimoBoll', 'indices': [0, 9]}], 'symbols': [], 'user_mentions': [], 'urls': [{'url': 'https://t.co/rGqgGxpc2B', 'expanded_url': 'https://twitter.com/i/web/status/1402583220038811649', 'display_url': 'twitter.com/i/web/status/1…', 'indices': [117, 140]}]}, 'source': '<a href=\"http://twitter.com/download/iphone\" rel=\"nofollow\">Twitter for iPhone</a>', 'in_reply_to_status_id': 1402579883830779904, 'in_reply_to_status_id_str': '1402579883830779904', 'in_reply_to_user_id': 2895119093, 'in_reply_to_user_id_str': '2895119093', 'in_reply_to_screen_name': 'BollFanpage', 'geo': None, 'coordinates': None, 'place': None, 'contributors': None, 'is_quote_status': False, 'retweet_count': 0, 'favorite_count': 1, 'favorited': False, 'retweeted': False, 'lang': 'en'}, 'contributors_enabled': False, 'is_translator': False, 'is_translation_enabled': False, 'profile_background_color': '000000', 'profile_background_image_url': 'http://abs.twimg.com/images/themes/theme1/bg.png', 'profile_background_image_url_https': 'https://abs.twimg.com/images/themes/theme1/bg.png', 'profile_background_tile': False, 'profile_image_url': 'http://pbs.twimg.com/profile_images/1120725119293370369/rF3xYc_k_normal.png', 'profile_image_url_https': 'https://pbs.twimg.com/profile_images/1120725119293370369/rF3xYc_k_normal.png', 'profile_banner_url': 'https://pbs.twimg.com/profile_banners/2895119093/1551553161', 'profile_link_color': '3B94D9', 'profile_sidebar_border_color': '000000', 'profile_sidebar_fill_color': '000000', 'profile_text_color': '000000', 'profile_use_background_image': False, 'has_extended_profile': True, 'default_profile': False, 'default_profile_image': False, 'following': False, 'follow_request_sent': False, 'notifications': False, 'muting': False, 'translator_type': 'none', 'withheld_in_countries': []}, id=2895119093, id_str='2895119093', name='Timo Boll FanPage', screen_name='BollFanpage', location='', description='All the matches, results and latest news about the best european player of all time. -- Since 27th November 2014', url='https://t.co/aK8sFgSZcW', entities={'url': {'urls': [{'url': 'https://t.co/aK8sFgSZcW', 'expanded_url': 'https://www.facebook.com/timoboll', 'display_url': 'facebook.com/timoboll', 'indices': [0, 23]}]}, 'description': {'urls': []}}, protected=False, followers_count=534, friends_count=61, listed_count=2, created_at=datetime.datetime(2014, 11, 27, 20, 48, 19), favourites_count=710, utc_offset=None, time_zone=None, geo_enabled=False, verified=False, statuses_count=2596, lang=None, status=Status(_api=<tweepy.api.API object at 0x0000000005888130>, _json={'created_at': 'Wed Jun 09 11:07:53 +0000 2021', 'id': 1402583220038811649, 'id_str': '1402583220038811649', 'text': '#TimoBoll after the game:\\n\\n“Anton Källberg has became a fantastic player. He held the team in every important momen… https://t.co/rGqgGxpc2B', 'truncated': True, 'entities': {'hashtags': [{'text': 'TimoBoll', 'indices': [0, 9]}], 'symbols': [], 'user_mentions': [], 'urls': [{'url': 'https://t.co/rGqgGxpc2B', 'expanded_url': 'https://twitter.com/i/web/status/1402583220038811649', 'display_url': 'twitter.com/i/web/status/1…', 'indices': [117, 140]}]}, 'source': '<a href=\"http://twitter.com/download/iphone\" rel=\"nofollow\">Twitter for iPhone</a>', 'in_reply_to_status_id': 1402579883830779904, 'in_reply_to_status_id_str': '1402579883830779904', 'in_reply_to_user_id': 2895119093, 'in_reply_to_user_id_str': '2895119093', 'in_reply_to_screen_name': 'BollFanpage', 'geo': None, 'coordinates': None, 'place': None, 'contributors': None, 'is_quote_status': False, 'retweet_count': 0, 'favorite_count': 1, 'favorited': False, 'retweeted': False, 'lang': 'en'}, created_at=datetime.datetime(2021, 6, 9, 11, 7, 53), id=1402583220038811649, id_str='1402583220038811649', text='#TimoBoll after the game:\\n\\n“Anton Källberg has became a fantastic player. He held the team in every important momen… https://t.co/rGqgGxpc2B', truncated=True, entities={'hashtags': [{'text': 'TimoBoll', 'indices': [0, 9]}], 'symbols': [], 'user_mentions': [], 'urls': [{'url': 'https://t.co/rGqgGxpc2B', 'expanded_url': 'https://twitter.com/i/web/status/1402583220038811649', 'display_url': 'twitter.com/i/web/status/1…', 'indices': [117, 140]}]}, source='Twitter for iPhone', source_url='http://twitter.com/download/iphone', in_reply_to_status_id=1402579883830779904, in_reply_to_status_id_str='1402579883830779904', in_reply_to_user_id=2895119093, in_reply_to_user_id_str='2895119093', in_reply_to_screen_name='BollFanpage', geo=None, coordinates=None, place=None, contributors=None, is_quote_status=False, retweet_count=0, favorite_count=1, favorited=False, retweeted=False, lang='en'), contributors_enabled=False, is_translator=False, is_translation_enabled=False, profile_background_color='000000', profile_background_image_url='http://abs.twimg.com/images/themes/theme1/bg.png', profile_background_image_url_https='https://abs.twimg.com/images/themes/theme1/bg.png', profile_background_tile=False, profile_image_url='http://pbs.twimg.com/profile_images/1120725119293370369/rF3xYc_k_normal.png', profile_image_url_https='https://pbs.twimg.com/profile_images/1120725119293370369/rF3xYc_k_normal.png', profile_banner_url='https://pbs.twimg.com/profile_banners/2895119093/1551553161', profile_link_color='3B94D9', profile_sidebar_border_color='000000', profile_sidebar_fill_color='000000', profile_text_color='000000', profile_use_background_image=False, has_extended_profile=True, default_profile=False, default_profile_image=False, following=False, follow_request_sent=False, notifications=False, muting=False, translator_type='none', withheld_in_countries=[])"
      ]
     },
     "execution_count": 21,
     "metadata": {},
     "output_type": "execute_result"
    }
   ],
   "source": [
    "# follow:\n",
    "api.create_friendship('BollFanpage')"
   ]
  },
  {
   "cell_type": "markdown",
   "metadata": {
    "colab_type": "text",
    "id": "Nbp2vRONJhRH"
   },
   "source": [
    "or unfollow:"
   ]
  },
  {
   "cell_type": "code",
   "execution_count": 23,
   "metadata": {
    "colab": {},
    "colab_type": "code",
    "id": "wCsNNVT9JhRH"
   },
   "outputs": [
    {
     "data": {
      "text/plain": [
       "User(_api=<tweepy.api.API object at 0x0000000005888130>, _json={'id': 2895119093, 'id_str': '2895119093', 'name': 'Timo Boll FanPage', 'screen_name': 'BollFanpage', 'location': '', 'description': 'All the matches, results and latest news about the best european player of all time. -- Since 27th November 2014', 'url': 'https://t.co/aK8sFgSZcW', 'entities': {'url': {'urls': [{'url': 'https://t.co/aK8sFgSZcW', 'expanded_url': 'https://www.facebook.com/timoboll', 'display_url': 'facebook.com/timoboll', 'indices': [0, 23]}]}, 'description': {'urls': []}}, 'protected': False, 'followers_count': 533, 'friends_count': 61, 'listed_count': 2, 'created_at': 'Thu Nov 27 20:48:19 +0000 2014', 'favourites_count': 710, 'utc_offset': None, 'time_zone': None, 'geo_enabled': False, 'verified': False, 'statuses_count': 2596, 'lang': None, 'status': {'created_at': 'Wed Jun 09 11:07:53 +0000 2021', 'id': 1402583220038811649, 'id_str': '1402583220038811649', 'text': '#TimoBoll after the game:\\n\\n“Anton Källberg has became a fantastic player. He held the team in every important momen… https://t.co/rGqgGxpc2B', 'truncated': True, 'entities': {'hashtags': [{'text': 'TimoBoll', 'indices': [0, 9]}], 'symbols': [], 'user_mentions': [], 'urls': [{'url': 'https://t.co/rGqgGxpc2B', 'expanded_url': 'https://twitter.com/i/web/status/1402583220038811649', 'display_url': 'twitter.com/i/web/status/1…', 'indices': [117, 140]}]}, 'source': '<a href=\"http://twitter.com/download/iphone\" rel=\"nofollow\">Twitter for iPhone</a>', 'in_reply_to_status_id': 1402579883830779904, 'in_reply_to_status_id_str': '1402579883830779904', 'in_reply_to_user_id': 2895119093, 'in_reply_to_user_id_str': '2895119093', 'in_reply_to_screen_name': 'BollFanpage', 'geo': None, 'coordinates': None, 'place': None, 'contributors': None, 'is_quote_status': False, 'retweet_count': 0, 'favorite_count': 1, 'favorited': False, 'retweeted': False, 'lang': 'en'}, 'contributors_enabled': False, 'is_translator': False, 'is_translation_enabled': False, 'profile_background_color': '000000', 'profile_background_image_url': 'http://abs.twimg.com/images/themes/theme1/bg.png', 'profile_background_image_url_https': 'https://abs.twimg.com/images/themes/theme1/bg.png', 'profile_background_tile': False, 'profile_image_url': 'http://pbs.twimg.com/profile_images/1120725119293370369/rF3xYc_k_normal.png', 'profile_image_url_https': 'https://pbs.twimg.com/profile_images/1120725119293370369/rF3xYc_k_normal.png', 'profile_banner_url': 'https://pbs.twimg.com/profile_banners/2895119093/1551553161', 'profile_link_color': '3B94D9', 'profile_sidebar_border_color': '000000', 'profile_sidebar_fill_color': '000000', 'profile_text_color': '000000', 'profile_use_background_image': False, 'has_extended_profile': True, 'default_profile': False, 'default_profile_image': False, 'following': True, 'follow_request_sent': False, 'notifications': False, 'muting': False, 'translator_type': 'none', 'withheld_in_countries': []}, id=2895119093, id_str='2895119093', name='Timo Boll FanPage', screen_name='BollFanpage', location='', description='All the matches, results and latest news about the best european player of all time. -- Since 27th November 2014', url='https://t.co/aK8sFgSZcW', entities={'url': {'urls': [{'url': 'https://t.co/aK8sFgSZcW', 'expanded_url': 'https://www.facebook.com/timoboll', 'display_url': 'facebook.com/timoboll', 'indices': [0, 23]}]}, 'description': {'urls': []}}, protected=False, followers_count=533, friends_count=61, listed_count=2, created_at=datetime.datetime(2014, 11, 27, 20, 48, 19), favourites_count=710, utc_offset=None, time_zone=None, geo_enabled=False, verified=False, statuses_count=2596, lang=None, status=Status(_api=<tweepy.api.API object at 0x0000000005888130>, _json={'created_at': 'Wed Jun 09 11:07:53 +0000 2021', 'id': 1402583220038811649, 'id_str': '1402583220038811649', 'text': '#TimoBoll after the game:\\n\\n“Anton Källberg has became a fantastic player. He held the team in every important momen… https://t.co/rGqgGxpc2B', 'truncated': True, 'entities': {'hashtags': [{'text': 'TimoBoll', 'indices': [0, 9]}], 'symbols': [], 'user_mentions': [], 'urls': [{'url': 'https://t.co/rGqgGxpc2B', 'expanded_url': 'https://twitter.com/i/web/status/1402583220038811649', 'display_url': 'twitter.com/i/web/status/1…', 'indices': [117, 140]}]}, 'source': '<a href=\"http://twitter.com/download/iphone\" rel=\"nofollow\">Twitter for iPhone</a>', 'in_reply_to_status_id': 1402579883830779904, 'in_reply_to_status_id_str': '1402579883830779904', 'in_reply_to_user_id': 2895119093, 'in_reply_to_user_id_str': '2895119093', 'in_reply_to_screen_name': 'BollFanpage', 'geo': None, 'coordinates': None, 'place': None, 'contributors': None, 'is_quote_status': False, 'retweet_count': 0, 'favorite_count': 1, 'favorited': False, 'retweeted': False, 'lang': 'en'}, created_at=datetime.datetime(2021, 6, 9, 11, 7, 53), id=1402583220038811649, id_str='1402583220038811649', text='#TimoBoll after the game:\\n\\n“Anton Källberg has became a fantastic player. He held the team in every important momen… https://t.co/rGqgGxpc2B', truncated=True, entities={'hashtags': [{'text': 'TimoBoll', 'indices': [0, 9]}], 'symbols': [], 'user_mentions': [], 'urls': [{'url': 'https://t.co/rGqgGxpc2B', 'expanded_url': 'https://twitter.com/i/web/status/1402583220038811649', 'display_url': 'twitter.com/i/web/status/1…', 'indices': [117, 140]}]}, source='Twitter for iPhone', source_url='http://twitter.com/download/iphone', in_reply_to_status_id=1402579883830779904, in_reply_to_status_id_str='1402579883830779904', in_reply_to_user_id=2895119093, in_reply_to_user_id_str='2895119093', in_reply_to_screen_name='BollFanpage', geo=None, coordinates=None, place=None, contributors=None, is_quote_status=False, retweet_count=0, favorite_count=1, favorited=False, retweeted=False, lang='en'), contributors_enabled=False, is_translator=False, is_translation_enabled=False, profile_background_color='000000', profile_background_image_url='http://abs.twimg.com/images/themes/theme1/bg.png', profile_background_image_url_https='https://abs.twimg.com/images/themes/theme1/bg.png', profile_background_tile=False, profile_image_url='http://pbs.twimg.com/profile_images/1120725119293370369/rF3xYc_k_normal.png', profile_image_url_https='https://pbs.twimg.com/profile_images/1120725119293370369/rF3xYc_k_normal.png', profile_banner_url='https://pbs.twimg.com/profile_banners/2895119093/1551553161', profile_link_color='3B94D9', profile_sidebar_border_color='000000', profile_sidebar_fill_color='000000', profile_text_color='000000', profile_use_background_image=False, has_extended_profile=True, default_profile=False, default_profile_image=False, following=True, follow_request_sent=False, notifications=False, muting=False, translator_type='none', withheld_in_countries=[])"
      ]
     },
     "execution_count": 23,
     "metadata": {},
     "output_type": "execute_result"
    }
   ],
   "source": [
    "# unfollow:\n",
    "api.destroy_friendship('BollFanpage')"
   ]
  },
  {
   "cell_type": "code",
   "execution_count": 0,
   "metadata": {
    "colab": {},
    "colab_type": "code",
    "id": "ND4BmdkvJhRJ"
   },
   "outputs": [],
   "source": []
  },
  {
   "cell_type": "markdown",
   "metadata": {
    "colab_type": "text",
    "id": "59l7EOATJrJO"
   },
   "source": [
    "\n",
    "\n",
    "---\n",
    "\n",
    "\n",
    "\n",
    "---\n",
    "\n",
    "\n",
    "\n",
    "> > > > > > > > > © 2021 Institute of Data\n",
    "\n",
    "\n",
    "---\n",
    "\n",
    "\n",
    "\n",
    "---\n",
    "\n",
    "\n",
    "\n"
   ]
  }
 ],
 "metadata": {
  "colab": {
   "collapsed_sections": [],
   "name": "DSIA Lab 2.2.2.ipynb",
   "provenance": []
  },
  "kernelspec": {
   "display_name": "Python 3",
   "language": "python",
   "name": "python3"
  },
  "language_info": {
   "codemirror_mode": {
    "name": "ipython",
    "version": 3
   },
   "file_extension": ".py",
   "mimetype": "text/x-python",
   "name": "python",
   "nbconvert_exporter": "python",
   "pygments_lexer": "ipython3",
   "version": "3.8.8"
  }
 },
 "nbformat": 4,
 "nbformat_minor": 1
}
